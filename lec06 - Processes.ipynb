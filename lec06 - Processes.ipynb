{
 "cells": [
  {
   "cell_type": "markdown",
   "metadata": {
    "collapsed": true
   },
   "source": [
    "### Лекция 6 - Процессы\n",
    "\n",
    "- аргументы командной строки, модуль sys\n",
    "- модуль argparse\n",
    "- модуль ConfigParser\n",
    "- модуль subprocess\n",
    "- перенаправление потоков ввода-вывода"
   ]
  },
  {
   "cell_type": "code",
   "execution_count": 1,
   "metadata": {
    "collapsed": false
   },
   "outputs": [
    {
     "data": {
      "text/plain": [
       "['__displayhook__',\n",
       " '__doc__',\n",
       " '__excepthook__',\n",
       " '__interactivehook__',\n",
       " '__loader__',\n",
       " '__name__',\n",
       " '__package__',\n",
       " '__spec__',\n",
       " '__stderr__',\n",
       " '__stdin__',\n",
       " '__stdout__',\n",
       " '_clear_type_cache',\n",
       " '_current_frames',\n",
       " '_debugmallocstats',\n",
       " '_getframe',\n",
       " '_home',\n",
       " '_mercurial',\n",
       " '_xoptions',\n",
       " 'api_version',\n",
       " 'argv',\n",
       " 'base_exec_prefix',\n",
       " 'base_prefix',\n",
       " 'builtin_module_names',\n",
       " 'byteorder',\n",
       " 'call_tracing',\n",
       " 'callstats',\n",
       " 'copyright',\n",
       " 'displayhook',\n",
       " 'dllhandle',\n",
       " 'dont_write_bytecode',\n",
       " 'exc_info',\n",
       " 'excepthook',\n",
       " 'exec_prefix',\n",
       " 'executable',\n",
       " 'exit',\n",
       " 'flags',\n",
       " 'float_info',\n",
       " 'float_repr_style',\n",
       " 'get_coroutine_wrapper',\n",
       " 'getallocatedblocks',\n",
       " 'getcheckinterval',\n",
       " 'getdefaultencoding',\n",
       " 'getfilesystemencoding',\n",
       " 'getprofile',\n",
       " 'getrecursionlimit',\n",
       " 'getrefcount',\n",
       " 'getsizeof',\n",
       " 'getswitchinterval',\n",
       " 'gettrace',\n",
       " 'getwindowsversion',\n",
       " 'hash_info',\n",
       " 'hexversion',\n",
       " 'implementation',\n",
       " 'int_info',\n",
       " 'intern',\n",
       " 'is_finalizing',\n",
       " 'maxsize',\n",
       " 'maxunicode',\n",
       " 'meta_path',\n",
       " 'modules',\n",
       " 'path',\n",
       " 'path_hooks',\n",
       " 'path_importer_cache',\n",
       " 'platform',\n",
       " 'prefix',\n",
       " 'ps1',\n",
       " 'ps2',\n",
       " 'ps3',\n",
       " 'set_coroutine_wrapper',\n",
       " 'setcheckinterval',\n",
       " 'setprofile',\n",
       " 'setrecursionlimit',\n",
       " 'setswitchinterval',\n",
       " 'settrace',\n",
       " 'stderr',\n",
       " 'stdin',\n",
       " 'stdout',\n",
       " 'thread_info',\n",
       " 'version',\n",
       " 'version_info',\n",
       " 'warnoptions',\n",
       " 'winver']"
      ]
     },
     "execution_count": 1,
     "metadata": {},
     "output_type": "execute_result"
    }
   ],
   "source": [
    "import sys\n",
    "\n",
    "dir(sys)"
   ]
  },
  {
   "cell_type": "code",
   "execution_count": 2,
   "metadata": {
    "collapsed": false
   },
   "outputs": [
    {
     "data": {
      "text/plain": [
       "'win32'"
      ]
     },
     "execution_count": 2,
     "metadata": {},
     "output_type": "execute_result"
    }
   ],
   "source": [
    "sys.platform"
   ]
  },
  {
   "cell_type": "code",
   "execution_count": 3,
   "metadata": {
    "collapsed": false
   },
   "outputs": [
    {
     "data": {
      "text/plain": [
       "'3.5-32'"
      ]
     },
     "execution_count": 3,
     "metadata": {},
     "output_type": "execute_result"
    }
   ],
   "source": [
    "sys.winver"
   ]
  },
  {
   "cell_type": "code",
   "execution_count": 4,
   "metadata": {
    "collapsed": false
   },
   "outputs": [
    {
     "data": {
      "text/plain": [
       "['D:\\\\DEV\\\\Anaconda3\\\\lib\\\\site-packages\\\\ipykernel\\\\__main__.py',\n",
       " '-f',\n",
       " 'C:\\\\Users\\\\Tim\\\\AppData\\\\Roaming\\\\jupyter\\\\runtime\\\\kernel-05b19385-6175-4d95-9163-7c40d0ec4145.json']"
      ]
     },
     "execution_count": 4,
     "metadata": {},
     "output_type": "execute_result"
    }
   ],
   "source": [
    "sys.argv"
   ]
  },
  {
   "cell_type": "code",
   "execution_count": 5,
   "metadata": {
    "collapsed": false
   },
   "outputs": [
    {
     "name": "stdout",
     "output_type": "stream",
     "text": [
      "import argparse\n",
      "import sys\n",
      "\n",
      "\n",
      "def check_arg(args=None):\n",
      "    ''' parsing demo function '''\n",
      "\n",
      "    parser = argparse.ArgumentParser(\n",
      "        description='Script to learn basic argparse')\n",
      "\n",
      "    parser.add_argument('-H', '--host',\n",
      "                        help='host ip',\n",
      "                        required='True',\n",
      "                        default='localhost')\n",
      "    parser.add_argument('-p', '--port',\n",
      "                        help='port of the web server',\n",
      "                        default='8080')\n",
      "    parser.add_argument('-u', '--user',\n",
      "                        help='user name',\n",
      "                        default='root')\n",
      "    parser.add_argument('-m', '--misc',\n",
      "                        help='miscellaneous',\n",
      "                        action='store_true')\n",
      "\n",
      "    parsed = parser.parse_args(args)\n",
      "    return parsed.host, parsed.port, parsed.user, parsed.misc\n",
      "\n",
      "\n",
      "if __name__ == '__main__':\n",
      "    h, p, u, m = check_arg(sys.argv[1:])\n",
      "    print('host = {}'.format(h))\n",
      "    print('port = {}'.format(p))\n",
      "    print('user = {}'.format(u))\n",
      "    print('misc = {}'.format(m))\n"
     ]
    }
   ],
   "source": [
    "# Далее вызовем сторонний скрипт с аргументами ком. строки.\n",
    "# Вот его содержимое:\n",
    "\n",
    "script = open(r'script\\argparse_demo.py', 'rt')\n",
    "\n",
    "for codeline in script:\n",
    "    print(codeline.rstrip())"
   ]
  },
  {
   "cell_type": "code",
   "execution_count": 6,
   "metadata": {
    "collapsed": false
   },
   "outputs": [
    {
     "name": "stdout",
     "output_type": "stream",
     "text": [
      "host = 127.0.0.1\n",
      "port = 8080\n",
      "user = admin\n",
      "misc = True\n"
     ]
    }
   ],
   "source": [
    "%run script\\argparse_demo.py --host 127.0.0.1 -u admin -m"
   ]
  },
  {
   "cell_type": "code",
   "execution_count": 7,
   "metadata": {
    "collapsed": false
   },
   "outputs": [],
   "source": [
    "# модуль для работы с INI-файлами\n",
    "import configparser\n",
    "\n",
    "config = configparser.ConfigParser()\n",
    "\n",
    "config['NETWORK'] = {'Port': '12087',\n",
    "                     'MaxConnections': '100',\n",
    "                     'Redirect': 'No'}\n",
    "\n",
    "config['LOGGING'] = {}\n",
    "config['LOGGING']['LogFile'] = 'LOG/history.log'\n",
    "config['LOGGING']['AutoClean'] = 'Yes'\n",
    "\n",
    "config['EMAIL'] = {}\n",
    "email = config['EMAIL']\n",
    "email['Address'] = 'foo@bar.baz'\n",
    "email['PeriodDays'] = '7'\n",
    "\n",
    "with open(r'data\\example.ini', 'w') as configfile:\n",
    "    config.write(configfile)"
   ]
  },
  {
   "cell_type": "code",
   "execution_count": 8,
   "metadata": {
    "collapsed": false
   },
   "outputs": [
    {
     "name": "stdout",
     "output_type": "stream",
     "text": [
      "[NETWORK]\n",
      "maxconnections = 100\n",
      "redirect = No\n",
      "port = 12087\n",
      "\n",
      "[LOGGING]\n",
      "logfile = LOG/history.log\n",
      "autoclean = Yes\n",
      "\n",
      "[EMAIL]\n",
      "address = foo@bar.baz\n",
      "perioddays = 7\n",
      "\n"
     ]
    }
   ],
   "source": [
    "for codeline in open(r'data\\example.ini', 'rt'):\n",
    "    print(codeline.rstrip())"
   ]
  },
  {
   "cell_type": "code",
   "execution_count": 9,
   "metadata": {
    "collapsed": false
   },
   "outputs": [
    {
     "data": {
      "text/plain": [
       "['NETWORK', 'LOGGING', 'EMAIL']"
      ]
     },
     "execution_count": 9,
     "metadata": {},
     "output_type": "execute_result"
    }
   ],
   "source": [
    "config = configparser.ConfigParser()\n",
    "config.read(r'data\\example.ini')\n",
    "config.sections()"
   ]
  },
  {
   "cell_type": "code",
   "execution_count": 10,
   "metadata": {
    "collapsed": false
   },
   "outputs": [
    {
     "name": "stdout",
     "output_type": "stream",
     "text": [
      "maxconnections\n",
      "redirect\n",
      "port\n"
     ]
    }
   ],
   "source": [
    "for key in config['NETWORK']:\n",
    "    print(key)"
   ]
  },
  {
   "cell_type": "code",
   "execution_count": 11,
   "metadata": {
    "collapsed": false
   },
   "outputs": [
    {
     "data": {
      "text/plain": [
       "'LOG/history.log'"
      ]
     },
     "execution_count": 11,
     "metadata": {},
     "output_type": "execute_result"
    }
   ],
   "source": [
    "config['LOGGING']['logfile']"
   ]
  },
  {
   "cell_type": "markdown",
   "metadata": {},
   "source": [
    "#### Модуль subprocess"
   ]
  },
  {
   "cell_type": "code",
   "execution_count": 12,
   "metadata": {
    "collapsed": false
   },
   "outputs": [
    {
     "data": {
      "text/plain": [
       "0"
      ]
     },
     "execution_count": 12,
     "metadata": {},
     "output_type": "execute_result"
    }
   ],
   "source": [
    "import subprocess\n",
    "\n",
    "# вызов процесса / консольной команды \n",
    "# (выводящей на экран переменную PATH)\n",
    "# т.к. сам echo является не процессом, \n",
    "# а встроенной командой в shell, то указываем shell=True\n",
    "\n",
    "subprocess.call(r'echo %PATH%', shell=True)\n",
    "\n",
    "# при запуске интерпретатора Python результат отобразится в консоли,\n",
    "# но в ячейки jupyter-тетрадей автоматически не перенаправится"
   ]
  },
  {
   "cell_type": "code",
   "execution_count": 13,
   "metadata": {
    "collapsed": false
   },
   "outputs": [
    {
     "name": "stdout",
     "output_type": "stream",
     "text": [
      "Microsoft Windows [Version 6.1.7601]\r\n",
      "(c) Љ®аЇ®а жЁп Њ ©Єа®б®дв (Microsoft Corp.), 2009. ‚бҐ Їа ў  § йЁйҐ­л.\r\n",
      "\r\n",
      "C:\\Users\\Tim\\Documents\\Python Scripts>CHCP 65001\n",
      "Active code page: 65001\r\n",
      "\r\n",
      "C:\\Users\\Tim\\Documents\\Python Scripts>DIR\n",
      " Volume in drive C has no label.\r\n",
      " Volume Serial Number is 1C3C-244F\r\n",
      "\r\n",
      " Directory of C:\\Users\\Tim\\Documents\\Python Scripts\r\n",
      "\r\n",
      "13.09.2016  16:50    <DIR>          .\r\n",
      "13.09.2016  16:50    <DIR>          ..\r\n",
      "17.08.2016  21:18                55 .gitignore\r\n",
      "13.09.2016  15:58    <DIR>          .ipynb_checkpoints\r\n",
      "07.09.2016  22:37    <DIR>          algo\r\n",
      "13.09.2016  16:46    <DIR>          data\r\n",
      "13.09.2016  14:19             1В 237 Jupyter Intro.ipynb\r\n",
      "07.09.2016  21:39            34В 227 lec01 - Intro.ipynb\r\n",
      "07.09.2016  23:08            66В 940 lec02 - Data types.ipynb\r\n",
      "07.09.2016  22:53            68В 043 lec03 - Modules and packages.ipynb\r\n",
      "29.08.2016  20:58           619В 709 lec04 - Declarative Python, CSharp, Java.pdf\r\n",
      "07.09.2016  23:03            65В 655 lec04 - Elements of functional programming.ipynb\r\n",
      "13.09.2016  12:40            43В 005 lec05 - Working with Files.ipynb\r\n",
      "13.09.2016  16:50            22В 427 lec06 - Processes.ipynb\r\n",
      "11.08.2016  00:27               127 README.md\r\n",
      "13.09.2016  16:13    <DIR>          script\r\n",
      "30.08.2016  22:34            28В 801 Useful Resources.ipynb\r\n",
      "              11 File(s)        950В 226 bytes\r\n",
      "               6 Dir(s)  15В 439В 540В 224 bytes free\r\n",
      "\r\n",
      "C:\\Users\\Tim\\Documents\\Python Scripts>CHCP 866\n",
      "’ҐЄгй п Є®¤®ў п бва ­Ёж : 866\r\n",
      "\r\n",
      "C:\\Users\\Tim\\Documents\\Python Scripts>"
     ]
    }
   ],
   "source": [
    "%%cmd\n",
    "CHCP 65001\n",
    "DIR\n",
    "CHCP 866"
   ]
  },
  {
   "cell_type": "code",
   "execution_count": 14,
   "metadata": {
    "collapsed": false
   },
   "outputs": [
    {
     "name": "stdout",
     "output_type": "stream",
     "text": [
      "\r\n",
      "Настройка протокола IP для Windows\r\n",
      "\r\n",
      "   Имя компьютера  . . . . . . . . . : ARISTO\r\n",
      "   Основной DNS-суффикс  . . . . . . : \r\n",
      "   Тип узла. . . . . . . . . . . . . : Гибридный\r\n",
      "   IP-маршрутизация включена . . . . : Нет\r\n",
      "   WINS-прокси включен . . . . . . . : Нет\r\n",
      "\r\n",
      "Ethernet adapter Подключение по локальной сети ?:\r\n",
      "\r\n",
      "   DNS-суффикс подключения . . . . . : \r\n",
      "   Описание. . . . . . . . . . . . . : Адаптер D-Link DFE-???TX PCI Fast Ethernet\r\n",
      "   Физический адрес. . . . . . . . . : ??-??-46-??-?4-D?\r\n",
      "   DHCP включен. . . . . . . . . . . : Да\r\n",
      "   Автонастройка включена. . . . . . : Да\r\n",
      "   Локальный IPv6-адрес канала . . . : fe??::a???:b?fc:e???:d??e%??(Основной) \r\n",
      "   IPv4-адрес. . . . . . . . . . . . : ???.?6?.?.???(Основной) \r\n",
      "   Маска подсети . . . . . . . . . . : ???.???.???.?\r\n",
      "   Аренда получена. . . . . . . . . . : ?? сентября ???6 г. ?:??:??\r\n",
      "   Срок аренды истекает. . . . . . . . . . : ?4 сентября ???6 г. ?:??:??\r\n",
      "   Основной шлюз. . . . . . . . . : ???.?6?.?.?\r\n",
      "   DHCP-сервер. . . . . . . . . . . : ???.?6?.?.?\r\n",
      "   IAID DHCPv6 . . . . . . . . . . . : ?????4???\r\n",
      "   DUID клиента DHCPv6 . . . . . . . : ??-??-??-??-?C-4C-??-??-??-??-??-D?-??-??\r\n",
      "   DNS-серверы. . . . . . . . . . . : ???.?6?.?.?\r\n",
      "   NetBios через TCP/IP. . . . . . . . : Включен\r\n",
      "\r\n",
      "Ethernet adapter Подключение по локальной сети:\r\n",
      "\r\n",
      "   Состояние среды. . . . . . . . : Среда передачи недоступна.\r\n",
      "   DNS-суффикс подключения . . . . . : \r\n",
      "   Описание. . . . . . . . . . . . . : Realtek RTL??6?C(P)/????C(P) Family PCI-E Gigabit Ethernet NIC (NDIS 6.??)\r\n",
      "   Физический адрес. . . . . . . . . : ??-??-??-D?-??-??\r\n",
      "   DHCP включен. . . . . . . . . . . : Да\r\n",
      "   Автонастройка включена. . . . . . : Да\r\n",
      "\r\n",
      "Туннельный адаптер isatap.{???6C?C?-C64?-4??D-BB6C-?4????E6?FA?}:\r\n",
      "\r\n",
      "   Состояние среды. . . . . . . . : Среда передачи недоступна.\r\n",
      "   DNS-суффикс подключения . . . . . : \r\n",
      "   Описание. . . . . . . . . . . . . : Адаптер Microsoft ISATAP\r\n",
      "   Физический адрес. . . . . . . . . : ??-??-??-??-??-??-??-E?\r\n",
      "   DHCP включен. . . . . . . . . . . : Нет\r\n",
      "   Автонастройка включена. . . . . . : Да\r\n",
      "\r\n",
      "Туннельный адаптер isatap.{??????ED-?B??-4CBB-???B-?6?????B?BA?}:\r\n",
      "\r\n",
      "   Состояние среды. . . . . . . . : Среда передачи недоступна.\r\n",
      "   DNS-суффикс подключения . . . . . : \r\n",
      "   Описание. . . . . . . . . . . . . : Адаптер Microsoft ISATAP #?\r\n",
      "   Физический адрес. . . . . . . . . : ??-??-??-??-??-??-??-E?\r\n",
      "   DHCP включен. . . . . . . . . . . : Нет\r\n",
      "   Автонастройка включена. . . . . . : Да\r\n",
      "\r\n",
      "Туннельный адаптер Подключение по локальной сети*:\r\n",
      "\r\n",
      "   Состояние среды. . . . . . . . : Среда передачи недоступна.\r\n",
      "   DNS-суффикс подключения . . . . . : \r\n",
      "   Описание. . . . . . . . . . . . . : Teredo Tunneling Pseudo-Interface\r\n",
      "   Физический адрес. . . . . . . . . : ??-??-??-??-??-??-??-E?\r\n",
      "   DHCP включен. . . . . . . . . . . : Нет\r\n",
      "   Автонастройка включена. . . . . . : Да\r\n",
      "\n"
     ]
    }
   ],
   "source": [
    "# вызов внешнего процесса (ipconfig.exe) \n",
    "# с получением выходного результата (синхронно)\n",
    "\n",
    "output = subprocess.check_output(['ipconfig', '/all'])\n",
    "\n",
    "# циферки вам знать не нужно ))\n",
    "print(output.decode('cp866').translate(\n",
    "        str.maketrans('01235789', '????????')))"
   ]
  },
  {
   "cell_type": "markdown",
   "metadata": {},
   "source": [
    "Продемонстрируем вызов внешнего процесса (```script\\ask.py```) и работу с потоком ввода\n",
    "\n",
    "Скрипт:\n",
    "```\n",
    "name = input('What is your name?')\n",
    "print('Hello, {}'.format(name))\n",
    "```"
   ]
  },
  {
   "cell_type": "code",
   "execution_count": 15,
   "metadata": {
    "collapsed": false
   },
   "outputs": [
    {
     "name": "stdout",
     "output_type": "stream",
     "text": [
      "What is your name?Joe\n",
      "Hello, Joe\n"
     ]
    }
   ],
   "source": [
    "%run script\\ask.py"
   ]
  },
  {
   "cell_type": "code",
   "execution_count": 16,
   "metadata": {
    "collapsed": false
   },
   "outputs": [
    {
     "data": {
      "text/plain": [
       "3"
      ]
     },
     "execution_count": 16,
     "metadata": {},
     "output_type": "execute_result"
    }
   ],
   "source": [
    "p = subprocess.Popen([r'python', r'script\\ask.py'], \n",
    "                     stdin=subprocess.PIPE)\n",
    "p.stdin.write(b'Joe')\n",
    "\n",
    "# в консоли интерпретатора Python будет нормальный ввод-вывод"
   ]
  },
  {
   "cell_type": "code",
   "execution_count": 17,
   "metadata": {
    "collapsed": false
   },
   "outputs": [
    {
     "name": "stdout",
     "output_type": "stream",
     "text": [
      "\n",
      "Обмен пакетами с 127.0.0.1 по с 32 байтами данных:\n",
      "Ответ от 127.0.0.1: число байт=32 время<1мс TTL=128\n",
      "Ответ от 127.0.0.1: число байт=32 время<1мс TTL=128\n",
      "Ответ от 127.0.0.1: число байт=32 время<1мс TTL=128\n",
      "Ответ от 127.0.0.1: число байт=32 время<1мс TTL=128\n",
      "\n",
      "Статистика Ping для 127.0.0.1:\n",
      "Пакетов: отправлено = 4, получено = 4, потеряно = 0\n",
      "(0% потерь)\n",
      "Приблизительное время приема-передачи в мс:\n",
      "Минимальное = 0мсек, Максимальное = 0 мсек, Среднее = 0 мсек\n",
      "The process has finished with return code 0\n",
      "\n"
     ]
    }
   ],
   "source": [
    "# вызов внешнего процесса (ping.exe) и работа с потоком вывода\n",
    "process = subprocess.Popen(['ping', '127.0.0.1'], stdout=subprocess.PIPE)\n",
    "\n",
    "# синхронный busy spin, работа с потоком вывода, пока процесс не отработает\n",
    "while True:\n",
    "    output = process.stdout.readline()\n",
    "    \n",
    "    # когда процесс завершится, poll() вернет код завершения, а не None\n",
    "    rc = process.poll()\n",
    "    \n",
    "    if rc is not None:\n",
    "        break\n",
    "    if output:\n",
    "        print(output.strip().decode('cp866'))\n",
    "\n",
    "print('The process has finished with return code {}\\n'.format(rc))"
   ]
  },
  {
   "cell_type": "code",
   "execution_count": 18,
   "metadata": {
    "collapsed": false
   },
   "outputs": [
    {
     "name": "stdout",
     "output_type": "stream",
     "text": [
      "   IPv4-адрес. . . . . . . . . . . . : 192.168.0.100(Основной) \r\n",
      "\n"
     ]
    }
   ],
   "source": [
    "# пример программной реализации вызова цепочки: \n",
    "# ipconfig /all | findstr IPv4\n",
    "\n",
    "p1 = subprocess.Popen(['ipconfig', '/all'],\n",
    "                      stdout=subprocess.PIPE)\n",
    "p2 = subprocess.Popen(['findstr', 'IPv4'],\n",
    "                      stdin=p1.stdout,\n",
    "                      stdout=subprocess.PIPE)\n",
    "p1.stdout.close()\n",
    "output = p2.communicate()[0]\n",
    "print(output.decode('cp866'))"
   ]
  }
 ],
 "metadata": {
  "kernelspec": {
   "display_name": "Python [Root]",
   "language": "python",
   "name": "Python [Root]"
  },
  "language_info": {
   "codemirror_mode": {
    "name": "ipython",
    "version": 3
   },
   "file_extension": ".py",
   "mimetype": "text/x-python",
   "name": "python",
   "nbconvert_exporter": "python",
   "pygments_lexer": "ipython3",
   "version": "3.5.2"
  }
 },
 "nbformat": 4,
 "nbformat_minor": 0
}

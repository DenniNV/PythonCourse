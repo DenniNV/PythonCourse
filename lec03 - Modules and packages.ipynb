{
 "cells": [
  {
   "cell_type": "markdown",
   "metadata": {
    "collapsed": true
   },
   "source": [
    "## Лекция 3 - Модули и пакеты Python\n",
    "\n",
    "- подключение модулей\n",
    "- интроспекция модулей\n",
    "- собственные модули и пакеты\n",
    "- примеры стандартных модулей:\n",
    "    * math\n",
    "    * random\n",
    "    * datetime\n",
    "    * re\n",
    "    * itertools"
   ]
  },
  {
   "cell_type": "code",
   "execution_count": 1,
   "metadata": {
    "collapsed": false
   },
   "outputs": [
    {
     "name": "stdout",
     "output_type": "stream",
     "text": [
      "Help on built-in module math:\n",
      "\n",
      "NAME\n",
      "    math\n",
      "\n",
      "DESCRIPTION\n",
      "    This module is always available.  It provides access to the\n",
      "    mathematical functions defined by the C standard.\n",
      "\n",
      "FUNCTIONS\n",
      "    acos(...)\n",
      "        acos(x)\n",
      "        \n",
      "        Return the arc cosine (measured in radians) of x.\n",
      "    \n",
      "    acosh(...)\n",
      "        acosh(x)\n",
      "        \n",
      "        Return the inverse hyperbolic cosine of x.\n",
      "    \n",
      "    asin(...)\n",
      "        asin(x)\n",
      "        \n",
      "        Return the arc sine (measured in radians) of x.\n",
      "    \n",
      "    asinh(...)\n",
      "        asinh(x)\n",
      "        \n",
      "        Return the inverse hyperbolic sine of x.\n",
      "    \n",
      "    atan(...)\n",
      "        atan(x)\n",
      "        \n",
      "        Return the arc tangent (measured in radians) of x.\n",
      "    \n",
      "    atan2(...)\n",
      "        atan2(y, x)\n",
      "        \n",
      "        Return the arc tangent (measured in radians) of y/x.\n",
      "        Unlike atan(y/x), the signs of both x and y are considered.\n",
      "    \n",
      "    atanh(...)\n",
      "        atanh(x)\n",
      "        \n",
      "        Return the inverse hyperbolic tangent of x.\n",
      "    \n",
      "    ceil(...)\n",
      "        ceil(x)\n",
      "        \n",
      "        Return the ceiling of x as an Integral.\n",
      "        This is the smallest integer >= x.\n",
      "    \n",
      "    copysign(...)\n",
      "        copysign(x, y)\n",
      "        \n",
      "        Return a float with the magnitude (absolute value) of x but the sign \n",
      "        of y. On platforms that support signed zeros, copysign(1.0, -0.0) \n",
      "        returns -1.0.\n",
      "    \n",
      "    cos(...)\n",
      "        cos(x)\n",
      "        \n",
      "        Return the cosine of x (measured in radians).\n",
      "    \n",
      "    cosh(...)\n",
      "        cosh(x)\n",
      "        \n",
      "        Return the hyperbolic cosine of x.\n",
      "    \n",
      "    degrees(...)\n",
      "        degrees(x)\n",
      "        \n",
      "        Convert angle x from radians to degrees.\n",
      "    \n",
      "    erf(...)\n",
      "        erf(x)\n",
      "        \n",
      "        Error function at x.\n",
      "    \n",
      "    erfc(...)\n",
      "        erfc(x)\n",
      "        \n",
      "        Complementary error function at x.\n",
      "    \n",
      "    exp(...)\n",
      "        exp(x)\n",
      "        \n",
      "        Return e raised to the power of x.\n",
      "    \n",
      "    expm1(...)\n",
      "        expm1(x)\n",
      "        \n",
      "        Return exp(x)-1.\n",
      "        This function avoids the loss of precision involved in the direct evaluation of exp(x)-1 for small x.\n",
      "    \n",
      "    fabs(...)\n",
      "        fabs(x)\n",
      "        \n",
      "        Return the absolute value of the float x.\n",
      "    \n",
      "    factorial(...)\n",
      "        factorial(x) -> Integral\n",
      "        \n",
      "        Find x!. Raise a ValueError if x is negative or non-integral.\n",
      "    \n",
      "    floor(...)\n",
      "        floor(x)\n",
      "        \n",
      "        Return the floor of x as an Integral.\n",
      "        This is the largest integer <= x.\n",
      "    \n",
      "    fmod(...)\n",
      "        fmod(x, y)\n",
      "        \n",
      "        Return fmod(x, y), according to platform C.  x % y may differ.\n",
      "    \n",
      "    frexp(...)\n",
      "        frexp(x)\n",
      "        \n",
      "        Return the mantissa and exponent of x, as pair (m, e).\n",
      "        m is a float and e is an int, such that x = m * 2.**e.\n",
      "        If x is 0, m and e are both 0.  Else 0.5 <= abs(m) < 1.0.\n",
      "    \n",
      "    fsum(...)\n",
      "        fsum(iterable)\n",
      "        \n",
      "        Return an accurate floating point sum of values in the iterable.\n",
      "        Assumes IEEE-754 floating point arithmetic.\n",
      "    \n",
      "    gamma(...)\n",
      "        gamma(x)\n",
      "        \n",
      "        Gamma function at x.\n",
      "    \n",
      "    gcd(...)\n",
      "        gcd(x, y) -> int\n",
      "        greatest common divisor of x and y\n",
      "    \n",
      "    hypot(...)\n",
      "        hypot(x, y)\n",
      "        \n",
      "        Return the Euclidean distance, sqrt(x*x + y*y).\n",
      "    \n",
      "    isclose(...)\n",
      "        isclose(a, b, *, rel_tol=1e-09, abs_tol=0.0) -> bool\n",
      "        \n",
      "        Determine whether two floating point numbers are close in value.\n",
      "        \n",
      "           rel_tol\n",
      "               maximum difference for being considered \"close\", relative to the\n",
      "               magnitude of the input values\n",
      "            abs_tol\n",
      "               maximum difference for being considered \"close\", regardless of the\n",
      "               magnitude of the input values\n",
      "        \n",
      "        Return True if a is close in value to b, and False otherwise.\n",
      "        \n",
      "        For the values to be considered close, the difference between them\n",
      "        must be smaller than at least one of the tolerances.\n",
      "        \n",
      "        -inf, inf and NaN behave similarly to the IEEE 754 Standard.  That\n",
      "        is, NaN is not close to anything, even itself.  inf and -inf are\n",
      "        only close to themselves.\n",
      "    \n",
      "    isfinite(...)\n",
      "        isfinite(x) -> bool\n",
      "        \n",
      "        Return True if x is neither an infinity nor a NaN, and False otherwise.\n",
      "    \n",
      "    isinf(...)\n",
      "        isinf(x) -> bool\n",
      "        \n",
      "        Return True if x is a positive or negative infinity, and False otherwise.\n",
      "    \n",
      "    isnan(...)\n",
      "        isnan(x) -> bool\n",
      "        \n",
      "        Return True if x is a NaN (not a number), and False otherwise.\n",
      "    \n",
      "    ldexp(...)\n",
      "        ldexp(x, i)\n",
      "        \n",
      "        Return x * (2**i).\n",
      "    \n",
      "    lgamma(...)\n",
      "        lgamma(x)\n",
      "        \n",
      "        Natural logarithm of absolute value of Gamma function at x.\n",
      "    \n",
      "    log(...)\n",
      "        log(x[, base])\n",
      "        \n",
      "        Return the logarithm of x to the given base.\n",
      "        If the base not specified, returns the natural logarithm (base e) of x.\n",
      "    \n",
      "    log10(...)\n",
      "        log10(x)\n",
      "        \n",
      "        Return the base 10 logarithm of x.\n",
      "    \n",
      "    log1p(...)\n",
      "        log1p(x)\n",
      "        \n",
      "        Return the natural logarithm of 1+x (base e).\n",
      "        The result is computed in a way which is accurate for x near zero.\n",
      "    \n",
      "    log2(...)\n",
      "        log2(x)\n",
      "        \n",
      "        Return the base 2 logarithm of x.\n",
      "    \n",
      "    modf(...)\n",
      "        modf(x)\n",
      "        \n",
      "        Return the fractional and integer parts of x.  Both results carry the sign\n",
      "        of x and are floats.\n",
      "    \n",
      "    pow(...)\n",
      "        pow(x, y)\n",
      "        \n",
      "        Return x**y (x to the power of y).\n",
      "    \n",
      "    radians(...)\n",
      "        radians(x)\n",
      "        \n",
      "        Convert angle x from degrees to radians.\n",
      "    \n",
      "    sin(...)\n",
      "        sin(x)\n",
      "        \n",
      "        Return the sine of x (measured in radians).\n",
      "    \n",
      "    sinh(...)\n",
      "        sinh(x)\n",
      "        \n",
      "        Return the hyperbolic sine of x.\n",
      "    \n",
      "    sqrt(...)\n",
      "        sqrt(x)\n",
      "        \n",
      "        Return the square root of x.\n",
      "    \n",
      "    tan(...)\n",
      "        tan(x)\n",
      "        \n",
      "        Return the tangent of x (measured in radians).\n",
      "    \n",
      "    tanh(...)\n",
      "        tanh(x)\n",
      "        \n",
      "        Return the hyperbolic tangent of x.\n",
      "    \n",
      "    trunc(...)\n",
      "        trunc(x:Real) -> Integral\n",
      "        \n",
      "        Truncates x to the nearest Integral toward 0. Uses the __trunc__ magic method.\n",
      "\n",
      "DATA\n",
      "    e = 2.718281828459045\n",
      "    inf = inf\n",
      "    nan = nan\n",
      "    pi = 3.141592653589793\n",
      "\n",
      "FILE\n",
      "    (built-in)\n",
      "\n",
      "\n"
     ]
    }
   ],
   "source": [
    "# подключение стандартного модуля math\n",
    "import math\n",
    "\n",
    "# тут же можем посмотреть справку по модулю\n",
    "help(math)"
   ]
  },
  {
   "cell_type": "code",
   "execution_count": 2,
   "metadata": {
    "collapsed": false
   },
   "outputs": [
    {
     "name": "stdout",
     "output_type": "stream",
     "text": [
      "PI = 3.141592653589793\n",
      "PI/2 = 90.0 degrees\n",
      "НОД(64, 112)\n",
      "\n",
      "Сравнение 2.4 и 0.8*3\n",
      "1) через ==\n",
      "2) с помощью math)\n",
      "\n",
      "False\n",
      "True\n"
     ]
    }
   ],
   "source": [
    "# пример использования функций и констант подключенного модуля\n",
    "print('PI = {}'.format(math.pi))\n",
    "print('PI/2 = {} degrees'.format(math.degrees(math.pi/2)))\n",
    "print('НОД(64, 112)'.format(math.gcd(64, 112)))\n",
    "\n",
    "a = 2.4\n",
    "b = 0.8 * 3\n",
    "print('\\nСравнение 2.4 и 0.8*3\\n1) через ==\\n2) с помощью math)\\n')\n",
    "print(a == b)\n",
    "print(math.isclose(a, b))"
   ]
  },
  {
   "cell_type": "code",
   "execution_count": 3,
   "metadata": {
    "collapsed": false
   },
   "outputs": [
    {
     "name": "stdout",
     "output_type": "stream",
     "text": [
      "3.141592653589793\n",
      "2.718281828459045\n"
     ]
    }
   ],
   "source": [
    "# можно подключить выборочные константы/функции модуля:\n",
    "from math import pi, e\n",
    "\n",
    "print(pi)\n",
    "print(e)\n",
    "\n",
    "# или даже так (все имена загрузить в текущий модуль):\n",
    "# from math import *\n",
    "\n",
    "# но лучше так не делать по пресловутой причине коллизии имен"
   ]
  },
  {
   "cell_type": "code",
   "execution_count": 4,
   "metadata": {
    "collapsed": false
   },
   "outputs": [
    {
     "name": "stdout",
     "output_type": "stream",
     "text": [
      "True\n"
     ]
    }
   ],
   "source": [
    "# если не нравится писать везде имя модуля, можно ввести свой алиас:\n",
    "# import math as m\n",
    "# print(m.pi)\n",
    "\n",
    "# (хотя вряд ли есть причина алиасить годное имя math )))\n",
    "\n",
    "# алиас для какой-либо функции модуля:\n",
    "from math import isclose as cmp\n",
    "\n",
    "print(cmp(a, b))"
   ]
  },
  {
   "cell_type": "code",
   "execution_count": 5,
   "metadata": {
    "collapsed": false
   },
   "outputs": [
    {
     "data": {
      "text/plain": [
       "['__doc__',\n",
       " '__loader__',\n",
       " '__name__',\n",
       " '__package__',\n",
       " '__spec__',\n",
       " 'acos',\n",
       " 'acosh',\n",
       " 'asin',\n",
       " 'asinh',\n",
       " 'atan',\n",
       " 'atan2',\n",
       " 'atanh',\n",
       " 'ceil',\n",
       " 'copysign',\n",
       " 'cos',\n",
       " 'cosh',\n",
       " 'degrees',\n",
       " 'e',\n",
       " 'erf',\n",
       " 'erfc',\n",
       " 'exp',\n",
       " 'expm1',\n",
       " 'fabs',\n",
       " 'factorial',\n",
       " 'floor',\n",
       " 'fmod',\n",
       " 'frexp',\n",
       " 'fsum',\n",
       " 'gamma',\n",
       " 'gcd',\n",
       " 'hypot',\n",
       " 'inf',\n",
       " 'isclose',\n",
       " 'isfinite',\n",
       " 'isinf',\n",
       " 'isnan',\n",
       " 'ldexp',\n",
       " 'lgamma',\n",
       " 'log',\n",
       " 'log10',\n",
       " 'log1p',\n",
       " 'log2',\n",
       " 'modf',\n",
       " 'nan',\n",
       " 'pi',\n",
       " 'pow',\n",
       " 'radians',\n",
       " 'sin',\n",
       " 'sinh',\n",
       " 'sqrt',\n",
       " 'tan',\n",
       " 'tanh',\n",
       " 'trunc']"
      ]
     },
     "execution_count": 5,
     "metadata": {},
     "output_type": "execute_result"
    }
   ],
   "source": [
    "# help() выдает нам справку, удобную для чтения\n",
    "# а dir() - полезнейшая функция для кодера \n",
    "# (выводит все символьные имена, определенные в модуле/типе)\n",
    "dir(math)"
   ]
  },
  {
   "cell_type": "code",
   "execution_count": 6,
   "metadata": {
    "collapsed": false
   },
   "outputs": [
    {
     "name": "stdout",
     "output_type": "stream",
     "text": [
      "['__add__', '__class__', '__contains__', '__delattr__', '__dir__', '__doc__', '__eq__', '__format__', '__ge__', '__getattribute__', '__getitem__', '__getnewargs__', '__gt__', '__hash__', '__init__', '__iter__', '__le__', '__len__', '__lt__', '__mod__', '__mul__', '__ne__', '__new__', '__reduce__', '__reduce_ex__', '__repr__', '__rmod__', '__rmul__', '__setattr__', '__sizeof__', '__str__', '__subclasshook__']\n"
     ]
    }
   ],
   "source": [
    "# с помощью dir() можно на ходу интроспектировать модули и типы!\n",
    "# например, у нас есть переменная, выведем все magic-методы ее типа\n",
    "message = 'hello'\n",
    "magic = [method for method in dir(message) if method.startswith('__') ]\n",
    "print(magic)"
   ]
  },
  {
   "cell_type": "code",
   "execution_count": 7,
   "metadata": {
    "collapsed": false
   },
   "outputs": [
    {
     "name": "stdout",
     "output_type": "stream",
     "text": [
      "__doc__: This module is always available.  It provides access to the\n",
      "mathematical functions defined by the C standard.\n",
      "__name__: math\n",
      "__package__: \n",
      "__loader__: <class '_frozen_importlib.BuiltinImporter'>\n",
      "__spec__: ModuleSpec(name='math', loader=<class '_frozen_importlib.BuiltinImporter'>, origin='built-in')\n"
     ]
    }
   ],
   "source": [
    "# посмотрим значения первых \"особенных\" членов модуля math:\n",
    "# строка документации модуля (docstring)\n",
    "print('__doc__:', math.__doc__)\n",
    "\n",
    "# квалифицированное имя модуля\n",
    "print('__name__:', math.__name__)\n",
    "\n",
    "# пакет, которому принадлежит модуль\n",
    "print('__package__:', math.__package__)\n",
    "\n",
    "# служебный объект-загрузчик модуля (начиная с Python 3.3)\n",
    "print('__loader__:', math.__loader__)\n",
    "\n",
    "# служебная информация загрузчика модуля (начиная с Python 3.4)\n",
    "# https://docs.python.org/3/reference/import.html#import-related-module-attributes\n",
    "print('__spec__:', math.__spec__)"
   ]
  },
  {
   "cell_type": "code",
   "execution_count": 8,
   "metadata": {
    "collapsed": false
   },
   "outputs": [
    {
     "name": "stdout",
     "output_type": "stream",
     "text": [
      "__doc__: Automatically created module for IPython interactive environment\n",
      "__name__: __main__\n",
      "__package__: None\n",
      "__loader__: None\n",
      "__spec__: None\n"
     ]
    }
   ],
   "source": [
    "# посмотрим значения первых особенных членов модуля math:\n",
    "# строка документации модуля (docstring)\n",
    "print('__doc__:', __doc__)\n",
    "print('__name__:', __name__)\n",
    "print('__package__:', __package__)\n",
    "print('__loader__:', __loader__)\n",
    "print('__spec__:', __spec__)"
   ]
  },
  {
   "cell_type": "code",
   "execution_count": 9,
   "metadata": {
    "collapsed": false
   },
   "outputs": [
    {
     "name": "stdout",
     "output_type": "stream",
     "text": [
      "this script is executing right now\n"
     ]
    }
   ],
   "source": [
    "if __name__ == '__main__':\n",
    "    print('this script is executing right now')"
   ]
  },
  {
   "cell_type": "code",
   "execution_count": 10,
   "metadata": {
    "collapsed": false
   },
   "outputs": [
    {
     "data": {
      "text/plain": [
       "['In',\n",
       " 'Out',\n",
       " '_',\n",
       " '_5',\n",
       " '__',\n",
       " '___',\n",
       " '__builtin__',\n",
       " '__builtins__',\n",
       " '__doc__',\n",
       " '__loader__',\n",
       " '__name__',\n",
       " '__package__',\n",
       " '__spec__',\n",
       " '_dh',\n",
       " '_i',\n",
       " '_i1',\n",
       " '_i10',\n",
       " '_i2',\n",
       " '_i3',\n",
       " '_i4',\n",
       " '_i5',\n",
       " '_i6',\n",
       " '_i7',\n",
       " '_i8',\n",
       " '_i9',\n",
       " '_ih',\n",
       " '_ii',\n",
       " '_iii',\n",
       " '_oh',\n",
       " '_sh',\n",
       " 'a',\n",
       " 'b',\n",
       " 'cmp',\n",
       " 'e',\n",
       " 'exit',\n",
       " 'get_ipython',\n",
       " 'magic',\n",
       " 'math',\n",
       " 'message',\n",
       " 'pi',\n",
       " 'quit']"
      ]
     },
     "execution_count": 10,
     "metadata": {},
     "output_type": "execute_result"
    }
   ],
   "source": [
    "# dir без параметров вернет все символьные имена в текущем модуле\n",
    "dir()"
   ]
  },
  {
   "cell_type": "code",
   "execution_count": 11,
   "metadata": {
    "collapsed": false
   },
   "outputs": [
    {
     "data": {
      "text/plain": [
       "['ArithmeticError',\n",
       " 'AssertionError',\n",
       " 'AttributeError',\n",
       " 'BaseException',\n",
       " 'BlockingIOError',\n",
       " 'BrokenPipeError',\n",
       " 'BufferError',\n",
       " 'BytesWarning',\n",
       " 'ChildProcessError',\n",
       " 'ConnectionAbortedError',\n",
       " 'ConnectionError',\n",
       " 'ConnectionRefusedError',\n",
       " 'ConnectionResetError',\n",
       " 'DeprecationWarning',\n",
       " 'EOFError',\n",
       " 'Ellipsis',\n",
       " 'EnvironmentError',\n",
       " 'Exception',\n",
       " 'False',\n",
       " 'FileExistsError',\n",
       " 'FileNotFoundError',\n",
       " 'FloatingPointError',\n",
       " 'FutureWarning',\n",
       " 'GeneratorExit',\n",
       " 'IOError',\n",
       " 'ImportError',\n",
       " 'ImportWarning',\n",
       " 'IndentationError',\n",
       " 'IndexError',\n",
       " 'InterruptedError',\n",
       " 'IsADirectoryError',\n",
       " 'KeyError',\n",
       " 'KeyboardInterrupt',\n",
       " 'LookupError',\n",
       " 'MemoryError',\n",
       " 'NameError',\n",
       " 'None',\n",
       " 'NotADirectoryError',\n",
       " 'NotImplemented',\n",
       " 'NotImplementedError',\n",
       " 'OSError',\n",
       " 'OverflowError',\n",
       " 'PendingDeprecationWarning',\n",
       " 'PermissionError',\n",
       " 'ProcessLookupError',\n",
       " 'RecursionError',\n",
       " 'ReferenceError',\n",
       " 'ResourceWarning',\n",
       " 'RuntimeError',\n",
       " 'RuntimeWarning',\n",
       " 'StopAsyncIteration',\n",
       " 'StopIteration',\n",
       " 'SyntaxError',\n",
       " 'SyntaxWarning',\n",
       " 'SystemError',\n",
       " 'SystemExit',\n",
       " 'TabError',\n",
       " 'TimeoutError',\n",
       " 'True',\n",
       " 'TypeError',\n",
       " 'UnboundLocalError',\n",
       " 'UnicodeDecodeError',\n",
       " 'UnicodeEncodeError',\n",
       " 'UnicodeError',\n",
       " 'UnicodeTranslateError',\n",
       " 'UnicodeWarning',\n",
       " 'UserWarning',\n",
       " 'ValueError',\n",
       " 'Warning',\n",
       " 'WindowsError',\n",
       " 'ZeroDivisionError',\n",
       " '__IPYTHON__',\n",
       " '__IPYTHON__active',\n",
       " '__build_class__',\n",
       " '__debug__',\n",
       " '__doc__',\n",
       " '__import__',\n",
       " '__loader__',\n",
       " '__name__',\n",
       " '__package__',\n",
       " '__spec__',\n",
       " 'abs',\n",
       " 'all',\n",
       " 'any',\n",
       " 'ascii',\n",
       " 'bin',\n",
       " 'bool',\n",
       " 'bytearray',\n",
       " 'bytes',\n",
       " 'callable',\n",
       " 'chr',\n",
       " 'classmethod',\n",
       " 'compile',\n",
       " 'complex',\n",
       " 'copyright',\n",
       " 'credits',\n",
       " 'delattr',\n",
       " 'dict',\n",
       " 'dir',\n",
       " 'divmod',\n",
       " 'dreload',\n",
       " 'enumerate',\n",
       " 'eval',\n",
       " 'exec',\n",
       " 'filter',\n",
       " 'float',\n",
       " 'format',\n",
       " 'frozenset',\n",
       " 'get_ipython',\n",
       " 'getattr',\n",
       " 'globals',\n",
       " 'hasattr',\n",
       " 'hash',\n",
       " 'help',\n",
       " 'hex',\n",
       " 'id',\n",
       " 'input',\n",
       " 'int',\n",
       " 'isinstance',\n",
       " 'issubclass',\n",
       " 'iter',\n",
       " 'len',\n",
       " 'license',\n",
       " 'list',\n",
       " 'locals',\n",
       " 'map',\n",
       " 'max',\n",
       " 'memoryview',\n",
       " 'min',\n",
       " 'next',\n",
       " 'object',\n",
       " 'oct',\n",
       " 'open',\n",
       " 'ord',\n",
       " 'pow',\n",
       " 'print',\n",
       " 'property',\n",
       " 'range',\n",
       " 'repr',\n",
       " 'reversed',\n",
       " 'round',\n",
       " 'set',\n",
       " 'setattr',\n",
       " 'slice',\n",
       " 'sorted',\n",
       " 'staticmethod',\n",
       " 'str',\n",
       " 'sum',\n",
       " 'super',\n",
       " 'tuple',\n",
       " 'type',\n",
       " 'vars',\n",
       " 'zip']"
      ]
     },
     "execution_count": 11,
     "metadata": {},
     "output_type": "execute_result"
    }
   ],
   "source": [
    "# показать все доступные встроенные функции и типы\n",
    "dir(__builtin__)"
   ]
  },
  {
   "cell_type": "code",
   "execution_count": 12,
   "metadata": {
    "collapsed": false
   },
   "outputs": [
    {
     "name": "stdout",
     "output_type": "stream",
     "text": [
      "\n",
      "This module contains standard sorting algorithms.\n",
      "\n",
      "Supported algorithms:\n",
      "    - insertion sort\n",
      "    - shell sort\n",
      "    - selection sort\n",
      "    - bubble sort\n",
      "    - shaker sort\n",
      "    - quick sort\n",
      "    - merge sort\n",
      "    - heap sort\n",
      "\n",
      "Function is documented:\n",
      " classical insertion sort \n"
     ]
    }
   ],
   "source": [
    "'''\n",
    "This module contains standard sorting algorithms.\n",
    "\n",
    "Supported algorithms:\n",
    "    - insertion sort\n",
    "    - shell sort\n",
    "    - selection sort\n",
    "    - bubble sort\n",
    "    - shaker sort\n",
    "    - quick sort\n",
    "    - merge sort\n",
    "    - heap sort\n",
    "'''\n",
    "\n",
    "def insertion_sort(arr):\n",
    "    ''' classical insertion sort '''\n",
    "    pass\n",
    "\n",
    "# ...\n",
    "\n",
    "print(__doc__)\n",
    "print('Function is documented:')\n",
    "print(insertion_sort.__doc__)"
   ]
  },
  {
   "cell_type": "markdown",
   "metadata": {},
   "source": [
    "#### Модули можно структурировать по пакетам. Подробно здесь:\n",
    "\n",
    "https://docs.python.org/3/tutorial/modules.html#packages\n",
    "\n",
    "Если кратко:\n",
    "```\n",
    "sound/                          пакет верхнего уровня\n",
    "      __init__.py               инициализация пакета sound\n",
    "      formats/                  суб-пакет для преобразований форматов файлов\n",
    "              __init__.py\n",
    "              wavread.py\n",
    "              wavwrite.py\n",
    "              aiffread.py\n",
    "              aiffwrite.py\n",
    "              ...\n",
    "      effects/                  суб-пакет для звуковых эффектов\n",
    "              __init__.py\n",
    "              echo.py\n",
    "              surround.py\n",
    "              reverse.py\n",
    "              ...\n",
    "```\n",
    "Файлы __init__.py files are required to make Python treat the directories as containing packages\n",
    "\n",
    "```import sound.effects.echo```"
   ]
  },
  {
   "cell_type": "markdown",
   "metadata": {},
   "source": [
    "#### Внутрипакетные ссылки\n",
    "\n",
    "```\n",
    "from . import echo\n",
    "from .. import formats\n",
    "from ..filters import equalizer\n",
    "```"
   ]
  },
  {
   "cell_type": "markdown",
   "metadata": {},
   "source": [
    "Рассмотрим несколько полезных модулей Python.\n",
    "\n",
    "Начнем с работы с датой и временем\n",
    "https://docs.python.org/3.5/library/datetime.html"
   ]
  },
  {
   "cell_type": "code",
   "execution_count": 13,
   "metadata": {
    "collapsed": false
   },
   "outputs": [
    {
     "name": "stdout",
     "output_type": "stream",
     "text": [
      "2016-08-11\n"
     ]
    }
   ],
   "source": [
    "import datetime\n",
    "\n",
    "print(datetime.date.today())"
   ]
  },
  {
   "cell_type": "code",
   "execution_count": 14,
   "metadata": {
    "collapsed": false
   },
   "outputs": [
    {
     "name": "stdout",
     "output_type": "stream",
     "text": [
      "time.struct_time(tm_year=2016, tm_mon=8, tm_mday=11, tm_hour=0, tm_min=28, tm_sec=40, tm_wday=3, tm_yday=224, tm_isdst=0)\n"
     ]
    }
   ],
   "source": [
    "import time\n",
    "\n",
    "print(time.localtime())"
   ]
  },
  {
   "cell_type": "code",
   "execution_count": 15,
   "metadata": {
    "collapsed": false
   },
   "outputs": [
    {
     "name": "stdout",
     "output_type": "stream",
     "text": [
      "0:28:40\n"
     ]
    }
   ],
   "source": [
    "lt = time.localtime()\n",
    "print('{}:{}:{}'.format(lt.tm_hour, lt.tm_min, lt.tm_sec))"
   ]
  },
  {
   "cell_type": "code",
   "execution_count": 16,
   "metadata": {
    "collapsed": false
   },
   "outputs": [
    {
     "name": "stdout",
     "output_type": "stream",
     "text": [
      "[24, 31, 67, 34, 92, 5, 56, 98, 76, 34]\n",
      "[5, 67, 76, 98, 34, 24, 31, 92, 56, 34]\n",
      "[98, 34, 24]\n"
     ]
    }
   ],
   "source": [
    "# продемонстрируем возможности модуля работы со случайными числами\n",
    "import random\n",
    "\n",
    "# сгенерируем 10 случайных чисел\n",
    "random_numbers = [random.randint(1, 100) for _ in range(10)]\n",
    "print(random_numbers)\n",
    "\n",
    "# перемешаем числа в случайном порядке\n",
    "random.shuffle(random_numbers)\n",
    "print(random_numbers)\n",
    "\n",
    "# выберем случайно 3 числа из набора\n",
    "selected = random.sample(random_numbers, 3)\n",
    "print(selected)"
   ]
  },
  {
   "cell_type": "code",
   "execution_count": 17,
   "metadata": {
    "collapsed": false
   },
   "outputs": [
    {
     "name": "stdout",
     "output_type": "stream",
     "text": [
      "[4.1, 16.9, 16.1, 15.5, 14.0, 17.8, 19.0, 12.4, 9.0, 23.4, 11.7, 16.9, 15.0, 16.0, 20.3, 19.8, 16.5, 15.1, 22.7, 14.2, 16.1, 22.6, 20.1, 22.3, 18.2, 16.6, 17.4, 17.4, 8.3, 7.4, 7.7, 24.3, 20.1, 16.4, 16.4, 15.0, 14.4, 7.7, 15.1, 15.5, 24.9, 22.9, 17.3, 14.8, 12.7, 16.7, 11.6, 16.0, 15.8, 17.9, 23.9, 20.7, 17.8, 16.2, 13.1, 20.7, 10.8, 11.6, 26.7, 19.7, 16.8, 6.1, 8.9, 14.9, 11.6, 14.9, 12.2, 19.9, 20.0, 19.8, 23.1, 15.2, 20.0, 21.5, 7.4, 18.4, 1.6, 10.0, 14.8, 19.9, 10.4, 13.4, 10.3, 13.9, 18.6, 19.5, 21.2, 12.6, 22.0, 18.1, 18.3, 17.4, 14.3, 3.8, 17.3, 13.8, 17.6, 16.7, 21.6, 11.6]\n",
      "Mean: 15.966\n",
      "Std. deviation: 4.864446936703082\n"
     ]
    }
   ],
   "source": [
    "# сгенерируем выборку 100 чисел с нормальным распределением\n",
    "MU = 15\n",
    "SIGMA = 5\n",
    "normal = [round(random.gauss(MU, SIGMA), 1) for _ in range(100)]\n",
    "print(normal)\n",
    "\n",
    "# перепроверим среднее (должно быть близко к MU)\n",
    "mean = sum(normal) / len(normal)\n",
    "print('Mean:', mean)\n",
    "\n",
    "# и стандартное отклонение (должно быть близко к SIGMA)\n",
    "variance = sum([(i - mean)**2 for i in normal]) / len(normal)\n",
    "print('Std. deviation:', variance**0.5)"
   ]
  },
  {
   "cell_type": "code",
   "execution_count": 18,
   "metadata": {
    "collapsed": false
   },
   "outputs": [
    {
     "name": "stdout",
     "output_type": "stream",
     "text": [
      "(1, 2, 3, 4)\n",
      "(1, 2, 4, 3)\n",
      "(1, 3, 2, 4)\n",
      "(1, 3, 4, 2)\n",
      "(1, 4, 2, 3)\n",
      "(1, 4, 3, 2)\n",
      "(2, 1, 3, 4)\n",
      "(2, 1, 4, 3)\n",
      "(2, 3, 1, 4)\n",
      "(2, 3, 4, 1)\n",
      "(2, 4, 1, 3)\n",
      "(2, 4, 3, 1)\n",
      "(3, 1, 2, 4)\n",
      "(3, 1, 4, 2)\n",
      "(3, 2, 1, 4)\n",
      "(3, 2, 4, 1)\n",
      "(3, 4, 1, 2)\n",
      "(3, 4, 2, 1)\n",
      "(4, 1, 2, 3)\n",
      "(4, 1, 3, 2)\n",
      "(4, 2, 1, 3)\n",
      "(4, 2, 3, 1)\n",
      "(4, 3, 1, 2)\n",
      "(4, 3, 2, 1)\n"
     ]
    }
   ],
   "source": [
    "# еще полезный модуль! \n",
    "# часть его возможностей рассмотрим в следующей лекции\n",
    "# а в этой - демонстрация комбинаторики\n",
    "import itertools\n",
    "\n",
    "nums = [1, 2, 3, 4]\n",
    "\n",
    "# выведем все ПЕРЕСТАНОВКИ чисел 1, 2, 3, 4\n",
    "for perm in itertools.permutations(nums):\n",
    "    print(perm)"
   ]
  },
  {
   "cell_type": "code",
   "execution_count": 19,
   "metadata": {
    "collapsed": false
   },
   "outputs": [
    {
     "name": "stdout",
     "output_type": "stream",
     "text": [
      "(1, 2)\n",
      "(1, 3)\n",
      "(1, 4)\n",
      "(2, 3)\n",
      "(2, 4)\n",
      "(3, 4)\n"
     ]
    }
   ],
   "source": [
    "# выведем все парные СОЧЕТАНИЯ чисел 1, 2, 3, 4\n",
    "for comb in itertools.combinations(nums, 2):\n",
    "    print(comb)"
   ]
  },
  {
   "cell_type": "code",
   "execution_count": 20,
   "metadata": {
    "collapsed": false
   },
   "outputs": [
    {
     "name": "stdout",
     "output_type": "stream",
     "text": [
      "['mp3', 'wav']\n",
      "01.mp3\n",
      "12.wav\n"
     ]
    }
   ],
   "source": [
    "# и куда же без регулярок ))\n",
    "import re\n",
    "\n",
    "haystack = \"Folder contains 01.mp3 and 12.wav\"\n",
    "\n",
    "# найти все подстроки по шаблону (способ 1 - все сразу)\n",
    "results = re.findall(r'\\d{1,2}\\.(mp3|wav)', haystack)\n",
    "print(results)\n",
    "\n",
    "# найти все подстроки по шаблону (способ 2 - через итератор)\n",
    "# (можно также использовать группы (groups))\n",
    "for s in re.finditer(r'\\d{1,2}\\.(mp3|wav)', haystack):\n",
    "    print(haystack[s.start():s.end()])"
   ]
  },
  {
   "cell_type": "code",
   "execution_count": 21,
   "metadata": {
    "collapsed": false
   },
   "outputs": [
    {
     "name": "stdout",
     "output_type": "stream",
     "text": [
      "Phone Num : 2004-959-559 \n",
      "Phone Num : 2004959559\n"
     ]
    }
   ],
   "source": [
    "# еще пример\n",
    "phone = \"2004-959-559 # This is Phone Number\"\n",
    "\n",
    "# Замена 1: удаляем Python-style комментарии\n",
    "num = re.sub(r'#.*$', '', phone)\n",
    "print('Phone Num : {}'.format(num))\n",
    "\n",
    "# Замена 2: удаляем всё, кроме цифр\n",
    "num = re.sub(r'\\D', '', phone)\n",
    "print('Phone Num : {}'.format(num))"
   ]
  }
 ],
 "metadata": {
  "anaconda-cloud": {},
  "kernelspec": {
   "display_name": "Python [Root]",
   "language": "python",
   "name": "Python [Root]"
  },
  "language_info": {
   "codemirror_mode": {
    "name": "ipython",
    "version": 3
   },
   "file_extension": ".py",
   "mimetype": "text/x-python",
   "name": "python",
   "nbconvert_exporter": "python",
   "pygments_lexer": "ipython3",
   "version": "3.5.2"
  }
 },
 "nbformat": 4,
 "nbformat_minor": 0
}

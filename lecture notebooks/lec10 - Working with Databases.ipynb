{
 "cells": [
  {
   "cell_type": "markdown",
   "metadata": {},
   "source": [
    "### Лекция 10 - Работа с базами данных\n",
    "\n",
    "- Выполнение SQL-запросов\n",
    "- ORM на примере SQLAlchemy\n",
    "- Немного о noSql на примере Mongo"
   ]
  },
  {
   "cell_type": "code",
   "execution_count": 1,
   "metadata": {
    "collapsed": true
   },
   "outputs": [],
   "source": [
    "import sqlite3\n",
    "# import MySQLdb    - для MySQL\n",
    "# import psycopg2   - для PostgreSQL\n",
    "# import pymssql    - для MS SQL\n",
    "\n",
    "# дальнейший cursor-based код одинаков для всех движков"
   ]
  },
  {
   "cell_type": "code",
   "execution_count": 2,
   "metadata": {
    "collapsed": false
   },
   "outputs": [
    {
     "name": "stdout",
     "output_type": "stream",
     "text": [
      "Database was created succesfully!\n"
     ]
    }
   ],
   "source": [
    "DBNAME = r'db/catalog.db'\n",
    "\n",
    "\n",
    "def create_database():\n",
    "    # создаем базу данных sqlite \n",
    "    # (присоединяемся к ней первый раз)\n",
    "    db = sqlite3.connect(DBNAME)\n",
    "\n",
    "    with db:\n",
    "        # Получаем объект курсора\n",
    "        cursor = db.cursor()\n",
    "        \n",
    "        # SQL-запрос #1:\n",
    "        cursor.execute('''\n",
    "            CREATE TABLE performers(id INTEGER PRIMARY KEY, \n",
    "                                    name TEXT, \n",
    "                                    desc TEXT)\n",
    "        ''')\n",
    "        db.commit()\n",
    "\n",
    "        # SQL-запрос #2:\n",
    "        cursor.execute('''\n",
    "               CREATE TABLE albums(\n",
    "               id INTEGER PRIMARY KEY, \n",
    "               name TEXT,\n",
    "               release_year INTEGER,\n",
    "               perfid INTEGER,\n",
    "               FOREIGN KEY(perfid) REFERENCES performers(id))\n",
    "               ''')\n",
    "        db.commit()\n",
    "\n",
    "\n",
    "try:\n",
    "    create_database()\n",
    "    print('Database was created succesfully!')\n",
    "except sqlite3.OperationalError as e:\n",
    "    print(e)"
   ]
  },
  {
   "cell_type": "markdown",
   "metadata": {},
   "source": [
    "![img](images/database.png)"
   ]
  },
  {
   "cell_type": "code",
   "execution_count": 3,
   "metadata": {
    "collapsed": false
   },
   "outputs": [
    {
     "name": "stdout",
     "output_type": "stream",
     "text": [
      "Do you wish to insert some performers? (y/n)y\n",
      "Performer: 10cc\n",
      "Continue? (y/n)y\n",
      "Performer: Supertramp\n",
      "Continue? (y/n)y\n",
      "Performer: Renaissance\n",
      "Continue? (y/n)n\n",
      "Do you wish to insert some albums? (y/n)y\n",
      "Performer ID: 1\n",
      "Album name: Deceptive Bends\n",
      "Album year: 1977\n",
      "Continue? (y/n)y\n",
      "Performer ID: 2\n",
      "Album name: Breakfast in America\n",
      "Album year: 1979\n",
      "Continue? (y/n)y\n",
      "Performer ID: 3\n",
      "Album name: Novella\n",
      "Album year: 1977\n",
      "Continue? (y/n)n\n"
     ]
    }
   ],
   "source": [
    "def insert_records():\n",
    "    # присоединяемся к базе данных sqlite\n",
    "    db = sqlite3.connect(DBNAME)\n",
    "\n",
    "    with db:\n",
    "        cursor = db.cursor()\n",
    "\n",
    "        ans = input('Do you wish to insert some performers? (y/n)')\n",
    "        while ans == 'y':\n",
    "            perf = input('Performer: ')\n",
    "            # Потенциально опасно!\n",
    "            # НЕ ДЕЛАТЬ ТАК!\n",
    "            cursor.execute('INSERT INTO performers VALUES(NULL, \"%s\", \"\")' % perf)\n",
    "            ans = input('Continue? (y/n)')\n",
    "    \n",
    "        db.commit()\n",
    "        \n",
    "        ans = input('Do you wish to insert some albums? (y/n)')\n",
    "        while ans== 'y':\n",
    "            perfID = input('Performer ID: ')\n",
    "            albumname = input('Album name: ')\n",
    "            albumyear = int(input('Album year: '))\n",
    "            # Здесь лучше: делаем параметризированный запрос\n",
    "            cursor.execute('INSERT INTO albums VALUES(NULL, ?, ?, ?)',\n",
    "                           (albumname, albumyear, perfID))\n",
    "            ans = input('Continue? (y/n)')\n",
    "\n",
    "        db.commit()\n",
    "\n",
    "\n",
    "insert_records()"
   ]
  },
  {
   "cell_type": "code",
   "execution_count": 4,
   "metadata": {
    "collapsed": false
   },
   "outputs": [
    {
     "name": "stdout",
     "output_type": "stream",
     "text": [
      "\n",
      "(1, '10cc')\n",
      "(2, 'Supertramp')\n",
      "(3, 'Renaissance')\n",
      "\n",
      "('10cc', 'Deceptive Bends', 1977)\n",
      "('Supertramp', 'Breakfast in America', 1979)\n",
      "('Renaissance', 'Novella', 1977)\n"
     ]
    }
   ],
   "source": [
    "def select_records():\n",
    "    db = sqlite3.connect(DBNAME)\n",
    "\n",
    "    with db:\n",
    "        cursor = db.cursor()\n",
    "        cursor.execute('SELECT id, name from performers')\n",
    "        performers = cursor.fetchall()\n",
    "    \n",
    "        cursor.execute('''\n",
    "                SELECT performers.name, albums.name, albums.release_year\n",
    "                from albums INNER JOIN performers ON albums.perfID = performers.id\n",
    "                ''')\n",
    "        albums = cursor.fetchall()\n",
    "\n",
    "        # fetchone():   считывает одну следующую строку результирующего набора запроса.\n",
    "        #               Результирующий набор - это объект, возвращаемый \n",
    "        #               объектом-курсором при выполнении запроса к таблице;\n",
    "        # fetchall():   считывает все строки в результирующем наборе запроса. \n",
    "        #               Если какие-то строки уже были извлечены из результирующего набора, \n",
    "        #               то метод возвращает оставшиеся строки набора;\n",
    "        # rowcount:     Это read-only атрибут, в котором хранится количество строк, \n",
    "        #               затронутых при вызове метода execute().\n",
    "\n",
    "        return performers, albums\n",
    "    \n",
    "\n",
    "performers, albums = select_records()\n",
    "\n",
    "print()\n",
    "for performer in performers:\n",
    "    print(performer)\n",
    "    \n",
    "print()\n",
    "for album in albums:\n",
    "    print(album)"
   ]
  },
  {
   "cell_type": "markdown",
   "metadata": {},
   "source": [
    "### ORM (Object-Relational Mapping)"
   ]
  },
  {
   "cell_type": "code",
   "execution_count": 5,
   "metadata": {
    "collapsed": true
   },
   "outputs": [],
   "source": [
    "import sqlalchemy\n",
    "from sqlalchemy.orm import sessionmaker\n",
    "from sqlalchemy.ext.declarative import declarative_base\n",
    "from sqlalchemy import Column, Integer, String, ForeignKey\n",
    "from sqlalchemy.orm import relationship\n",
    "\n",
    "\n",
    "Base = declarative_base()\n",
    "\n",
    "\n",
    "class Performer(Base):\n",
    "    __tablename__ = 'performers'\n",
    "    \n",
    "    id = Column(Integer, primary_key=True)\n",
    "    name = Column(String)\n",
    "    desc = Column(String)\n",
    "    albums = relationship('Album', back_populates='performer')\n",
    "    \n",
    "    def __repr__(self):\n",
    "        return \"<Performer(name='%s', desc='%s')>\" % (\n",
    "                        self.name, self.desc)\n",
    "\n",
    "\n",
    "class Album(Base):\n",
    "    __tablename__ = 'albums'\n",
    "    \n",
    "    id = Column(Integer, primary_key=True)\n",
    "    name = Column(String)\n",
    "    release_year = Column(Integer)\n",
    "    perfid = Column(Integer, ForeignKey('performers.id'))\n",
    "    #performer = relationship('Performer', backref='albums')\n",
    "    performer = relationship('Performer', back_populates='albums')\n",
    "    \n",
    "    def __repr__(self):\n",
    "        return \"<Album(name='%s', year='%d')>\" % (\n",
    "                        self.name, self.release_year)\n"
   ]
  },
  {
   "cell_type": "code",
   "execution_count": 6,
   "metadata": {
    "collapsed": false
   },
   "outputs": [],
   "source": [
    "def insert_records_via_ORM():\n",
    "    ans = input('Do you wish to insert some performers? (y/n)')\n",
    "    while ans== 'y':\n",
    "        name = input('Performer: ')\n",
    "        performer = Performer(name=name, desc='')\n",
    "        session.add(performer)\n",
    "        session.commit()\n",
    "\n",
    "        ans = input('Continue? (y/n)')\n",
    "\n",
    "    ans = input('Do you wish to insert some albums? (y/n)')\n",
    "    while ans == 'y':\n",
    "        performer_name = input('Performer: ')\n",
    "        performer = session.query(Performer) \\\n",
    "                           .filter(Performer.name == performer_name) \\\n",
    "                           .first()\n",
    "        if performer:\n",
    "            album_name = input('Album name: ')\n",
    "            album_year = int(input('Album year: '))\n",
    "            album = Album(name=album_name, release_year=album_year)\n",
    "            performer.albums.append(album)\n",
    "            session.add(album)\n",
    "            session.flush()\n",
    "            session.commit()\n",
    "        else:    \n",
    "            print('No such performer!')\n",
    "            \n",
    "        ans = input('Continue? (y/n)')\n"
   ]
  },
  {
   "cell_type": "code",
   "execution_count": 7,
   "metadata": {
    "collapsed": true
   },
   "outputs": [],
   "source": [
    "def select_records_via_ORM():\n",
    "    performers = [performer.name \n",
    "                  for performer in session.query(Performer)]\n",
    "    albums = [(album.performer.name, album.name, album.release_year) \n",
    "              for album in session.query(Album)]\n",
    "    return performers, albums\n"
   ]
  },
  {
   "cell_type": "code",
   "execution_count": 8,
   "metadata": {
    "collapsed": false
   },
   "outputs": [
    {
     "name": "stdout",
     "output_type": "stream",
     "text": [
      "Do you wish to insert some performers? (y/n)y\n",
      "Performer: Camel\n",
      "Continue? (y/n)n\n",
      "Do you wish to insert some albums? (y/n)y\n",
      "Performer: Camel\n",
      "Album name: A Nod And A Wink\n",
      "Album year: 2002\n",
      "Continue? (y/n)y\n",
      "Performer: 10cc\n",
      "Album name: Look Hear?\n",
      "Album year: 1979\n",
      "Continue? (y/n)y\n",
      "Performer: Camel\n",
      "Album name: Rain Dances\n",
      "Album year: 1977\n",
      "Continue? (y/n)n\n",
      "\n",
      "Performers:\n",
      "10cc\n",
      "Supertramp\n",
      "Renaissance\n",
      "Camel\n",
      "\n",
      "Albums:\n",
      "('10cc', 'Deceptive Bends', 1977)\n",
      "('Supertramp', 'Breakfast in America', 1979)\n",
      "('Renaissance', 'Novella', 1977)\n",
      "('Camel', 'A Nod And A Wink', 2002)\n",
      "('10cc', 'Look Hear?', 1979)\n",
      "('Camel', 'Rain Dances', 1977)\n"
     ]
    }
   ],
   "source": [
    "# Флаг echo включает ведение лога через стандартный модуль logging Питона.\n",
    "# Когда он включен, мы увидим все созданные нами SQL-запросы.\n",
    "engine = sqlalchemy.create_engine('sqlite:///' + DBNAME, echo=False)\n",
    "#engine = sqlalchemy.create_engine('sqlite:///:memory:', echo=True)\n",
    "\n",
    "Session = sessionmaker(bind=engine)\n",
    "session = Session()\n",
    "\n",
    "insert_records_via_ORM()\n",
    "\n",
    "performers, albums = select_records_via_ORM()\n",
    "\n",
    "print('\\nPerformers:')\n",
    "for performer in performers:\n",
    "    print(performer)\n",
    "\n",
    "print('\\nAlbums:')\n",
    "for album in albums:\n",
    "    print(album)\n",
    "    \n",
    "session.close()"
   ]
  },
  {
   "cell_type": "code",
   "execution_count": 9,
   "metadata": {
    "collapsed": false
   },
   "outputs": [
    {
     "data": {
      "text/plain": [
       "[('10cc', 'Deceptive Bends', 1977),\n",
       " ('Renaissance', 'Novella', 1977),\n",
       " ('Camel', 'Rain Dances', 1977)]"
      ]
     },
     "execution_count": 9,
     "metadata": {},
     "output_type": "execute_result"
    }
   ],
   "source": [
    "albums = [(album.performer.name, album.name, album.release_year) \n",
    "              for album in session.query(Album).filter(Album.release_year == 1977)]\n",
    "albums"
   ]
  },
  {
   "cell_type": "markdown",
   "metadata": {},
   "source": [
    "### noSql и mongoDB"
   ]
  },
  {
   "cell_type": "code",
   "execution_count": null,
   "metadata": {
    "collapsed": true
   },
   "outputs": [],
   "source": []
  }
 ],
 "metadata": {
  "kernelspec": {
   "display_name": "Python 3",
   "language": "python",
   "name": "python3"
  },
  "language_info": {
   "codemirror_mode": {
    "name": "ipython",
    "version": 3
   },
   "file_extension": ".py",
   "mimetype": "text/x-python",
   "name": "python",
   "nbconvert_exporter": "python",
   "pygments_lexer": "ipython3",
   "version": "3.6.0"
  }
 },
 "nbformat": 4,
 "nbformat_minor": 0
}

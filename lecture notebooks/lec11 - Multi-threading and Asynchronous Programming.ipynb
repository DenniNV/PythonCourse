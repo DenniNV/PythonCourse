{
 "cells": [
  {
   "cell_type": "markdown",
   "metadata": {},
   "source": [
    "### Лекция 11 - Многопоточность и асинхронность в Python\n",
    "\n",
    "- Модуль threading\n",
    "- Глобальная блокировка интерпретатора (GIL)\n",
    "- Механизмы синхронизации\n",
    "- Очереди, Producer/Consumer\n",
    "- Асинхронность в Python\n",
    "- Модуль asyncio\n",
    "- Ключевые слова async/await"
   ]
  },
  {
   "cell_type": "code",
   "execution_count": 1,
   "metadata": {
    "collapsed": true
   },
   "outputs": [],
   "source": [
    "import threading\n",
    "import time"
   ]
  },
  {
   "cell_type": "code",
   "execution_count": 2,
   "metadata": {
    "collapsed": false
   },
   "outputs": [
    {
     "name": "stdout",
     "output_type": "stream",
     "text": [
      "- up to 1048832 : pn=1048583\n",
      "- up to 1048832 : pn=1048589\n",
      "- up to 1048832 : pn=1048601\n",
      "- up to 1048832 : pn=1048609\n",
      "- up to 1048832 : pn=1048613\n",
      "- up to 1048832 : pn=1048627\n",
      "- up to 1048832 : pn=1048633\n",
      "- up to 1048832 : pn=1048661\n",
      "- up to 1048832 : pn=1048681\n",
      "- up to 1048832 : pn=1048703\n",
      "- up to 1048832 : pn=1048709\n",
      "- up to 1048832 : pn=1048717\n",
      "- up to 1048832 : pn=1048721\n",
      "- up to 1048832 : pn=1048759\n",
      "- up to 1048832 : pn=1048783\n",
      "- up to 1048832 : pn=1048793\n",
      "- up to 1048832 : pn=1048799\n",
      "- up to 1048832 : pn=1048807\n",
      "- up to 1048832 : pn=1048829\n"
     ]
    }
   ],
   "source": [
    "def prime_numbers(lower, upper):\n",
    "    ''' (неэффективная) функция для вывода простых чисел в диапазоне '''\n",
    "    if lower < 2:\n",
    "        lower = 2\n",
    "    for num in range(lower, upper + 1):\n",
    "        for i in range(2, num):\n",
    "            if num % i == 0:\n",
    "                break\n",
    "        else:\n",
    "            print('- up to {} : pn={}'.format(upper, num))\n",
    "                \n",
    "\n",
    "t = threading.Thread(target=prime_numbers,\n",
    "                     args=(2**20, 2**20 + 256))\n",
    "t.start()"
   ]
  },
  {
   "cell_type": "code",
   "execution_count": 3,
   "metadata": {
    "collapsed": false
   },
   "outputs": [
    {
     "name": "stdout",
     "output_type": "stream",
     "text": [
      "- up to 200 : pn=151\n",
      "- up to 200 : pn=157\n",
      "- up to 200 : pn=163\n",
      "- up to 200 : pn=167\n",
      "- up to 200 : pn=173\n",
      "- up to 200 : pn=179\n",
      "- up to 200 : pn=181\n",
      "- up to 200 : pn=191\n",
      "- up to 200 : pn=193\n",
      "- up to 200 : pn=197\n",
      "- up to 200 : pn=199\n"
     ]
    }
   ],
   "source": [
    "class PrimeNumberThread(threading.Thread):\n",
    "    ''' Класс генерации простых чисел с функцией потока '''\n",
    "    def __init__(self, lower, upper):\n",
    "        self.__lower = lower\n",
    "        self.__upper = upper\n",
    "        threading.Thread.__init__(self)\n",
    "\n",
    "    def run(self):\n",
    "        for num in range(self.__lower, self.__upper + 1):\n",
    "            for i in range(2, num):\n",
    "                if num % i == 0:\n",
    "                    break\n",
    "            else:\n",
    "                print('- up to {} : pn={}'.format(self.__upper, num))\n",
    "\n",
    "\n",
    "t = PrimeNumberThread(150, 200)\n",
    "t.start()"
   ]
  },
  {
   "cell_type": "code",
   "execution_count": 4,
   "metadata": {
    "collapsed": false
   },
   "outputs": [
    {
     "name": "stdout",
     "output_type": "stream",
     "text": [
      "- up to 1048832 : pn=1048583\n",
      "- up to 2097408 : pn=2097169\n",
      "- up to 1048832 : pn=1048589\n",
      "- up to 1048832 : pn=1048601\n",
      "- up to 2097408 : pn=2097211- up to 1048832 : pn=1048609\n",
      "\n",
      "- up to 1048832 : pn=1048613\n",
      "- up to 2097408 : pn=2097223\n",
      "- up to 1048832 : pn=1048627\n",
      "- up to 1048832 : pn=1048633\n",
      "- up to 2097408 : pn=2097229\n",
      "- up to 1048832 : pn=1048661\n",
      "- up to 1048832 : pn=1048681\n",
      "- up to 2097408 : pn=2097257\n",
      "- up to 1048832 : pn=1048703\n",
      "- up to 1048832 : pn=1048709- up to 2097408 : pn=2097259\n",
      "\n",
      "- up to 1048832 : pn=1048717\n",
      "- up to 1048832 : pn=1048721\n",
      "- up to 2097408 : pn=2097287- up to 1048832 : pn=1048759\n",
      "\n",
      "- up to 1048832 : pn=1048783\n",
      "- up to 2097408 : pn=2097289\n",
      "- up to 1048832 : pn=1048793\n",
      "- up to 1048832 : pn=1048799\n",
      "- up to 2097408 : pn=2097311\n",
      "- up to 1048832 : pn=1048807\n",
      "- up to 1048832 : pn=1048829\n",
      "- up to 2097408 : pn=2097317\n",
      "- up to 2097408 : pn=2097349\n",
      "- up to 2097408 : pn=2097373\n",
      "- up to 2097408 : pn=2097383\n",
      "- up to 2097408 : pn=2097397\n",
      "- up to 2097408 : pn=2097401\n"
     ]
    }
   ],
   "source": [
    "# пример одновременного выполнения 2 потоков:\n",
    "t1 = PrimeNumberThread(2**20, 2**20 + 256)\n",
    "t2 = PrimeNumberThread(2**21, 2**21 + 256)\n",
    "t1.start()\n",
    "t2.start()"
   ]
  },
  {
   "cell_type": "markdown",
   "metadata": {},
   "source": [
    "### Пример окна с индикацией прогресса (wxPython)\n",
    "\n",
    "![wxPythonDemo](images/gauge_demo.png)"
   ]
  },
  {
   "cell_type": "code",
   "execution_count": null,
   "metadata": {
    "collapsed": true
   },
   "outputs": [],
   "source": [
    "import wx\n",
    "\n",
    "\n",
    "class DownloadThread(threading.Thread):\n",
    "    ''' Класс простого потока индикации прогресса.\n",
    "         \n",
    "        __percentage - текущий процент выполнения операции\n",
    "        __update - функция, которая вызывается \n",
    "        __callback - функция, которая будет вызываться\n",
    "    '''\n",
    "    def __init__(self, thread_name, thread_func, callback):\n",
    "        threading.Thread.__init__(self)\n",
    "        self.daemon = True\n",
    "        self.name = thread_name\n",
    "        self.__percentage = 0\n",
    "        self.__update = thread_func\n",
    "        self.__callback = callback\n",
    "    \n",
    "    def run(self):\n",
    "        while self.__percentage < 100:\n",
    "            time.sleep(0.03)\n",
    "            self.__percentage += 1\n",
    "            self.__update(self.__percentage)\n",
    "        \n",
    "        self.__callback(self.name)\n",
    "\n",
    "\n",
    "class MainFrame(wx.Frame):\n",
    "    def __init__(self):\n",
    "        wx.Frame.__init__(self, None, wx.ID_ANY, 'Threads!', size=(400, 300))\n",
    "        \n",
    "        panel = wx.Panel(self, -1)\n",
    "        self.gauge1 = wx.Gauge(panel, -1, pos=(20,20), size=(360,40))\n",
    "        self.gauge2 = wx.Gauge(panel, -1, pos=(20,80), size=(360,40))\n",
    "\n",
    "        button_start1 = wx.Button(panel, -1, 'start thread #1', pos=(20,140),\n",
    "                                 size = (170, 50) )\n",
    "        button_start2 = wx.Button(panel, -1, 'start thread #2', pos=(210,140),\n",
    "                                 size = (170, 50) )\n",
    "        self.Bind(wx.EVT_BUTTON, self.on_start_thread1, button_start1)\n",
    "        self.Bind(wx.EVT_BUTTON, self.on_start_thread2, button_start2)\n",
    "\n",
    "        self.info_text = wx.StaticText(panel, -1, pos=(20, 230), size=(360, 20))\n",
    "        self.info_text.SetLabel('Idle...')\n",
    "        \n",
    "    def on_start_thread1(self,event):\n",
    "        self.dthread1 = DownloadThread('1', self.update_gauge1, self.download_finished)\n",
    "        self.dthread1.start()\n",
    "        \n",
    "    def on_start_thread2(self,event):\n",
    "        self.dthread2 = DownloadThread('2', self.update_gauge2, self.download_finished)\n",
    "        self.dthread2.start()\n",
    "        \n",
    "    def update_gauge1(self, percentage):\n",
    "        self.gauge1.SetValue(percentage)        \n",
    "        \n",
    "    def update_gauge2(self, percentage):\n",
    "        self.gauge2.SetValue(percentage)\n",
    "        \n",
    "    def download_finished(self, thread_no):\n",
    "        self.info_text.SetLabel('Thread {} has finished'.format(thread_no))\n",
    "\n",
    "\n",
    "if __name__ == '__main__':\n",
    "    app = wx.App()\n",
    "    frame = MainFrame()\n",
    "    frame.Show()\n",
    "    app.MainLoop()"
   ]
  },
  {
   "cell_type": "markdown",
   "metadata": {},
   "source": [
    "### GIL (Global Interpreter Lock)\n",
    "\n",
    "Если свести к одному предложению, то: в Python CPU-bound задачи не многопоточны. "
   ]
  },
  {
   "cell_type": "code",
   "execution_count": 5,
   "metadata": {
    "collapsed": false
   },
   "outputs": [
    {
     "name": "stdout",
     "output_type": "stream",
     "text": [
      "Single-threaded version: 2.298603057861328 sec\n",
      "Result: 199999990000000\n"
     ]
    }
   ],
   "source": [
    "# Посчитаем сумму всех чисел из диапазона [1, 20000000)\n",
    "# однопоточная версия\n",
    "lower = 1\n",
    "upper = 20000000\n",
    " \n",
    "tm1 = time.time()\n",
    " \n",
    "total = 0\n",
    "for i in range(lower, upper):\n",
    "    total += i\n",
    "\n",
    "tm2 = time.time()\n",
    " \n",
    "print('Single-threaded version: {} sec'.format(tm2 - tm1))\n",
    "print('Result: {}'.format(total))"
   ]
  },
  {
   "cell_type": "code",
   "execution_count": 6,
   "metadata": {
    "collapsed": false
   },
   "outputs": [
    {
     "name": "stdout",
     "output_type": "stream",
     "text": [
      "Multi-threaded version: 1.2420885562896729 sec\n",
      "Result: 199999990000000\n"
     ]
    }
   ],
   "source": [
    "# многопоточная версия\n",
    "\n",
    "middle = 10000000\n",
    " \n",
    "def count_sum(start, end, res):\n",
    "    total = 0\n",
    "    for i in range(start, end):\n",
    "        total += i\n",
    "    res[0] = total \n",
    "\n",
    "\n",
    "sum1 = [0] \n",
    "sum2 = [0]\n",
    " \n",
    "tm1 = time.time()\n",
    " \n",
    "t1 = threading.Thread(target=count_sum, args=(lower, middle, sum1)) \n",
    "t2 = threading.Thread(target=count_sum, args=(middle, upper, sum2)) \n",
    "t1.start()\n",
    "t2.start()\n",
    "t1.join()\n",
    "t2.join()\n",
    " \n",
    "total = sum1[0] + sum2[0]\n",
    " \n",
    "tm2 = time.time()\n",
    " \n",
    "print('Multi-threaded version: {} sec'.format(tm2 - tm1))\n",
    "print('Result: {}'.format(total))"
   ]
  },
  {
   "cell_type": "markdown",
   "metadata": {},
   "source": [
    "Согласно GIL, многопоточная версия не должна быть быстрее однопоточной.\n",
    "А у нас результат оказался противоположным.\n",
    "\n",
    "Причина - хитрая. В примере выше мы вызываем глобальную функцию, оперирующую глобальными переменными. Глобальные переменные хранятся в хеш-таблице.\n",
    "А потоки выполняются посредством своих функций со стеком переменных, и там переменные хранятся в массивах. Скорость адресации в массиве выше скорости доступа к элементу хеш-таблицы. За счет этого получается выигрыш второй версии.\n",
    "\n",
    "Ну а если напишем однопоточную версию с помощью функции, то получим ожидаемый результат:"
   ]
  },
  {
   "cell_type": "code",
   "execution_count": 7,
   "metadata": {
    "collapsed": false
   },
   "outputs": [
    {
     "name": "stdout",
     "output_type": "stream",
     "text": [
      "Single-threaded version: 1.2139441967010498 sec\n",
      "Result: 199999990000000\n"
     ]
    }
   ],
   "source": [
    "lower = 1\n",
    "upper = 20000000\n",
    " \n",
    "tm1 = time.time()\n",
    " \n",
    "total = [0]\n",
    "count_sum(lower, upper, total)\n",
    " \n",
    "tm2 = time.time()\n",
    " \n",
    "print('Single-threaded version: {} sec'.format(tm2 - tm1))\n",
    "print('Result: {}'.format(total[0]))"
   ]
  },
  {
   "cell_type": "markdown",
   "metadata": {},
   "source": [
    "Время замерять часто удобнее с помощью timeit:"
   ]
  },
  {
   "cell_type": "code",
   "execution_count": 8,
   "metadata": {
    "collapsed": false
   },
   "outputs": [
    {
     "name": "stdout",
     "output_type": "stream",
     "text": [
      "1 loop, best of 3: 1.14 s per loop\n"
     ]
    }
   ],
   "source": [
    "%timeit count_sum(lower, upper, total)"
   ]
  },
  {
   "cell_type": "code",
   "execution_count": 9,
   "metadata": {
    "collapsed": false
   },
   "outputs": [
    {
     "name": "stdout",
     "output_type": "stream",
     "text": [
      "0\n",
      "1\n",
      "0\n",
      "1\n",
      "0\n",
      "1\n",
      "0\n",
      "1\n",
      "0\n",
      "1\n"
     ]
    }
   ],
   "source": [
    "from random import randint\n",
    "\n",
    "\n",
    "def writer(x, event_for_wait, event_for_set):\n",
    "    for i in range(5):\n",
    "        event_for_wait.wait() # wait for event\n",
    "        event_for_wait.clear() # clean event for future\n",
    "        print(x)\n",
    "        time.sleep(randint(1, 3) % 3)\n",
    "        event_for_set.set() # set event for neighbor thread\n",
    "\n",
    "# init events\n",
    "e1 = threading.Event()\n",
    "e2 = threading.Event()\n",
    "\n",
    "# init threads\n",
    "t1 = threading.Thread(target=writer, args=(0, e1, e2))\n",
    "t2 = threading.Thread(target=writer, args=(1, e2, e1))\n",
    "\n",
    "# start threads\n",
    "t1.start()\n",
    "t2.start()\n",
    "\n",
    "e1.set() # initiate the first event\n",
    "\n",
    "# join threads to the main thread\n",
    "t1.join()\n",
    "t2.join()"
   ]
  },
  {
   "cell_type": "code",
   "execution_count": 10,
   "metadata": {
    "collapsed": false
   },
   "outputs": [
    {
     "name": "stdout",
     "output_type": "stream",
     "text": [
      "0\n",
      "1\n",
      "2\n",
      "3\n",
      "4\n",
      "5\n",
      "6\n",
      "7\n",
      "8\n",
      "9\n",
      "0\n",
      "1\n",
      "2\n",
      "3\n",
      "4\n"
     ]
    }
   ],
   "source": [
    "lock = threading.Lock()\n",
    "\n",
    "def count_numbers(n, delay):\n",
    "    with lock:\n",
    "        for i in range(n):\n",
    "            print(i)\n",
    "            time.sleep(delay)\n",
    "\n",
    "\n",
    "t1 = threading.Thread(target=count_numbers, args=(10, 1))\n",
    "t2 = threading.Thread(target=count_numbers, args=(5, 2))\n",
    "\n",
    "t1.start()\n",
    "t2.start()\n",
    "\n",
    "t1.join() \n",
    "t2.join()"
   ]
  },
  {
   "cell_type": "code",
   "execution_count": 11,
   "metadata": {
    "collapsed": false
   },
   "outputs": [
    {
     "name": "stdout",
     "output_type": "stream",
     "text": [
      "Thread-19 5\n",
      "Thread-20 6\n",
      "Thread-21 7\n",
      "Thread-18 4\n",
      "Thread-17 3Thread-16\n",
      " Thread-14 20\n",
      "\n",
      "Thread-15 1\n",
      "Thread-22 8\n",
      "Thread-23 9\n",
      "Thread-19 10\n",
      "Thread-20 11\n",
      "Thread-21 12\n",
      "Thread-18 13\n",
      "Thread-17 14\n",
      "Thread-16 15\n",
      "Thread-14 16\n",
      "Thread-15 17\n",
      "Thread-22 18\n",
      "Thread-23 19\n",
      "Entire job took: 1.025883436203003\n"
     ]
    }
   ],
   "source": [
    "# Работа с потоками через очередь Queue\n",
    "# This module provides a thread-safe queue implementation. \n",
    "# It provides a convenient way of moving Python objects between different threads.\n",
    "\n",
    "from queue import Queue\n",
    "\n",
    "\n",
    "print_lock = threading.Lock()\n",
    "\n",
    "\n",
    "def exampleJob(worker):\n",
    "    time.sleep(.5) # pretend to do some work.\n",
    "    with print_lock:\n",
    "        print(threading.current_thread().name,worker)\n",
    "\n",
    "\n",
    "# The threader thread pulls an worker from the queue and processes it\n",
    "def threader():\n",
    "    while True:\n",
    "        # gets an worker from the queue\n",
    "        worker = q.get()\n",
    "        # Run the example job with the avail worker in queue (thread)\n",
    "        exampleJob(worker)\n",
    "        # completed with the job\n",
    "        q.task_done()\n",
    "\n",
    "\n",
    "# Create the queue and threader \n",
    "q = Queue()\n",
    "\n",
    "\n",
    "# how many threads are we going to allow for\n",
    "for x in range(10):\n",
    "    t = threading.Thread(target=threader)\n",
    "    # classifying as a daemon, so they will die when the main dies\n",
    "    t.daemon = True\n",
    "    # begins, must come after daemon definition\n",
    "    t.start()\n",
    "\n",
    "\n",
    "start = time.time()\n",
    "\n",
    "# 20 jobs assigned.\n",
    "for worker in range(20):\n",
    "    q.put(worker)\n",
    "\n",
    "# wait until the thread terminates.\n",
    "q.join()\n",
    "\n",
    "# with 10 workers and 20 tasks, with each task being .5 seconds, then the completed job\n",
    "# is ~1 second using threading. Normally 20 tasks with .5 seconds each would take 10 seconds.\n",
    "\n",
    "print('Entire job took:',time.time() - start)"
   ]
  },
  {
   "cell_type": "markdown",
   "metadata": {},
   "source": [
    "### Асинхронность в Python"
   ]
  },
  {
   "cell_type": "code",
   "execution_count": 12,
   "metadata": {
    "collapsed": false
   },
   "outputs": [
    {
     "name": "stdout",
     "output_type": "stream",
     "text": [
      "Compute 10 + 12 ...\n",
      "10 + 12 = 22\n"
     ]
    }
   ],
   "source": [
    "\"\"\"\n",
    "Two coroutines chained together.\n",
    "\n",
    "The compute() coroutine is chained to the print_sum() coroutine. The\n",
    "print_sum() coroutine waits until compute() is completed before it returns a\n",
    "result.\n",
    "\"\"\"\n",
    "import asyncio\n",
    "\n",
    "\n",
    "# Notice the decorator!\n",
    "@asyncio.coroutine\n",
    "def compute(x, y):\n",
    "    print(\"Compute %s + %s ...\" % (x, y))\n",
    "    # Pause the coroutine for 1 second by yielding from asyncio's built in\n",
    "    # sleep coroutine. This simulates the time taken by a non-blocking I/O\n",
    "    # call. During this time the event loop can get on with other things.\n",
    "    yield from asyncio.sleep(1.0)\n",
    "    # Actually return a result!\n",
    "    return x + y\n",
    "\n",
    "\n",
    "@asyncio.coroutine\n",
    "def print_sum(x, y):\n",
    "    # Pause the coroutine until the compute() coroutine has a result.\n",
    "    result = yield from compute(x, y)\n",
    "    # The following print() function won't be called until there's a result.\n",
    "    print(\"%s + %s = %s\" % (x, y, result))\n",
    "\n",
    "\n",
    "# Reference the event loop.\n",
    "loop = asyncio.get_event_loop()\n",
    "# Start the event loop and continue until print_sum() is complete.\n",
    "loop.run_until_complete(print_sum(10, 12))\n",
    "# Shut down the event loop.\n",
    "#loop.close()"
   ]
  },
  {
   "cell_type": "code",
   "execution_count": 13,
   "metadata": {
    "collapsed": false
   },
   "outputs": [
    {
     "name": "stdout",
     "output_type": "stream",
     "text": [
      "Task A: Compute factorial(2)...\n",
      "Task B: Compute factorial(2)...\n",
      "Task C: Compute factorial(2)...\n",
      "Task A: factorial(2) = 2\n",
      "Task B: Compute factorial(3)...\n",
      "Task C: Compute factorial(3)...\n",
      "Task B: factorial(3) = 6\n",
      "Task C: Compute factorial(4)...\n",
      "Task C: factorial(4) = 24\n"
     ]
    },
    {
     "data": {
      "text/plain": [
       "({<Task finished coro=<factorial() done, defined at <ipython-input-13-c799d60bbb68>:7> result=None>,\n",
       "  <Task finished coro=<factorial() done, defined at <ipython-input-13-c799d60bbb68>:7> result=None>,\n",
       "  <Task finished coro=<factorial() done, defined at <ipython-input-13-c799d60bbb68>:7> result=None>},\n",
       " set())"
      ]
     },
     "execution_count": 13,
     "metadata": {},
     "output_type": "execute_result"
    }
   ],
   "source": [
    "\"\"\"\n",
    "Three tasks running the same factorial coroutine in parallel.\n",
    "\"\"\"\n",
    "import asyncio\n",
    "\n",
    "\n",
    "@asyncio.coroutine\n",
    "def factorial(name, number):\n",
    "    f = 1\n",
    "    for i in range(2, number+1):\n",
    "        print(\"Task %s: Compute factorial(%s)...\" % (name, i))\n",
    "        yield from asyncio.sleep(1)\n",
    "        f *= i\n",
    "    print(\"Task %s: factorial(%s) = %s\" % (name, number, f))\n",
    "\n",
    "\n",
    "# Instantiating tasks doesn't cause the coroutine to be run. It merely\n",
    "# schedules the tasks.\n",
    "tasks = [\n",
    "    asyncio.Task(factorial(\"A\", 2)),\n",
    "    asyncio.Task(factorial(\"B\", 3)),\n",
    "    asyncio.Task(factorial(\"C\", 4)),\n",
    "]\n",
    "\n",
    "\n",
    "# Get the event loop and cause it to run until all the tasks are done.\n",
    "loop = asyncio.get_event_loop()\n",
    "loop.run_until_complete(asyncio.wait(tasks))"
   ]
  },
  {
   "cell_type": "code",
   "execution_count": null,
   "metadata": {
    "collapsed": true
   },
   "outputs": [],
   "source": []
  }
 ],
 "metadata": {
  "kernelspec": {
   "display_name": "Python 3",
   "language": "python",
   "name": "python3"
  },
  "language_info": {
   "codemirror_mode": {
    "name": "ipython",
    "version": 3
   },
   "file_extension": ".py",
   "mimetype": "text/x-python",
   "name": "python",
   "nbconvert_exporter": "python",
   "pygments_lexer": "ipython3",
   "version": "3.6.0"
  }
 },
 "nbformat": 4,
 "nbformat_minor": 1
}

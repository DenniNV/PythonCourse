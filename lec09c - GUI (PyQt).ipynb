{
 "cells": [
  {
   "cell_type": "markdown",
   "metadata": {},
   "source": [
    "### Лекция 9c - Программирование GUI (pyQt)\n",
    "\n",
    "![PyQtDemo](images\\PyQt.png)\n",
    "\n",
    "1) В программе QtDesigner формируем необходимое окошко с лейаутом и контролами\n",
    "\n",
    "2) Запускаем утилиту pyuic4 (на основе разметки ```*.ui``` будет сгенерирован модуль ```*.py```)\n",
    "\n",
    "3) Пишем код с обработчиками и главным циклом обработки сообщений:"
   ]
  },
  {
   "cell_type": "code",
   "execution_count": 1,
   "metadata": {
    "collapsed": false
   },
   "outputs": [
    {
     "name": "stdout",
     "output_type": "stream",
     "text": [
      "Program has exited with code 0\n"
     ]
    }
   ],
   "source": [
    "import sys\n",
    "from PyQt4.QtCore import *\n",
    "from PyQt4.QtGui import *\n",
    "from qt.test_ui import Ui_Dialog\n",
    "\n",
    "\n",
    "class MyForm(QMainWindow):\n",
    "\n",
    "    def __init__(self, parent=None):\n",
    "        QWidget.__init__(self, parent)\n",
    "        self.ui = Ui_Dialog()\n",
    "        self.ui.setupUi(self)\n",
    "        self.fill_list()\n",
    "\n",
    "    def fill_list(self):\n",
    "        words = ['Hello', 'man', 'How\\'re', 'You', 'Doing?']\n",
    "        m = QStandardItemModel(self)\n",
    "\n",
    "        for word in words:\n",
    "            item = QStandardItem(word)\n",
    "            m.appendRow(item)\n",
    "\n",
    "        self.ui.listView.setModel(m)\n",
    "\n",
    "    def accept(self):\n",
    "        self.ui.listView.model().appendRow(QStandardItem('Yeah!'))\n",
    "\n",
    "    def reject(self):\n",
    "        self.close()\n",
    "\n",
    "\n",
    "if __name__ == \"__main__\":\n",
    "    app = QApplication(sys.argv)\n",
    "    form = MyForm()\n",
    "    form.show()\n",
    "    try:\n",
    "        sys.exit(app.exec_())\n",
    "    except SystemExit as se:\n",
    "        print('Program has exited with code {}'.format(se))"
   ]
  }
 ],
 "metadata": {
  "anaconda-cloud": {},
  "kernelspec": {
   "display_name": "Python [Root]",
   "language": "python",
   "name": "Python [Root]"
  },
  "language_info": {
   "codemirror_mode": {
    "name": "ipython",
    "version": 3
   },
   "file_extension": ".py",
   "mimetype": "text/x-python",
   "name": "python",
   "nbconvert_exporter": "python",
   "pygments_lexer": "ipython3",
   "version": "3.5.2"
  }
 },
 "nbformat": 4,
 "nbformat_minor": 0
}

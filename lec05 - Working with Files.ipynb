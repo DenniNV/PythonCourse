{
 "cells": [
  {
   "cell_type": "markdown",
   "metadata": {
    "collapsed": true
   },
   "source": [
    "### Лекция 5 - Работа с файлами и файловой системой в Python\n",
    "\n",
    "- работа с файлами\n",
    "- модули os, shutil\n",
    "- модули glob, pathlib\n",
    "- сериализация: pickle, JSON\n",
    "- ZIP-архивация, модуль zipfile"
   ]
  },
  {
   "cell_type": "code",
   "execution_count": 1,
   "metadata": {
    "collapsed": false
   },
   "outputs": [
    {
     "data": {
      "text/plain": [
       "['_CHUNK_SIZE',\n",
       " '__class__',\n",
       " '__del__',\n",
       " '__delattr__',\n",
       " '__dict__',\n",
       " '__dir__',\n",
       " '__doc__',\n",
       " '__enter__',\n",
       " '__eq__',\n",
       " '__exit__',\n",
       " '__format__',\n",
       " '__ge__',\n",
       " '__getattribute__',\n",
       " '__getstate__',\n",
       " '__gt__',\n",
       " '__hash__',\n",
       " '__init__',\n",
       " '__iter__',\n",
       " '__le__',\n",
       " '__lt__',\n",
       " '__ne__',\n",
       " '__new__',\n",
       " '__next__',\n",
       " '__reduce__',\n",
       " '__reduce_ex__',\n",
       " '__repr__',\n",
       " '__setattr__',\n",
       " '__sizeof__',\n",
       " '__str__',\n",
       " '__subclasshook__',\n",
       " '_checkClosed',\n",
       " '_checkReadable',\n",
       " '_checkSeekable',\n",
       " '_checkWritable',\n",
       " '_finalizing',\n",
       " 'buffer',\n",
       " 'close',\n",
       " 'closed',\n",
       " 'detach',\n",
       " 'encoding',\n",
       " 'errors',\n",
       " 'fileno',\n",
       " 'flush',\n",
       " 'isatty',\n",
       " 'line_buffering',\n",
       " 'mode',\n",
       " 'name',\n",
       " 'newlines',\n",
       " 'read',\n",
       " 'readable',\n",
       " 'readline',\n",
       " 'readlines',\n",
       " 'seek',\n",
       " 'seekable',\n",
       " 'tell',\n",
       " 'truncate',\n",
       " 'writable',\n",
       " 'write',\n",
       " 'writelines']"
      ]
     },
     "execution_count": 1,
     "metadata": {},
     "output_type": "execute_result"
    }
   ],
   "source": [
    "file = open(r'data\\temp.txt', 'wt')\n",
    "\n",
    "# ... do smth. with opened file\n",
    "\n",
    "file.close()\n",
    "\n",
    "dir(file)"
   ]
  },
  {
   "cell_type": "code",
   "execution_count": 2,
   "metadata": {
    "collapsed": false
   },
   "outputs": [
    {
     "data": {
      "text/plain": [
       "True"
      ]
     },
     "execution_count": 2,
     "metadata": {},
     "output_type": "execute_result"
    }
   ],
   "source": [
    "file.closed"
   ]
  },
  {
   "cell_type": "code",
   "execution_count": 3,
   "metadata": {
    "collapsed": false
   },
   "outputs": [
    {
     "data": {
      "text/plain": [
       "'cp1251'"
      ]
     },
     "execution_count": 3,
     "metadata": {},
     "output_type": "execute_result"
    }
   ],
   "source": [
    "file.encoding"
   ]
  },
  {
   "cell_type": "code",
   "execution_count": 4,
   "metadata": {
    "collapsed": false
   },
   "outputs": [
    {
     "data": {
      "text/plain": [
       "'data\\\\temp.txt'"
      ]
     },
     "execution_count": 4,
     "metadata": {},
     "output_type": "execute_result"
    }
   ],
   "source": [
    "file.name"
   ]
  },
  {
   "cell_type": "code",
   "execution_count": 5,
   "metadata": {
    "collapsed": false
   },
   "outputs": [
    {
     "data": {
      "text/plain": [
       "'wt'"
      ]
     },
     "execution_count": 5,
     "metadata": {},
     "output_type": "execute_result"
    }
   ],
   "source": [
    "file.mode"
   ]
  },
  {
   "cell_type": "code",
   "execution_count": 6,
   "metadata": {
    "collapsed": false
   },
   "outputs": [
    {
     "name": "stdout",
     "output_type": "stream",
     "text": [
      "Help on built-in function open in module io:\n",
      "\n",
      "open(file, mode='r', buffering=-1, encoding=None, errors=None, newline=None, closefd=True, opener=None)\n",
      "    Open file and return a stream.  Raise IOError upon failure.\n",
      "    \n",
      "    file is either a text or byte string giving the name (and the path\n",
      "    if the file isn't in the current working directory) of the file to\n",
      "    be opened or an integer file descriptor of the file to be\n",
      "    wrapped. (If a file descriptor is given, it is closed when the\n",
      "    returned I/O object is closed, unless closefd is set to False.)\n",
      "    \n",
      "    mode is an optional string that specifies the mode in which the file\n",
      "    is opened. It defaults to 'r' which means open for reading in text\n",
      "    mode.  Other common values are 'w' for writing (truncating the file if\n",
      "    it already exists), 'x' for creating and writing to a new file, and\n",
      "    'a' for appending (which on some Unix systems, means that all writes\n",
      "    append to the end of the file regardless of the current seek position).\n",
      "    In text mode, if encoding is not specified the encoding used is platform\n",
      "    dependent: locale.getpreferredencoding(False) is called to get the\n",
      "    current locale encoding. (For reading and writing raw bytes use binary\n",
      "    mode and leave encoding unspecified.) The available modes are:\n",
      "    \n",
      "    ========= ===============================================================\n",
      "    Character Meaning\n",
      "    --------- ---------------------------------------------------------------\n",
      "    'r'       open for reading (default)\n",
      "    'w'       open for writing, truncating the file first\n",
      "    'x'       create a new file and open it for writing\n",
      "    'a'       open for writing, appending to the end of the file if it exists\n",
      "    'b'       binary mode\n",
      "    't'       text mode (default)\n",
      "    '+'       open a disk file for updating (reading and writing)\n",
      "    'U'       universal newline mode (deprecated)\n",
      "    ========= ===============================================================\n",
      "    \n",
      "    The default mode is 'rt' (open for reading text). For binary random\n",
      "    access, the mode 'w+b' opens and truncates the file to 0 bytes, while\n",
      "    'r+b' opens the file without truncation. The 'x' mode implies 'w' and\n",
      "    raises an `FileExistsError` if the file already exists.\n",
      "    \n",
      "    Python distinguishes between files opened in binary and text modes,\n",
      "    even when the underlying operating system doesn't. Files opened in\n",
      "    binary mode (appending 'b' to the mode argument) return contents as\n",
      "    bytes objects without any decoding. In text mode (the default, or when\n",
      "    't' is appended to the mode argument), the contents of the file are\n",
      "    returned as strings, the bytes having been first decoded using a\n",
      "    platform-dependent encoding or using the specified encoding if given.\n",
      "    \n",
      "    'U' mode is deprecated and will raise an exception in future versions\n",
      "    of Python.  It has no effect in Python 3.  Use newline to control\n",
      "    universal newlines mode.\n",
      "    \n",
      "    buffering is an optional integer used to set the buffering policy.\n",
      "    Pass 0 to switch buffering off (only allowed in binary mode), 1 to select\n",
      "    line buffering (only usable in text mode), and an integer > 1 to indicate\n",
      "    the size of a fixed-size chunk buffer.  When no buffering argument is\n",
      "    given, the default buffering policy works as follows:\n",
      "    \n",
      "    * Binary files are buffered in fixed-size chunks; the size of the buffer\n",
      "      is chosen using a heuristic trying to determine the underlying device's\n",
      "      \"block size\" and falling back on `io.DEFAULT_BUFFER_SIZE`.\n",
      "      On many systems, the buffer will typically be 4096 or 8192 bytes long.\n",
      "    \n",
      "    * \"Interactive\" text files (files for which isatty() returns True)\n",
      "      use line buffering.  Other text files use the policy described above\n",
      "      for binary files.\n",
      "    \n",
      "    encoding is the name of the encoding used to decode or encode the\n",
      "    file. This should only be used in text mode. The default encoding is\n",
      "    platform dependent, but any encoding supported by Python can be\n",
      "    passed.  See the codecs module for the list of supported encodings.\n",
      "    \n",
      "    errors is an optional string that specifies how encoding errors are to\n",
      "    be handled---this argument should not be used in binary mode. Pass\n",
      "    'strict' to raise a ValueError exception if there is an encoding error\n",
      "    (the default of None has the same effect), or pass 'ignore' to ignore\n",
      "    errors. (Note that ignoring encoding errors can lead to data loss.)\n",
      "    See the documentation for codecs.register or run 'help(codecs.Codec)'\n",
      "    for a list of the permitted encoding error strings.\n",
      "    \n",
      "    newline controls how universal newlines works (it only applies to text\n",
      "    mode). It can be None, '', '\\n', '\\r', and '\\r\\n'.  It works as\n",
      "    follows:\n",
      "    \n",
      "    * On input, if newline is None, universal newlines mode is\n",
      "      enabled. Lines in the input can end in '\\n', '\\r', or '\\r\\n', and\n",
      "      these are translated into '\\n' before being returned to the\n",
      "      caller. If it is '', universal newline mode is enabled, but line\n",
      "      endings are returned to the caller untranslated. If it has any of\n",
      "      the other legal values, input lines are only terminated by the given\n",
      "      string, and the line ending is returned to the caller untranslated.\n",
      "    \n",
      "    * On output, if newline is None, any '\\n' characters written are\n",
      "      translated to the system default line separator, os.linesep. If\n",
      "      newline is '' or '\\n', no translation takes place. If newline is any\n",
      "      of the other legal values, any '\\n' characters written are translated\n",
      "      to the given string.\n",
      "    \n",
      "    If closefd is False, the underlying file descriptor will be kept open\n",
      "    when the file is closed. This does not work when a file name is given\n",
      "    and must be True in that case.\n",
      "    \n",
      "    A custom opener can be used by passing a callable as *opener*. The\n",
      "    underlying file descriptor for the file object is then obtained by\n",
      "    calling *opener* with (*file*, *flags*). *opener* must return an open\n",
      "    file descriptor (passing os.open as *opener* results in functionality\n",
      "    similar to passing None).\n",
      "    \n",
      "    open() returns a file object whose type depends on the mode, and\n",
      "    through which the standard file operations such as reading and writing\n",
      "    are performed. When open() is used to open a file in a text mode ('w',\n",
      "    'r', 'wt', 'rt', etc.), it returns a TextIOWrapper. When used to open\n",
      "    a file in a binary mode, the returned class varies: in read binary\n",
      "    mode, it returns a BufferedReader; in write binary and append binary\n",
      "    modes, it returns a BufferedWriter, and in read/write mode, it returns\n",
      "    a BufferedRandom.\n",
      "    \n",
      "    It is also possible to use a string or bytearray as a file for both\n",
      "    reading and writing. For strings StringIO can be used like a file\n",
      "    opened in a text mode, and for bytes a BytesIO can be used like a file\n",
      "    opened in a binary mode.\n",
      "\n"
     ]
    }
   ],
   "source": [
    "help(open)"
   ]
  },
  {
   "cell_type": "code",
   "execution_count": 7,
   "metadata": {
    "collapsed": false
   },
   "outputs": [
    {
     "name": "stdout",
     "output_type": "stream",
     "text": [
      "File's been updated succesfully\n"
     ]
    }
   ],
   "source": [
    "s = ['Hello ', 'World\\n', '(c) Admin\\n']\n",
    "\n",
    "# запись списка строк в текстовый файл demo.txt:\n",
    "try:\n",
    "    f = open(r'data\\demo.txt', 'wt')\n",
    "    f.writelines(s)\n",
    "except IOError as err:\n",
    "    print(err)\n",
    "except:\n",
    "    print('Something\\'s gone wrong...')\n",
    "else:\n",
    "    print('File\\'s been updated succesfully')    \n",
    "finally:\n",
    "    if f:\n",
    "        f.close()"
   ]
  },
  {
   "cell_type": "code",
   "execution_count": 8,
   "metadata": {
    "collapsed": false
   },
   "outputs": [
    {
     "name": "stdout",
     "output_type": "stream",
     "text": [
      "Read from file: ['Hello World\\n', '(c) Admin\\n']\n",
      "After post-processing: ['Hello World', '(c) Admin']\n"
     ]
    }
   ],
   "source": [
    "# смысл конструкции with - более короткая запись кода:\n",
    "#\n",
    "# -- setup --\n",
    "# try:\n",
    "#     -- do_smth --\n",
    "# finally:\n",
    "#     -- tear down --\n",
    "#\n",
    "\n",
    "# чтение строк из файла (с конструкцией with)\n",
    "try:\n",
    "    with open(r'data\\demo.txt', 'rt') as f:\n",
    "        lines = f.readlines()\n",
    "except IOError as err:\n",
    "    print(err)\n",
    "    lines = []\n",
    "\n",
    "# вывести строки из файла в \"сыром\" виде\n",
    "print('Read from file:', lines)\n",
    "\n",
    "\n",
    "# 1 - убрать \\n на конце каждой строки с помощью rstrip и мар\n",
    "newlines = list(map(lambda x: x.rstrip(), lines))\n",
    "# 2 - убрать \\n на конце каждой строки с помощью rstrip и list comprehension\n",
    "newlines = [x.rstrip() for x in lines]\n",
    "\n",
    "print('After post-processing:', newlines)"
   ]
  },
  {
   "cell_type": "code",
   "execution_count": 9,
   "metadata": {
    "collapsed": false
   },
   "outputs": [
    {
     "name": "stdout",
     "output_type": "stream",
     "text": [
      "World\n",
      "(c)\n",
      "Current file position: 16\n"
     ]
    }
   ],
   "source": [
    "file = open(r'data\\demo.txt', 'r+')\n",
    "\n",
    "file.seek(6)\n",
    "word = file.read(9);\n",
    "print(word)\n",
    "\n",
    "pos = file.tell();\n",
    "print('Current file position:', pos)\n",
    "\n",
    "file.close()"
   ]
  },
  {
   "cell_type": "markdown",
   "metadata": {},
   "source": [
    "#### Работа с файловой системой и ОС"
   ]
  },
  {
   "cell_type": "code",
   "execution_count": 10,
   "metadata": {
    "collapsed": false
   },
   "outputs": [
    {
     "data": {
      "text/plain": [
       "'C:\\\\Users\\\\Tim\\\\Documents\\\\Python Scripts'"
      ]
     },
     "execution_count": 10,
     "metadata": {},
     "output_type": "execute_result"
    }
   ],
   "source": [
    "import os\n",
    "\n",
    "os.getcwd()"
   ]
  },
  {
   "cell_type": "code",
   "execution_count": 11,
   "metadata": {
    "collapsed": true
   },
   "outputs": [],
   "source": [
    "# забавно создаем пустой файл:\n",
    "open(r'data\\ghost.txt', 'wt').close()\n",
    "\n",
    "# переименуем\n",
    "os.rename(r'data\\ghost.txt', r'data\\to_delete.txt')\n",
    "\n",
    "# да и удалим\n",
    "os.remove(r'data\\to_delete.txt')"
   ]
  },
  {
   "cell_type": "markdown",
   "metadata": {},
   "source": [
    "Модуль **send2trash** отвечает за безопасное удаление файлов:\n",
    "\n",
    "```\n",
    "import send2trash\n",
    "\n",
    "send2trash.send2trash('data\\demo.txt')\n",
    "```"
   ]
  },
  {
   "cell_type": "code",
   "execution_count": 12,
   "metadata": {
    "collapsed": false
   },
   "outputs": [
    {
     "data": {
      "text/plain": [
       "False"
      ]
     },
     "execution_count": 12,
     "metadata": {},
     "output_type": "execute_result"
    }
   ],
   "source": [
    "os.path.exists('What.txt')"
   ]
  },
  {
   "cell_type": "code",
   "execution_count": 13,
   "metadata": {
    "collapsed": false
   },
   "outputs": [
    {
     "data": {
      "text/plain": [
       "True"
      ]
     },
     "execution_count": 13,
     "metadata": {},
     "output_type": "execute_result"
    }
   ],
   "source": [
    "os.path.isdir('data')"
   ]
  },
  {
   "cell_type": "code",
   "execution_count": 14,
   "metadata": {
    "collapsed": false
   },
   "outputs": [
    {
     "data": {
      "text/plain": [
       "True"
      ]
     },
     "execution_count": 14,
     "metadata": {},
     "output_type": "execute_result"
    }
   ],
   "source": [
    "os.path.isfile('Useful Resources.ipynb')"
   ]
  },
  {
   "cell_type": "code",
   "execution_count": 15,
   "metadata": {
    "collapsed": false
   },
   "outputs": [
    {
     "data": {
      "text/plain": [
       "'D:\\\\Program Files\\\\Projects'"
      ]
     },
     "execution_count": 15,
     "metadata": {},
     "output_type": "execute_result"
    }
   ],
   "source": [
    "os.path.join('D:\\\\', 'Program Files', 'Projects')"
   ]
  },
  {
   "cell_type": "code",
   "execution_count": 16,
   "metadata": {
    "collapsed": false
   },
   "outputs": [
    {
     "data": {
      "text/plain": [
       "'Python Scripts'"
      ]
     },
     "execution_count": 16,
     "metadata": {},
     "output_type": "execute_result"
    }
   ],
   "source": [
    "os.path.basename(os.getcwd())"
   ]
  },
  {
   "cell_type": "code",
   "execution_count": 17,
   "metadata": {
    "collapsed": false
   },
   "outputs": [
    {
     "data": {
      "text/plain": [
       "'C:\\\\Users\\\\Tim\\\\Documents'"
      ]
     },
     "execution_count": 17,
     "metadata": {},
     "output_type": "execute_result"
    }
   ],
   "source": [
    "os.path.dirname(os.getcwd())"
   ]
  },
  {
   "cell_type": "code",
   "execution_count": 18,
   "metadata": {
    "collapsed": false
   },
   "outputs": [
    {
     "data": {
      "text/plain": [
       "'28801 bytes'"
      ]
     },
     "execution_count": 18,
     "metadata": {},
     "output_type": "execute_result"
    }
   ],
   "source": [
    "'{} bytes'.format(os.path.getsize('Useful Resources.ipynb'))"
   ]
  },
  {
   "cell_type": "markdown",
   "metadata": {},
   "source": [
    "Еще часть функций из модуля os:\n",
    "- os.listdir\n",
    "- os.mkdir\n",
    "- os.makedirs\n",
    "- os.system - устарело, используется subprocess (см. следующую лекцию)"
   ]
  },
  {
   "cell_type": "code",
   "execution_count": 19,
   "metadata": {
    "collapsed": false
   },
   "outputs": [
    {
     "data": {
      "text/plain": [
       "['.git',\n",
       " '.gitignore',\n",
       " '.ipynb_checkpoints',\n",
       " 'algo',\n",
       " 'data',\n",
       " 'lec01 - Intro.ipynb',\n",
       " 'lec02 - Data types.ipynb',\n",
       " 'lec03 - Modules and packages.ipynb',\n",
       " 'lec04 - Declarative Python, CSharp, Java.pdf',\n",
       " 'lec04 - Elements of functional programming.ipynb',\n",
       " 'lec05 - Working with Files.ipynb',\n",
       " 'lec06 - Processes and IPC.ipynb',\n",
       " 'README.md',\n",
       " 'Useful Resources.ipynb']"
      ]
     },
     "execution_count": 19,
     "metadata": {},
     "output_type": "execute_result"
    }
   ],
   "source": [
    "os.listdir(os.getcwd())"
   ]
  },
  {
   "cell_type": "code",
   "execution_count": 20,
   "metadata": {
    "collapsed": false
   },
   "outputs": [
    {
     "data": {
      "text/plain": [
       "['.git', '.ipynb_checkpoints', 'algo', 'data']"
      ]
     },
     "execution_count": 20,
     "metadata": {},
     "output_type": "execute_result"
    }
   ],
   "source": [
    "# получить список только папок:\n",
    "folders = [entry for entry in os.listdir(os.getcwd())\n",
    "                 if os.path.isdir(entry)]\n",
    "folders"
   ]
  },
  {
   "cell_type": "code",
   "execution_count": 21,
   "metadata": {
    "collapsed": false
   },
   "outputs": [
    {
     "data": {
      "text/plain": [
       "['D:\\\\PythonCourse\\\\.git',\n",
       " 'D:\\\\PythonCourse\\\\.gitignore',\n",
       " 'D:\\\\PythonCourse\\\\.ipynb_checkpoints',\n",
       " 'D:\\\\PythonCourse\\\\algo',\n",
       " 'D:\\\\PythonCourse\\\\data',\n",
       " 'D:\\\\PythonCourse\\\\lec01 - Intro.ipynb',\n",
       " 'D:\\\\PythonCourse\\\\lec02 - Data types.ipynb',\n",
       " 'D:\\\\PythonCourse\\\\lec03 - Modules and packages.ipynb',\n",
       " 'D:\\\\PythonCourse\\\\lec04 - Declarative Python, CSharp, Java.pdf',\n",
       " 'D:\\\\PythonCourse\\\\lec04 - Elements of functional programming.ipynb',\n",
       " 'D:\\\\PythonCourse\\\\lec05 - Working with Files.ipynb',\n",
       " 'D:\\\\PythonCourse\\\\lec06 - Processes and IPC.ipynb',\n",
       " 'D:\\\\PythonCourse\\\\README.md',\n",
       " 'D:\\\\PythonCourse\\\\Useful Resources.ipynb']"
      ]
     },
     "execution_count": 21,
     "metadata": {},
     "output_type": "execute_result"
    }
   ],
   "source": [
    "COPY_DIR = r'D:\\PythonCourse'\n",
    "\n",
    "files = os.listdir(os.getcwd())\n",
    "file_copies = [os.path.join(COPY_DIR, f) for f in files]\n",
    "file_copies"
   ]
  },
  {
   "cell_type": "code",
   "execution_count": 22,
   "metadata": {
    "collapsed": false
   },
   "outputs": [],
   "source": [
    "try:\n",
    "    os.mkdir('test1')\n",
    "    os.makedirs(r'test2\\we_need\\to_go_deeper')\n",
    "except Exception as err:\n",
    "    print(err)"
   ]
  },
  {
   "cell_type": "code",
   "execution_count": 23,
   "metadata": {
    "collapsed": false
   },
   "outputs": [],
   "source": [
    "try:\n",
    "    os.rmdir('test1')\n",
    "    os.rmdir(r'test2\\we_need\\to_go_deeper')\n",
    "    # shutil.rmtree('test2')\n",
    "except Exception as err:\n",
    "    print(err)"
   ]
  },
  {
   "cell_type": "code",
   "execution_count": 24,
   "metadata": {
    "collapsed": false
   },
   "outputs": [
    {
     "name": "stdout",
     "output_type": "stream",
     "text": [
      "Iteration 1:\n",
      "\n",
      "Root: C:\\Users\\Tim\\Documents\\Python Scripts\n",
      "Subfolders: ['algo', 'data', 'test2']\n",
      "Files: ['.gitignore', 'lec01 - Intro.ipynb', 'lec02 - Data types.ipynb', 'lec03 - Modules and packages.ipynb', 'lec04 - Declarative Python, CSharp, Java.pdf', 'lec04 - Elements of functional programming.ipynb', 'lec05 - Working with Files.ipynb', 'lec06 - Processes and IPC.ipynb', 'README.md', 'Useful Resources.ipynb']\n",
      "\n",
      "Iteration 2:\n",
      "\n",
      "Root: C:\\Users\\Tim\\Documents\\Python Scripts\\algo\n",
      "Subfolders: ['__pycache__']\n",
      "Files: ['search.py', 'sort.py', '__init__.py']\n",
      "\n",
      "Iteration 3:\n",
      "\n",
      "Root: C:\\Users\\Tim\\Documents\\Python Scripts\\algo\\__pycache__\n",
      "Subfolders: []\n",
      "Files: ['search.cpython-35.pyc', '__init__.cpython-35.pyc']\n",
      "\n",
      "Iteration 4:\n",
      "\n",
      "Root: C:\\Users\\Tim\\Documents\\Python Scripts\\data\n",
      "Subfolders: []\n",
      "Files: ['data.json', 'data.pkl', 'demo.txt', 'demo.xml', 'democopy.txt', 'temp.txt']\n",
      "\n"
     ]
    }
   ],
   "source": [
    "folder = os.getcwd()\n",
    "\n",
    "# итератор, рекурсивно проходящий по директории\n",
    "dir_iterator = os.walk(folder)\n",
    "\n",
    "for i in range(4):\n",
    "    print('Iteration {}:\\n'.format(i+1))\n",
    "    \n",
    "    root, dirs, files = next(dir_iterator)\n",
    "\n",
    "    # исключим служебные папки, начинающиеся с точки\n",
    "    dirs[:] = [d for d in dirs if not d[0] == '.']\n",
    "    \n",
    "    print('Root:', root)\n",
    "    print('Subfolders:', dirs)\n",
    "    print('Files:', files)\n",
    "    print()"
   ]
  },
  {
   "cell_type": "code",
   "execution_count": 25,
   "metadata": {
    "collapsed": false
   },
   "outputs": [
    {
     "data": {
      "text/plain": [
       "['Error',\n",
       " 'ExecError',\n",
       " 'ReadError',\n",
       " 'RegistryError',\n",
       " 'SameFileError',\n",
       " 'SpecialFileError',\n",
       " '_ARCHIVE_FORMATS',\n",
       " '_BZ2_SUPPORTED',\n",
       " '_LZMA_SUPPORTED',\n",
       " '_UNPACK_FORMATS',\n",
       " '__all__',\n",
       " '__builtins__',\n",
       " '__cached__',\n",
       " '__doc__',\n",
       " '__file__',\n",
       " '__loader__',\n",
       " '__name__',\n",
       " '__package__',\n",
       " '__spec__',\n",
       " '_basename',\n",
       " '_check_unpack_options',\n",
       " '_copyxattr',\n",
       " '_destinsrc',\n",
       " '_ensure_directory',\n",
       " '_find_unpack_format',\n",
       " '_get_gid',\n",
       " '_get_uid',\n",
       " '_make_tarball',\n",
       " '_make_zipfile',\n",
       " '_ntuple_diskusage',\n",
       " '_rmtree_safe_fd',\n",
       " '_rmtree_unsafe',\n",
       " '_samefile',\n",
       " '_unpack_tarfile',\n",
       " '_unpack_zipfile',\n",
       " '_use_fd_functions',\n",
       " 'chown',\n",
       " 'collections',\n",
       " 'copy',\n",
       " 'copy2',\n",
       " 'copyfile',\n",
       " 'copyfileobj',\n",
       " 'copymode',\n",
       " 'copystat',\n",
       " 'copytree',\n",
       " 'disk_usage',\n",
       " 'errno',\n",
       " 'fnmatch',\n",
       " 'get_archive_formats',\n",
       " 'get_terminal_size',\n",
       " 'get_unpack_formats',\n",
       " 'getgrnam',\n",
       " 'getpwnam',\n",
       " 'ignore_patterns',\n",
       " 'make_archive',\n",
       " 'move',\n",
       " 'nt',\n",
       " 'os',\n",
       " 'register_archive_format',\n",
       " 'register_unpack_format',\n",
       " 'rmtree',\n",
       " 'stat',\n",
       " 'sys',\n",
       " 'tarfile',\n",
       " 'unpack_archive',\n",
       " 'unregister_archive_format',\n",
       " 'unregister_unpack_format',\n",
       " 'which']"
      ]
     },
     "execution_count": 25,
     "metadata": {},
     "output_type": "execute_result"
    }
   ],
   "source": [
    "# модуль с even more функциями по работе с файлами и ОС\n",
    "import shutil\n",
    "\n",
    "shutil.copy(r'data\\demo.txt', r'data\\democopy.txt')\n",
    "\n",
    "dir(shutil)"
   ]
  },
  {
   "cell_type": "code",
   "execution_count": 26,
   "metadata": {
    "collapsed": false
   },
   "outputs": [
    {
     "data": {
      "text/plain": [
       "usage(total=209711706112, used=153112027136, free=56599678976)"
      ]
     },
     "execution_count": 26,
     "metadata": {},
     "output_type": "execute_result"
    }
   ],
   "source": [
    "shutil.disk_usage('G:')"
   ]
  },
  {
   "cell_type": "code",
   "execution_count": 27,
   "metadata": {
    "collapsed": false
   },
   "outputs": [
    {
     "name": "stdout",
     "output_type": "stream",
     "text": [
      "Total bytes: 209,711,706,112\n",
      "Used bytes: 153,112,027,136\n",
      "Free bytes: 56,599,678,976\n"
     ]
    }
   ],
   "source": [
    "def formatted(s, sep=','):  \n",
    "    if len(s) <= 3: return s  \n",
    "    return formatted(s[:-3], sep) + sep + s[-3:]\n",
    "\n",
    "\n",
    "total, used, free = shutil.disk_usage('G:')\n",
    "\n",
    "print('Total bytes:', formatted(str(total)))\n",
    "print('Used bytes:', formatted(str(used)))\n",
    "print('Free bytes:', formatted(str(free)))"
   ]
  },
  {
   "cell_type": "code",
   "execution_count": 28,
   "metadata": {
    "collapsed": false
   },
   "outputs": [
    {
     "data": {
      "text/plain": [
       "['__all__',\n",
       " '__builtins__',\n",
       " '__cached__',\n",
       " '__doc__',\n",
       " '__file__',\n",
       " '__loader__',\n",
       " '__name__',\n",
       " '__package__',\n",
       " '__spec__',\n",
       " '_iglob',\n",
       " '_ishidden',\n",
       " '_isrecursive',\n",
       " '_rlistdir',\n",
       " 'escape',\n",
       " 'fnmatch',\n",
       " 'glob',\n",
       " 'glob0',\n",
       " 'glob1',\n",
       " 'glob2',\n",
       " 'has_magic',\n",
       " 'iglob',\n",
       " 'magic_check',\n",
       " 'magic_check_bytes',\n",
       " 'os',\n",
       " 're']"
      ]
     },
     "execution_count": 28,
     "metadata": {},
     "output_type": "execute_result"
    }
   ],
   "source": [
    "# не шибко разнообразный модуль для поиска\n",
    "# файлов и директорий по unix-фильтрам\n",
    "import glob\n",
    "\n",
    "dir(glob)"
   ]
  },
  {
   "cell_type": "code",
   "execution_count": 29,
   "metadata": {
    "collapsed": false
   },
   "outputs": [
    {
     "data": {
      "text/plain": [
       "['lec01 - Intro.ipynb',\n",
       " 'lec02 - Data types.ipynb',\n",
       " 'lec03 - Modules and packages.ipynb',\n",
       " 'lec04 - Elements of functional programming.ipynb',\n",
       " 'lec05 - Working with Files.ipynb',\n",
       " 'lec06 - Processes and IPC.ipynb',\n",
       " 'Useful Resources.ipynb']"
      ]
     },
     "execution_count": 29,
     "metadata": {},
     "output_type": "execute_result"
    }
   ],
   "source": [
    "glob.glob('*.ipynb')\n",
    "\n",
    "# еще варианты:\n",
    "# glob.glob('?.ipynb')\n",
    "# glob.glob('**/*.ipynb', recursive=True)\n",
    "# glob.glob('./**/', recursive=True)"
   ]
  },
  {
   "cell_type": "code",
   "execution_count": 30,
   "metadata": {
    "collapsed": false
   },
   "outputs": [
    {
     "data": {
      "text/plain": [
       "['lec01 - Intro.ipynb',\n",
       " 'lec02 - Data types.ipynb',\n",
       " 'lec03 - Modules and packages.ipynb',\n",
       " 'lec04 - Declarative Python, CSharp, Java.pdf',\n",
       " 'lec04 - Elements of functional programming.ipynb',\n",
       " 'lec05 - Working with Files.ipynb',\n",
       " 'lec06 - Processes and IPC.ipynb']"
      ]
     },
     "execution_count": 30,
     "metadata": {},
     "output_type": "execute_result"
    }
   ],
   "source": [
    "glob.glob('lec[0-9]*.*')"
   ]
  },
  {
   "cell_type": "code",
   "execution_count": 31,
   "metadata": {
    "collapsed": false
   },
   "outputs": [
    {
     "data": {
      "text/plain": [
       "('D:\\\\', 'Program Files', 'Python')"
      ]
     },
     "execution_count": 31,
     "metadata": {},
     "output_type": "execute_result"
    }
   ],
   "source": [
    "# еще модуль для работы с путями файловой системы\n",
    "# (в ООП-стиле, для разных платформ)\n",
    "import pathlib\n",
    "\n",
    "p = pathlib.PureWindowsPath(r'D:\\Program Files\\Python')\n",
    "p.parts"
   ]
  },
  {
   "cell_type": "code",
   "execution_count": 32,
   "metadata": {
    "collapsed": false
   },
   "outputs": [
    {
     "data": {
      "text/plain": [
       "('\\\\', 'usr', 'bin', 'executable')"
      ]
     },
     "execution_count": 32,
     "metadata": {},
     "output_type": "execute_result"
    }
   ],
   "source": [
    "p = pathlib.PurePath('/usr/bin/executable')\n",
    "p.parts"
   ]
  },
  {
   "cell_type": "code",
   "execution_count": 33,
   "metadata": {
    "collapsed": false
   },
   "outputs": [
    {
     "data": {
      "text/plain": [
       "['D:', 'Program Files', 'Python']"
      ]
     },
     "execution_count": 33,
     "metadata": {},
     "output_type": "execute_result"
    }
   ],
   "source": [
    "# того же результата можно достичь обычным сплитом:\n",
    "path = r'D:\\Program Files\\Python'\n",
    "path.split(os.path.sep)"
   ]
  },
  {
   "cell_type": "markdown",
   "metadata": {},
   "source": [
    "В pathlib присутствует весь функционал os.path и более того.\n",
    "\n",
    "Подробнее см. здесь:\n",
    "\n",
    "https://docs.python.org/3/library/pathlib.html#module-pathlib"
   ]
  },
  {
   "cell_type": "markdown",
   "metadata": {},
   "source": [
    "#### Сериализация / десериализация"
   ]
  },
  {
   "cell_type": "code",
   "execution_count": 34,
   "metadata": {
    "collapsed": false
   },
   "outputs": [
    {
     "name": "stdout",
     "output_type": "stream",
     "text": [
      "(1, 3.15, 'Hello', [1, 4, 5])\n"
     ]
    }
   ],
   "source": [
    "# модуль pickle (сериализация / десериализация любых объектов)\n",
    "import pickle \n",
    "    \n",
    "data = (1, 3.15, 'Hello', [1, 4, 5])\n",
    "\n",
    "# сериализация\n",
    "pickle.dump(data, open(r'data\\data.pkl', 'wb'))\n",
    "\n",
    "# десериализация\n",
    "obj = pickle.load(open(r'data\\data.pkl', 'rb'))\n",
    "print(obj)"
   ]
  },
  {
   "cell_type": "code",
   "execution_count": 35,
   "metadata": {
    "collapsed": false
   },
   "outputs": [
    {
     "name": "stdout",
     "output_type": "stream",
     "text": [
      "[1, 3.15, 'Hello', [1, 4, 5]]\n"
     ]
    }
   ],
   "source": [
    "import simplejson\n",
    "\n",
    "# json-сериализация\n",
    "with open(r'data\\data.json', 'w') as f:\n",
    "    simplejson.dump(data, f, indent=4)\n",
    "\n",
    "# json-десериализация\n",
    "json = simplejson.load(open(r'data\\data.json', 'r'))\n",
    "print(json)"
   ]
  },
  {
   "cell_type": "code",
   "execution_count": 36,
   "metadata": {
    "collapsed": false
   },
   "outputs": [
    {
     "name": "stdout",
     "output_type": "stream",
     "text": [
      "[\n",
      "    1,\n",
      "    3.15,\n",
      "    \"Hello\",\n",
      "    [\n",
      "        1,\n",
      "        4,\n",
      "        5\n",
      "    ]\n",
      "]\n"
     ]
    }
   ],
   "source": [
    "with open(r'data\\data.json', 'r') as f:\n",
    "    for line in f:\n",
    "        print(line.rstrip())"
   ]
  },
  {
   "cell_type": "code",
   "execution_count": 37,
   "metadata": {
    "collapsed": false
   },
   "outputs": [],
   "source": [
    "# XML\n",
    "# Пример взят из документации:\n",
    "# https://docs.python.org/3.5/library/xml.etree.elementtree.html\n",
    "\n",
    "xml = '''<?xml version=\"1.0\"?>\n",
    "<data>\n",
    "    <country name=\"Liechtenstein\">\n",
    "        <rank>1</rank>\n",
    "        <year>2008</year>\n",
    "        <gdppc>141100</gdppc>\n",
    "        <neighbor name=\"Austria\" direction=\"E\"/>\n",
    "        <neighbor name=\"Switzerland\" direction=\"W\"/>\n",
    "    </country>\n",
    "    <country name=\"Singapore\">\n",
    "        <rank>4</rank>\n",
    "        <year>2011</year>\n",
    "        <gdppc>59900</gdppc>\n",
    "        <neighbor name=\"Malaysia\" direction=\"N\"/>\n",
    "    </country>\n",
    "    <country name=\"Panama\">\n",
    "        <rank>68</rank>\n",
    "        <year>2011</year>\n",
    "        <gdppc>13600</gdppc>\n",
    "        <neighbor name=\"Costa Rica\" direction=\"W\"/>\n",
    "        <neighbor name=\"Colombia\" direction=\"E\"/>\n",
    "    </country>\n",
    "</data>\n",
    "'''\n",
    "\n",
    "xmlfile = open(r'data\\demo.xml', 'w')\n",
    "xmlfile.write(xml)\n",
    "xmlfile.close()"
   ]
  },
  {
   "cell_type": "code",
   "execution_count": 38,
   "metadata": {
    "collapsed": false
   },
   "outputs": [
    {
     "data": {
      "text/plain": [
       "'data'"
      ]
     },
     "execution_count": 38,
     "metadata": {},
     "output_type": "execute_result"
    }
   ],
   "source": [
    "import xml.etree.ElementTree as ET\n",
    "\n",
    "tree = ET.parse(r'data\\demo.xml')\n",
    "root = tree.getroot()\n",
    "root.tag"
   ]
  },
  {
   "cell_type": "code",
   "execution_count": 39,
   "metadata": {
    "collapsed": false
   },
   "outputs": [
    {
     "name": "stdout",
     "output_type": "stream",
     "text": [
      "country {'name': 'Liechtenstein'}\n",
      "country {'name': 'Singapore'}\n",
      "country {'name': 'Panama'}\n"
     ]
    }
   ],
   "source": [
    "for child in root:\n",
    "    print(child.tag, child.attrib)"
   ]
  },
  {
   "cell_type": "code",
   "execution_count": 40,
   "metadata": {
    "collapsed": false
   },
   "outputs": [
    {
     "data": {
      "text/plain": [
       "[<Element 'data' at 0x02CBB5A0>]"
      ]
     },
     "execution_count": 40,
     "metadata": {},
     "output_type": "execute_result"
    }
   ],
   "source": [
    "# демонстрация адресации XPath\n",
    "\n",
    "root.findall(\".\")"
   ]
  },
  {
   "cell_type": "code",
   "execution_count": 41,
   "metadata": {
    "collapsed": false
   },
   "outputs": [
    {
     "name": "stdout",
     "output_type": "stream",
     "text": [
      "Austria\n",
      "Switzerland\n",
      "Malaysia\n",
      "Costa Rica\n",
      "Colombia\n"
     ]
    }
   ],
   "source": [
    "neighbors = root.findall('./country/neighbor')\n",
    "for neighbor in neighbors:\n",
    "    print(neighbor.get('name'))"
   ]
  },
  {
   "cell_type": "code",
   "execution_count": 42,
   "metadata": {
    "collapsed": false
   },
   "outputs": [
    {
     "data": {
      "text/plain": [
       "[<Element 'country' at 0x02D77D80>]"
      ]
     },
     "execution_count": 42,
     "metadata": {},
     "output_type": "execute_result"
    }
   ],
   "source": [
    "root.findall(\".//year/..[@name='Singapore']\")"
   ]
  },
  {
   "cell_type": "code",
   "execution_count": 43,
   "metadata": {
    "collapsed": false
   },
   "outputs": [
    {
     "name": "stdout",
     "output_type": "stream",
     "text": [
      "2011\n"
     ]
    }
   ],
   "source": [
    "print(root.findall(\".//*[@name='Singapore']/year\")[0].text)"
   ]
  },
  {
   "cell_type": "code",
   "execution_count": 44,
   "metadata": {
    "collapsed": false
   },
   "outputs": [
    {
     "name": "stdout",
     "output_type": "stream",
     "text": [
      "Switzerland\n",
      "Colombia\n"
     ]
    }
   ],
   "source": [
    "second_neighbors = root.findall(\".//neighbor[2]\")\n",
    "for neighbor in second_neighbors:\n",
    "    print(neighbor.get('name'))"
   ]
  },
  {
   "cell_type": "code",
   "execution_count": 45,
   "metadata": {
    "collapsed": false
   },
   "outputs": [
    {
     "name": "stdout",
     "output_type": "stream",
     "text": [
      "Root element: data\n"
     ]
    }
   ],
   "source": [
    "# Еще модуль с DOM-парсером:\n",
    "import xml.dom.minidom\n",
    "\n",
    "\n",
    "DOMTree = xml.dom.minidom.parse(r'data\\demo.xml')\n",
    "collection = DOMTree.documentElement\n",
    "print('Root element: {}'.format(collection.tagName))"
   ]
  },
  {
   "cell_type": "code",
   "execution_count": 46,
   "metadata": {
    "collapsed": false
   },
   "outputs": [
    {
     "name": "stdout",
     "output_type": "stream",
     "text": [
      "Country: Liechtenstein\n",
      "Neighbors:\n",
      "\t Austria\n",
      "\t Switzerland\n",
      "Country: Singapore\n",
      "Neighbors:\n",
      "\t Malaysia\n",
      "Country: Panama\n",
      "Neighbors:\n",
      "\t Costa Rica\n",
      "\t Colombia\n"
     ]
    }
   ],
   "source": [
    "countries = collection.getElementsByTagName(\"country\")\n",
    "\n",
    "for country in countries:\n",
    "    print(\"Country: {}\".format(country.getAttribute('name')))\n",
    "\n",
    "    print('Neighbors:')\n",
    "    neighbors = country.getElementsByTagName('neighbor')\n",
    "    for neighbor in neighbors:\n",
    "        print('\\t', neighbor.getAttribute('name'))\n",
    "   "
   ]
  },
  {
   "cell_type": "code",
   "execution_count": 47,
   "metadata": {
    "collapsed": false
   },
   "outputs": [
    {
     "name": "stdout",
     "output_type": "stream",
     "text": [
      "crating arhive...\n",
      "adding data\\data.json\n",
      "adding data\\data.pkl\n",
      "adding data\\demo.txt\n",
      "closing...\n",
      "\n",
      "data/data.json\n",
      "\tComment:\t b''\n",
      "\tModified:\t 2016-09-13 12:39:04\n",
      "\tSystem:\t\t 0 (0 = Windows, 3 = Unix)\n",
      "\tZIP version:\t 20\n",
      "\tCompressed:\t 86 bytes\n",
      "\tUncompressed:\t\n",
      " 86 bytes\n",
      "data/data.pkl\n",
      "\tComment:\t b''\n",
      "\tModified:\t 2016-09-13 12:39:03\n",
      "\tSystem:\t\t 0 (0 = Windows, 3 = Unix)\n",
      "\tZIP version:\t 20\n",
      "\tCompressed:\t 41 bytes\n",
      "\tUncompressed:\t\n",
      " 41 bytes\n",
      "data/demo.txt\n",
      "\tComment:\t b''\n",
      "\tModified:\t 2016-09-13 12:39:01\n",
      "\tSystem:\t\t 0 (0 = Windows, 3 = Unix)\n",
      "\tZIP version:\t 20\n",
      "\tCompressed:\t 24 bytes\n",
      "\tUncompressed:\t\n",
      " 24 bytes\n"
     ]
    }
   ],
   "source": [
    "# ZIP-архивация\n",
    "# Подробнее здесь: https://pymotw.com/3/zipfile/\n",
    "import zipfile\n",
    "import datetime\n",
    "\n",
    "files = [r'data\\data.json', r'data\\data.pkl', r'data\\demo.txt']\n",
    "\n",
    "print('crating arhive...')\n",
    "\n",
    "archive = zipfile.ZipFile(r'data\\archive.zip', mode='w')\n",
    "try:\n",
    "    for file in files:\n",
    "        print('adding {}'.format(file))\n",
    "        archive.write(file)\n",
    "finally:\n",
    "    print('closing...\\n')\n",
    "    archive.close()\n",
    "\n",
    "\n",
    "for info in archive.infolist():\n",
    "    print(info.filename)\n",
    "    print('\\tComment:\\t', info.comment)\n",
    "    print('\\tModified:\\t', datetime.datetime(*info.date_time))\n",
    "    print('\\tSystem:\\t\\t', info.create_system, '(0 = Windows, 3 = Unix)')\n",
    "    print('\\tZIP version:\\t', info.create_version)\n",
    "    print('\\tCompressed:\\t', info.compress_size, 'bytes')\n",
    "    print('\\tUncompressed:\\t\\n', info.file_size, 'bytes')"
   ]
  }
 ],
 "metadata": {
  "anaconda-cloud": {},
  "kernelspec": {
   "display_name": "Python [Root]",
   "language": "python",
   "name": "Python [Root]"
  },
  "language_info": {
   "codemirror_mode": {
    "name": "ipython",
    "version": 3
   },
   "file_extension": ".py",
   "mimetype": "text/x-python",
   "name": "python",
   "nbconvert_exporter": "python",
   "pygments_lexer": "ipython3",
   "version": "3.5.2"
  }
 },
 "nbformat": 4,
 "nbformat_minor": 0
}

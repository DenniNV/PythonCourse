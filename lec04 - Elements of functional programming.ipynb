{
 "cells": [
  {
   "cell_type": "markdown",
   "metadata": {},
   "source": [
    "## Лекция 4 - Элементы функционального программирования в Python\n",
    "\n",
    "- синтаксис функций\n",
    "- LEGB\n",
    "- лямбды\n",
    "- filter, map, zip\n",
    "- генераторы и итераторы\n",
    "- декораторы\n",
    "- модуль functools\n",
    "- модуль itertools (is back)"
   ]
  },
  {
   "cell_type": "code",
   "execution_count": 1,
   "metadata": {
    "collapsed": false
   },
   "outputs": [
    {
     "data": {
      "text/plain": [
       "73"
      ]
     },
     "execution_count": 1,
     "metadata": {},
     "output_type": "execute_result"
    }
   ],
   "source": [
    "# пример простейших функций\n",
    "# (уже не ново, т.к. видели примеры в пакете algo)\n",
    "\n",
    "def foo(x):\n",
    "    return x + 10\n",
    "   \n",
    "magic_number = foo(63)\n",
    "magic_number"
   ]
  },
  {
   "cell_type": "code",
   "execution_count": 2,
   "metadata": {
    "collapsed": false
   },
   "outputs": [
    {
     "name": "stdout",
     "output_type": "stream",
     "text": [
      "Hello\n"
     ]
    }
   ],
   "source": [
    "def bar():\n",
    "    print('Hello')\n",
    "    \n",
    "bar()    "
   ]
  },
  {
   "cell_type": "code",
   "execution_count": 3,
   "metadata": {
    "collapsed": false
   },
   "outputs": [
    {
     "data": {
      "text/plain": [
       "(25, -5, 150)"
      ]
     },
     "execution_count": 3,
     "metadata": {},
     "output_type": "execute_result"
    }
   ],
   "source": [
    "# функция может возвращать все что угодно:\n",
    "# удобно, т.к. можно вернуть несколько значений сразу\n",
    "# (по сути кортеж)\n",
    "def arithmetics(a, b):\n",
    "    ''' функция возвращает сумму, разность и произведение чисел '''\n",
    "    summa = a + b\n",
    "    diff = a - b\n",
    "    mult = a * b\n",
    "    return summa, diff, mult\n",
    "\n",
    "s = arithmetics(10, 15)\n",
    "s"
   ]
  },
  {
   "cell_type": "code",
   "execution_count": 4,
   "metadata": {
    "collapsed": false
   },
   "outputs": [
    {
     "data": {
      "text/plain": [
       "-2"
      ]
     },
     "execution_count": 4,
     "metadata": {},
     "output_type": "execute_result"
    }
   ],
   "source": [
    "_, difference, _ = arithmetics(7, 9)\n",
    "difference"
   ]
  },
  {
   "cell_type": "code",
   "execution_count": 5,
   "metadata": {
    "collapsed": false
   },
   "outputs": [
    {
     "name": "stdout",
     "output_type": "stream",
     "text": [
      "~~~~~~~~~~~~~~~~~~~~\n",
      "~~~~~~~~~~\n",
      "~~~~~\n",
      "Hello\n",
      "~~~~~\n",
      "~~~~~~~~~~\n",
      "~~~~~~~~~~~~~~~~~~~~\n",
      "\n",
      "args:\n",
      "(20, 10, 5)\n",
      "kwargs:\n",
      "{'fill': '~', 'footer': True}\n"
     ]
    }
   ],
   "source": [
    "# Синтаксис *args, **kwargs:\n",
    "def pretty_print(text, *args, **kwargs):\n",
    "    # draw header\n",
    "    for cnt in args:\n",
    "        print(kwargs['fill'] * cnt)\n",
    "        \n",
    "    # print main text\n",
    "    print(text)\n",
    "    \n",
    "    # draw footer\n",
    "    if kwargs['footer']:\n",
    "        for cnt in reversed(args):\n",
    "            print(kwargs['fill'] * cnt)\n",
    "    \n",
    "    # show info\n",
    "    print()        \n",
    "    print('args:')\n",
    "    print(args)\n",
    "    print('kwargs:')\n",
    "    print(kwargs)\n",
    "\n",
    "    \n",
    "pretty_print('Hello', 20, 10, 5, fill='~', footer=True)"
   ]
  },
  {
   "cell_type": "code",
   "execution_count": 6,
   "metadata": {
    "collapsed": false
   },
   "outputs": [
    {
     "ename": "TypeError",
     "evalue": "can't multiply sequence by non-int of type 'list'",
     "output_type": "error",
     "traceback": [
      "\u001b[1;31m---------------------------------------------------------------------------\u001b[0m",
      "\u001b[1;31mTypeError\u001b[0m                                 Traceback (most recent call last)",
      "\u001b[1;32m<ipython-input-6-1a019bd2a2c3>\u001b[0m in \u001b[0;36m<module>\u001b[1;34m()\u001b[0m\n\u001b[0;32m      3\u001b[0m \u001b[1;31m# param_list сам собой не развернется в последовательность параметров\u001b[0m\u001b[1;33m\u001b[0m\u001b[1;33m\u001b[0m\u001b[0m\n\u001b[0;32m      4\u001b[0m \u001b[1;31m# это будет один параметр - список:\u001b[0m\u001b[1;33m\u001b[0m\u001b[1;33m\u001b[0m\u001b[0m\n\u001b[1;32m----> 5\u001b[1;33m \u001b[0mpretty_print\u001b[0m\u001b[1;33m(\u001b[0m\u001b[1;34m'Hello!'\u001b[0m\u001b[1;33m,\u001b[0m \u001b[0mparam_list\u001b[0m\u001b[1;33m,\u001b[0m \u001b[0mfill\u001b[0m\u001b[1;33m=\u001b[0m\u001b[1;34m'~'\u001b[0m\u001b[1;33m,\u001b[0m \u001b[0mfooter\u001b[0m\u001b[1;33m=\u001b[0m\u001b[1;32mFalse\u001b[0m\u001b[1;33m)\u001b[0m\u001b[1;33m\u001b[0m\u001b[0m\n\u001b[0m",
      "\u001b[1;32m<ipython-input-5-d350cdcc5800>\u001b[0m in \u001b[0;36mpretty_print\u001b[1;34m(text, *args, **kwargs)\u001b[0m\n\u001b[0;32m      3\u001b[0m     \u001b[1;31m# draw header\u001b[0m\u001b[1;33m\u001b[0m\u001b[1;33m\u001b[0m\u001b[0m\n\u001b[0;32m      4\u001b[0m     \u001b[1;32mfor\u001b[0m \u001b[0mcnt\u001b[0m \u001b[1;32min\u001b[0m \u001b[0margs\u001b[0m\u001b[1;33m:\u001b[0m\u001b[1;33m\u001b[0m\u001b[0m\n\u001b[1;32m----> 5\u001b[1;33m         \u001b[0mprint\u001b[0m\u001b[1;33m(\u001b[0m\u001b[0mkwargs\u001b[0m\u001b[1;33m[\u001b[0m\u001b[1;34m'fill'\u001b[0m\u001b[1;33m]\u001b[0m \u001b[1;33m*\u001b[0m \u001b[0mcnt\u001b[0m\u001b[1;33m)\u001b[0m\u001b[1;33m\u001b[0m\u001b[0m\n\u001b[0m\u001b[0;32m      6\u001b[0m \u001b[1;33m\u001b[0m\u001b[0m\n\u001b[0;32m      7\u001b[0m     \u001b[1;31m# print main text\u001b[0m\u001b[1;33m\u001b[0m\u001b[1;33m\u001b[0m\u001b[0m\n",
      "\u001b[1;31mTypeError\u001b[0m: can't multiply sequence by non-int of type 'list'"
     ]
    }
   ],
   "source": [
    "param_list = [50, 25, 10]\n",
    "\n",
    "# param_list сам собой не развернется в последовательность параметров\n",
    "# это будет один параметр - список:\n",
    "pretty_print('Hello!', param_list, fill='~', footer=False)"
   ]
  },
  {
   "cell_type": "code",
   "execution_count": 7,
   "metadata": {
    "collapsed": false
   },
   "outputs": [
    {
     "name": "stdout",
     "output_type": "stream",
     "text": [
      "~~~~~~~~~~~~~~~~~~~~~~~~~~~~~~~~~~~~~~~~~~~~~~~~~~\n",
      "~~~~~~~~~~~~~~~~~~~~~~~~~\n",
      "~~~~~~~~~~\n",
      "Hello!\n",
      "\n",
      "args:\n",
      "(50, 25, 10)\n",
      "kwargs:\n",
      "{'fill': '~', 'footer': False}\n"
     ]
    }
   ],
   "source": [
    "# чтобы список трактовался как список параметров, пишем так:\n",
    "pretty_print('Hello!', *param_list, fill='~', footer=False)"
   ]
  },
  {
   "cell_type": "code",
   "execution_count": 8,
   "metadata": {
    "collapsed": false
   },
   "outputs": [
    {
     "name": "stdout",
     "output_type": "stream",
     "text": [
      "XXXXXXXXXX\n"
     ]
    }
   ],
   "source": [
    "def print_chars(char, count):\n",
    "    print(char * count)\n",
    "    \n",
    "print_chars('X', 10)"
   ]
  },
  {
   "cell_type": "code",
   "execution_count": 9,
   "metadata": {
    "collapsed": false
   },
   "outputs": [
    {
     "name": "stdout",
     "output_type": "stream",
     "text": [
      "*****\n"
     ]
    }
   ],
   "source": [
    "print_chars(count=5, char='*')"
   ]
  },
  {
   "cell_type": "code",
   "execution_count": 10,
   "metadata": {
    "collapsed": false
   },
   "outputs": [
    {
     "name": "stdout",
     "output_type": "stream",
     "text": [
      "[1, 2, 3, 42]\n",
      "[1, 2, 3, 73]\n"
     ]
    }
   ],
   "source": [
    "# демонстрация нюанса (список-параметр создается только единожды)\n",
    "def append_item(item, arr=[]):\n",
    "    arr.append(item)\n",
    "    return arr\n",
    "\n",
    "# здксь без эксцессов:\n",
    "print(append_item(42, [1,2,3]))\n",
    "print(append_item(73, [1,2,3]))"
   ]
  },
  {
   "cell_type": "code",
   "execution_count": 11,
   "metadata": {
    "collapsed": false
   },
   "outputs": [
    {
     "name": "stdout",
     "output_type": "stream",
     "text": [
      "[42]\n",
      "[42, 73]\n"
     ]
    }
   ],
   "source": [
    "# а здесь - с эксцессами:\n",
    "print(append_item(42))\n",
    "print(append_item(73))"
   ]
  },
  {
   "cell_type": "code",
   "execution_count": 12,
   "metadata": {
    "collapsed": false
   },
   "outputs": [
    {
     "name": "stdout",
     "output_type": "stream",
     "text": [
      "[42]\n",
      "[73]\n"
     ]
    }
   ],
   "source": [
    "# корректный обход нюанса\n",
    "def append_item(item, arr=None):\n",
    "    if arr is None:\n",
    "        arr = []\n",
    "    arr.append(item)\n",
    " \n",
    "    return arr\n",
    "\n",
    "print(append_item(42))\n",
    "print(append_item(73))"
   ]
  },
  {
   "cell_type": "markdown",
   "metadata": {},
   "source": [
    "### Функция - это first class объект"
   ]
  },
  {
   "cell_type": "code",
   "execution_count": 13,
   "metadata": {
    "collapsed": false
   },
   "outputs": [
    {
     "data": {
      "text/plain": [
       "['__annotations__',\n",
       " '__call__',\n",
       " '__class__',\n",
       " '__closure__',\n",
       " '__code__',\n",
       " '__defaults__',\n",
       " '__delattr__',\n",
       " '__dict__',\n",
       " '__dir__',\n",
       " '__doc__',\n",
       " '__eq__',\n",
       " '__format__',\n",
       " '__ge__',\n",
       " '__get__',\n",
       " '__getattribute__',\n",
       " '__globals__',\n",
       " '__gt__',\n",
       " '__hash__',\n",
       " '__init__',\n",
       " '__kwdefaults__',\n",
       " '__le__',\n",
       " '__lt__',\n",
       " '__module__',\n",
       " '__name__',\n",
       " '__ne__',\n",
       " '__new__',\n",
       " '__qualname__',\n",
       " '__reduce__',\n",
       " '__reduce_ex__',\n",
       " '__repr__',\n",
       " '__setattr__',\n",
       " '__sizeof__',\n",
       " '__str__',\n",
       " '__subclasshook__']"
      ]
     },
     "execution_count": 13,
     "metadata": {},
     "output_type": "execute_result"
    }
   ],
   "source": [
    "# очень важно: функция - это first class объект!\n",
    "dir(pretty_print)"
   ]
  },
  {
   "cell_type": "code",
   "execution_count": 14,
   "metadata": {
    "collapsed": false
   },
   "outputs": [
    {
     "name": "stdout",
     "output_type": "stream",
     "text": [
      "Qualified name: pretty_print\n",
      "Vars: ('text', 'args', 'kwargs', 'cnt')\n"
     ]
    }
   ],
   "source": [
    "# немного поинстроспектируем:\n",
    "print('Qualified name:', pretty_print.__qualname__)\n",
    "print('Vars:', pretty_print.__code__.co_varnames)"
   ]
  },
  {
   "cell_type": "code",
   "execution_count": 15,
   "metadata": {
    "collapsed": false
   },
   "outputs": [
    {
     "data": {
      "text/plain": [
       "20"
      ]
     },
     "execution_count": 15,
     "metadata": {},
     "output_type": "execute_result"
    }
   ],
   "source": [
    "# эквивалентно foo(10)\n",
    "foo.__call__(10)"
   ]
  },
  {
   "cell_type": "code",
   "execution_count": 16,
   "metadata": {
    "collapsed": false
   },
   "outputs": [
    {
     "data": {
      "text/plain": [
       "110"
      ]
     },
     "execution_count": 16,
     "metadata": {},
     "output_type": "execute_result"
    }
   ],
   "source": [
    "# таким образом, функции можно присваивать переменным:\n",
    "func = foo\n",
    "func(100)"
   ]
  },
  {
   "cell_type": "code",
   "execution_count": 17,
   "metadata": {
    "collapsed": false
   },
   "outputs": [
    {
     "name": "stdout",
     "output_type": "stream",
     "text": [
      "foo 15\n",
      "factorial 120\n"
     ]
    }
   ],
   "source": [
    "# можно делать массив из функций\n",
    "# и последовательно выполнять их:\n",
    "import math\n",
    "\n",
    "funcs = [foo, math.factorial]\n",
    "\n",
    "for func in funcs:\n",
    "    print(func.__qualname__, func(5))"
   ]
  },
  {
   "cell_type": "code",
   "execution_count": 18,
   "metadata": {
    "collapsed": false
   },
   "outputs": [
    {
     "data": {
      "text/plain": [
       "[12, 2, 15]"
      ]
     },
     "execution_count": 18,
     "metadata": {},
     "output_type": "execute_result"
    }
   ],
   "source": [
    "# можно передавать функцию в функцию:\n",
    "def process_elementwise(seq, func):\n",
    "    return [func(s) for s in seq]\n",
    "\n",
    "words = ['Fundamentals', 'of', 'brainwashing...']\n",
    "process_elementwise(words, str.__len__)"
   ]
  },
  {
   "cell_type": "code",
   "execution_count": 19,
   "metadata": {
    "collapsed": false
   },
   "outputs": [
    {
     "data": {
      "text/plain": [
       "['FUNDAMENTALS', 'OF', 'BRAINWASHING...']"
      ]
     },
     "execution_count": 19,
     "metadata": {},
     "output_type": "execute_result"
    }
   ],
   "source": [
    "process_elementwise(words, str.upper)"
   ]
  },
  {
   "cell_type": "code",
   "execution_count": 20,
   "metadata": {
    "collapsed": false
   },
   "outputs": [
    {
     "data": {
      "text/plain": [
       "[1, 3, 5, 7, 9]"
      ]
     },
     "execution_count": 20,
     "metadata": {},
     "output_type": "execute_result"
    }
   ],
   "source": [
    "nums = [1, -3, 5, -7, -9]\n",
    "process_elementwise(nums, abs)"
   ]
  },
  {
   "cell_type": "code",
   "execution_count": 21,
   "metadata": {
    "collapsed": false
   },
   "outputs": [
    {
     "data": {
      "text/plain": [
       "[11, 7, 15, 3, 1]"
      ]
     },
     "execution_count": 21,
     "metadata": {},
     "output_type": "execute_result"
    }
   ],
   "source": [
    "process_elementwise(nums, foo)"
   ]
  },
  {
   "cell_type": "markdown",
   "metadata": {},
   "source": [
    "### LEGB (области видимости)\n",
    "\n",
    "- L, Local — Names assigned in any way within a function (def or lambda)), and not declared global in that function.\n",
    "- E, Enclosing function locals — Name in the local scope of any and all enclosing functions (def or lambda), from inner to outer.\n",
    "- G, Global (module) — Names assigned at the top-level of a module file, or declared global in a def within the file.\n",
    "- B, Built-in (Python) — Names preassigned in the built-in names module : open,range,SyntaxError,..."
   ]
  },
  {
   "cell_type": "code",
   "execution_count": 22,
   "metadata": {
    "collapsed": false
   },
   "outputs": [
    {
     "ename": "UnboundLocalError",
     "evalue": "local variable 'x' referenced before assignment",
     "output_type": "error",
     "traceback": [
      "\u001b[1;31m---------------------------------------------------------------------------\u001b[0m",
      "\u001b[1;31mUnboundLocalError\u001b[0m                         Traceback (most recent call last)",
      "\u001b[1;32m<ipython-input-22-1fcd97b12c69>\u001b[0m in \u001b[0;36m<module>\u001b[1;34m()\u001b[0m\n\u001b[0;32m      5\u001b[0m     \u001b[0mx\u001b[0m \u001b[1;33m+=\u001b[0m \u001b[1;36m1\u001b[0m\u001b[1;33m\u001b[0m\u001b[0m\n\u001b[0;32m      6\u001b[0m \u001b[1;33m\u001b[0m\u001b[0m\n\u001b[1;32m----> 7\u001b[1;33m \u001b[0mwrong_scope\u001b[0m\u001b[1;33m(\u001b[0m\u001b[1;33m)\u001b[0m\u001b[1;33m\u001b[0m\u001b[0m\n\u001b[0m",
      "\u001b[1;32m<ipython-input-22-1fcd97b12c69>\u001b[0m in \u001b[0;36mwrong_scope\u001b[1;34m()\u001b[0m\n\u001b[0;32m      2\u001b[0m \u001b[1;33m\u001b[0m\u001b[0m\n\u001b[0;32m      3\u001b[0m \u001b[1;32mdef\u001b[0m \u001b[0mwrong_scope\u001b[0m\u001b[1;33m(\u001b[0m\u001b[1;33m)\u001b[0m\u001b[1;33m:\u001b[0m\u001b[1;33m\u001b[0m\u001b[0m\n\u001b[1;32m----> 4\u001b[1;33m     \u001b[0mprint\u001b[0m\u001b[1;33m(\u001b[0m\u001b[0mx\u001b[0m\u001b[1;33m)\u001b[0m\u001b[1;33m\u001b[0m\u001b[0m\n\u001b[0m\u001b[0;32m      5\u001b[0m     \u001b[0mx\u001b[0m \u001b[1;33m+=\u001b[0m \u001b[1;36m1\u001b[0m\u001b[1;33m\u001b[0m\u001b[0m\n\u001b[0;32m      6\u001b[0m \u001b[1;33m\u001b[0m\u001b[0m\n",
      "\u001b[1;31mUnboundLocalError\u001b[0m: local variable 'x' referenced before assignment"
     ]
    }
   ],
   "source": [
    "x = 73\n",
    "\n",
    "def wrong_scope():\n",
    "    print(x)\n",
    "    x += 1\n",
    "    \n",
    "wrong_scope()    "
   ]
  },
  {
   "cell_type": "code",
   "execution_count": 23,
   "metadata": {
    "collapsed": false
   },
   "outputs": [
    {
     "name": "stdout",
     "output_type": "stream",
     "text": [
      "73\n"
     ]
    }
   ],
   "source": [
    "x = 73\n",
    "\n",
    "def scope_ok():\n",
    "    global x\n",
    "    print(x)\n",
    "    x += 1\n",
    "    \n",
    "scope_ok()"
   ]
  },
  {
   "cell_type": "code",
   "execution_count": 24,
   "metadata": {
    "collapsed": false
   },
   "outputs": [
    {
     "name": "stdout",
     "output_type": "stream",
     "text": [
      "Outer locals: {'x': 42, 'y': 911}\n",
      "func x, y: 5 911\n",
      "func locals: {'y': 911}\n",
      "6 13\n"
     ]
    }
   ],
   "source": [
    "x = 5\n",
    "y = 13\n",
    "\n",
    "def make_closure():\n",
    "    x = 42\n",
    "    y = 911\n",
    "    print('Outer locals:', locals())\n",
    "    \n",
    "    def func():\n",
    "        global x\n",
    "        print('func x, y:', x, y)\n",
    "        print('func locals:', locals())\n",
    "        x += 1\n",
    "\n",
    "    return func\n",
    "\n",
    "func = make_closure()\n",
    "func()\n",
    "\n",
    "print(x, y)"
   ]
  },
  {
   "cell_type": "code",
   "execution_count": 25,
   "metadata": {
    "collapsed": false
   },
   "outputs": [
    {
     "name": "stdout",
     "output_type": "stream",
     "text": [
      "1\n",
      "2\n"
     ]
    }
   ],
   "source": [
    "def make_closure():\n",
    "    value = 0\n",
    "    def get_next_value():\n",
    "        nonlocal value\n",
    "        value += 1\n",
    "        return value\n",
    "    return get_next_value\n",
    "\n",
    "get_next = make_closure()\n",
    "\n",
    "print(get_next())\n",
    "print(get_next())"
   ]
  },
  {
   "cell_type": "code",
   "execution_count": 26,
   "metadata": {
    "collapsed": false
   },
   "outputs": [
    {
     "name": "stdout",
     "output_type": "stream",
     "text": [
      "1\n",
      "2\n"
     ]
    }
   ],
   "source": [
    "# Версия Python 2 (где нет nonlocal)\n",
    "\n",
    "# In python 2 there is no easy way to modify the value in the enclosing scope; \n",
    "# usually this is simulated by having a mutable value, \n",
    "# such as a list with length of 1:\n",
    "\n",
    "def make_closure():\n",
    "    value = [0]\n",
    "    def get_next_value():\n",
    "        value[0] += 1\n",
    "        return value[0]\n",
    "\n",
    "    return get_next_value\n",
    "\n",
    "get_next = make_closure()\n",
    "\n",
    "print(get_next())\n",
    "print(get_next())"
   ]
  },
  {
   "cell_type": "code",
   "execution_count": 27,
   "metadata": {
    "collapsed": false
   },
   "outputs": [
    {
     "name": "stdout",
     "output_type": "stream",
     "text": [
      "4 (b in for-loop)\n",
      "4 (b in global)\n"
     ]
    }
   ],
   "source": [
    "b = 1\n",
    "\n",
    "# for-loop vars leak into global namespace\n",
    "for b in range(5):\n",
    "    if b == 4:\n",
    "        print(b, '(b in for-loop)')\n",
    "        \n",
    "print(b, '(b in global)')"
   ]
  },
  {
   "cell_type": "code",
   "execution_count": 28,
   "metadata": {
    "collapsed": false
   },
   "outputs": [
    {
     "name": "stdout",
     "output_type": "stream",
     "text": [
      "[0, 1, 2, 3, 4]\n",
      "1 (i in global)\n"
     ]
    }
   ],
   "source": [
    "# However, in Python 3.x, we can use closures to prevent \n",
    "# the for-loop variable to cut into the global namespace\n",
    "\n",
    "i = 1\n",
    "print([i for i in range(5)])\n",
    "print(i, '(i in global)')"
   ]
  },
  {
   "cell_type": "markdown",
   "metadata": {},
   "source": [
    "### Лямбда-функции"
   ]
  },
  {
   "cell_type": "code",
   "execution_count": 29,
   "metadata": {
    "collapsed": false
   },
   "outputs": [
    {
     "name": "stdout",
     "output_type": "stream",
     "text": [
      "6:51\n",
      "2:00\n"
     ]
    }
   ],
   "source": [
    "def duration_string(seconds):\n",
    "    return '{}:{:02d}'.format(seconds // 60, seconds % 60)\n",
    "\n",
    "print(duration_string(411))\n",
    "print(duration_string(120))"
   ]
  },
  {
   "cell_type": "code",
   "execution_count": 30,
   "metadata": {
    "collapsed": false
   },
   "outputs": [
    {
     "name": "stdout",
     "output_type": "stream",
     "text": [
      "6:51\n",
      "2:00\n"
     ]
    }
   ],
   "source": [
    "# небольшие функции можно объявлять \"на ходу\"\n",
    "# это анонимные функции (лямбда-функции)\n",
    "\n",
    "dur = lambda seconds: '{}:{:02d}'.format(seconds // 60, seconds % 60)\n",
    "\n",
    "print(dur(411))\n",
    "print(dur(120))"
   ]
  },
  {
   "cell_type": "code",
   "execution_count": 31,
   "metadata": {
    "collapsed": false
   },
   "outputs": [
    {
     "name": "stdout",
     "output_type": "stream",
     "text": [
      "8\n",
      "8\n",
      "8\n",
      "8\n",
      "8\n"
     ]
    }
   ],
   "source": [
    "def create_multipliers():\n",
    "    return [lambda x: i * x for i in range(5)]\n",
    "\n",
    "for multiplier in create_multipliers():\n",
    "    print(multiplier(2))"
   ]
  },
  {
   "cell_type": "code",
   "execution_count": 32,
   "metadata": {
    "collapsed": false
   },
   "outputs": [
    {
     "name": "stdout",
     "output_type": "stream",
     "text": [
      "0\n",
      "2\n",
      "4\n",
      "6\n",
      "8\n"
     ]
    }
   ],
   "source": [
    "def create_multipliers():\n",
    "    return [lambda x, i=i: i * x for i in range(5)]\n",
    "\n",
    "for multiplier in create_multipliers():\n",
    "    print(multiplier(2))"
   ]
  },
  {
   "cell_type": "code",
   "execution_count": 33,
   "metadata": {
    "collapsed": false
   },
   "outputs": [
    {
     "name": "stdout",
     "output_type": "stream",
     "text": [
      "0\n",
      "2\n",
      "4\n",
      "6\n",
      "8\n"
     ]
    }
   ],
   "source": [
    "from functools import partial\n",
    "from operator import mul\n",
    "\n",
    "def create_multipliers():\n",
    "    return [partial(mul, i) for i in range(5)]\n",
    "\n",
    "for multiplier in create_multipliers():\n",
    "    print(multiplier(2))"
   ]
  },
  {
   "cell_type": "code",
   "execution_count": 34,
   "metadata": {
    "collapsed": false
   },
   "outputs": [
    {
     "name": "stdout",
     "output_type": "stream",
     "text": [
      "6\n"
     ]
    }
   ],
   "source": [
    "# Пример: посчитаем сумму цифр числа в декларативном стиле:\n",
    "n = 123\n",
    "print(sum(map(int, str(n))))"
   ]
  },
  {
   "cell_type": "code",
   "execution_count": 35,
   "metadata": {
    "collapsed": false
   },
   "outputs": [
    {
     "data": {
      "text/plain": [
       "10"
      ]
     },
     "execution_count": 35,
     "metadata": {},
     "output_type": "execute_result"
    }
   ],
   "source": [
    "# функция reduce() в Python 2 является встроенной\n",
    "from functools import reduce\n",
    "\n",
    "s = range(1, 5)\n",
    "reduce(lambda x, y: x + y, s)"
   ]
  },
  {
   "cell_type": "markdown",
   "metadata": {},
   "source": [
    "### Итераторы и генераторы:\n",
    "- итератор - это концепция (любой объект, имеющий методы ```next()``` и ```__iter__()```)\n",
    "- генератор - языковое средство (объект вокруг функции с ```yield```)\n",
    "\n",
    "Любой генератор является итератором, но не наоборот."
   ]
  },
  {
   "cell_type": "code",
   "execution_count": 36,
   "metadata": {
    "collapsed": false
   },
   "outputs": [
    {
     "name": "stdout",
     "output_type": "stream",
     "text": [
      "1\n",
      "3\n",
      "5\n",
      "7\n",
      "9\n"
     ]
    }
   ],
   "source": [
    "def odd_iterator(x):\n",
    "    for i in range(1, x, 2):\n",
    "        yield i\n",
    "\n",
    "for x in odd_iterator(10):\n",
    "    print(x)"
   ]
  },
  {
   "cell_type": "code",
   "execution_count": 37,
   "metadata": {
    "collapsed": false
   },
   "outputs": [
    {
     "data": {
      "text/plain": [
       "<generator object odd_iterator at 0x02F3CC60>"
      ]
     },
     "execution_count": 37,
     "metadata": {},
     "output_type": "execute_result"
    }
   ],
   "source": [
    "it = odd_iterator(10)\n",
    "it"
   ]
  },
  {
   "cell_type": "code",
   "execution_count": 38,
   "metadata": {
    "collapsed": false
   },
   "outputs": [
    {
     "name": "stdout",
     "output_type": "stream",
     "text": [
      "1\n",
      "3\n"
     ]
    }
   ],
   "source": [
    "print(next(it))\n",
    "print(next(it))"
   ]
  },
  {
   "cell_type": "code",
   "execution_count": 39,
   "metadata": {
    "collapsed": false
   },
   "outputs": [
    {
     "name": "stdout",
     "output_type": "stream",
     "text": [
      "Caught: Iterator problems!\n"
     ]
    }
   ],
   "source": [
    "try:\n",
    "    it.throw(ValueError('Iterator problems!'))\n",
    "except ValueError as err:\n",
    "    print('Caught:', err)\n",
    "\n",
    "it.close()"
   ]
  },
  {
   "cell_type": "code",
   "execution_count": 40,
   "metadata": {
    "collapsed": false
   },
   "outputs": [
    {
     "ename": "StopIteration",
     "evalue": "",
     "output_type": "error",
     "traceback": [
      "\u001b[1;31m---------------------------------------------------------------------------\u001b[0m",
      "\u001b[1;31mStopIteration\u001b[0m                             Traceback (most recent call last)",
      "\u001b[1;32m<ipython-input-40-2cdb14c0d4d6>\u001b[0m in \u001b[0;36m<module>\u001b[1;34m()\u001b[0m\n\u001b[1;32m----> 1\u001b[1;33m \u001b[0mnext\u001b[0m\u001b[1;33m(\u001b[0m\u001b[0mit\u001b[0m\u001b[1;33m)\u001b[0m\u001b[1;33m\u001b[0m\u001b[0m\n\u001b[0m",
      "\u001b[1;31mStopIteration\u001b[0m: "
     ]
    }
   ],
   "source": [
    "next(it)"
   ]
  },
  {
   "cell_type": "code",
   "execution_count": 41,
   "metadata": {
    "collapsed": false
   },
   "outputs": [
    {
     "data": {
      "text/plain": [
       "['__class__',\n",
       " '__del__',\n",
       " '__delattr__',\n",
       " '__dir__',\n",
       " '__doc__',\n",
       " '__eq__',\n",
       " '__format__',\n",
       " '__ge__',\n",
       " '__getattribute__',\n",
       " '__gt__',\n",
       " '__hash__',\n",
       " '__init__',\n",
       " '__iter__',\n",
       " '__le__',\n",
       " '__lt__',\n",
       " '__name__',\n",
       " '__ne__',\n",
       " '__new__',\n",
       " '__next__',\n",
       " '__qualname__',\n",
       " '__reduce__',\n",
       " '__reduce_ex__',\n",
       " '__repr__',\n",
       " '__setattr__',\n",
       " '__sizeof__',\n",
       " '__str__',\n",
       " '__subclasshook__',\n",
       " 'close',\n",
       " 'gi_code',\n",
       " 'gi_frame',\n",
       " 'gi_running',\n",
       " 'gi_yieldfrom',\n",
       " 'send',\n",
       " 'throw']"
      ]
     },
     "execution_count": 41,
     "metadata": {},
     "output_type": "execute_result"
    }
   ],
   "source": [
    "dir(it)"
   ]
  },
  {
   "cell_type": "code",
   "execution_count": 42,
   "metadata": {
    "collapsed": false
   },
   "outputs": [
    {
     "name": "stdout",
     "output_type": "stream",
     "text": [
      "Got new number: 2\n",
      "Got new number: 5\n",
      "Got new number: 10\n"
     ]
    }
   ],
   "source": [
    "# Но это еще не все:\n",
    "# есть также метод send, который позволяет делать т.н. корутины\n",
    "def coroutine_example():\n",
    "    while True:\n",
    "        x = yield\n",
    "        print('Got new number:', x)\n",
    "        \n",
    "cor = coroutine_example()\n",
    "next(cor)\n",
    "\n",
    "cor.send(2)\n",
    "cor.send(5)\n",
    "cor.send(10)\n",
    "\n",
    "cor.close()"
   ]
  },
  {
   "cell_type": "code",
   "execution_count": 43,
   "metadata": {
    "collapsed": false
   },
   "outputs": [],
   "source": [
    "# предыдущий пример был игрушечный, но в асинхронных фреймворках\n",
    "# корутины являются важнейшим элементом, и в них можно писать\n",
    "# концептуально что-то вроде этого (чтобы это работало, нужен\n",
    "# постоянно крутящийся цикл, в котором данные асинхронно \n",
    "# получаются и передаются, подробнее - в лекции №11):\n",
    "\n",
    "# здесь логика генерации данных для обработки\n",
    "def number_provider():\n",
    "    for i in range(1, 11):\n",
    "        yield i\n",
    "\n",
    "# здесь логика получения данных и их обработки\n",
    "def number_processor():\n",
    "    while True:\n",
    "        x = yield from number_provider\n",
    "        print('Got new number:', x)"
   ]
  },
  {
   "cell_type": "code",
   "execution_count": 44,
   "metadata": {
    "collapsed": false
   },
   "outputs": [
    {
     "name": "stdout",
     "output_type": "stream",
     "text": [
      "1\n",
      "3\n",
      "5\n",
      "7\n",
      "9\n",
      "2\n",
      "4\n",
      "6\n",
      "8\n"
     ]
    }
   ],
   "source": [
    "# в Python 3.3 появилась конструкция yield from:\n",
    "\n",
    "def odd_number_provider(n):\n",
    "    for i in range(1, n, 2):\n",
    "        yield i\n",
    "\n",
    "def even_number_provider(n):\n",
    "    for i in range(2, n, 2):\n",
    "        yield i\n",
    "        \n",
    "def number_generator(n):\n",
    "    yield from odd_number_provider(n)\n",
    "    yield from even_number_provider(n)\n",
    "    \n",
    "for number in number_generator(10):\n",
    "    print(number)"
   ]
  },
  {
   "cell_type": "code",
   "execution_count": 45,
   "metadata": {
    "collapsed": false
   },
   "outputs": [
    {
     "name": "stdout",
     "output_type": "stream",
     "text": [
      "6\n",
      "1\n",
      "7\n",
      "5\n"
     ]
    }
   ],
   "source": [
    "# еще пример генератора (генерирующего цифры числа)\n",
    "def generate_digits(x):\n",
    "    while x > 0:\n",
    "        yield x % 10\n",
    "        x = x // 10\n",
    "\n",
    "for digit in generate_digits(5716):\n",
    "    print(digit)"
   ]
  },
  {
   "cell_type": "code",
   "execution_count": 46,
   "metadata": {
    "collapsed": false
   },
   "outputs": [
    {
     "data": {
      "text/plain": [
       "[1, 2, 3, 4, 5]"
      ]
     },
     "execution_count": 46,
     "metadata": {},
     "output_type": "execute_result"
    }
   ],
   "source": [
    "l = [x for x in generate_digits(54321)]\n",
    "l"
   ]
  },
  {
   "cell_type": "code",
   "execution_count": 47,
   "metadata": {
    "collapsed": false
   },
   "outputs": [
    {
     "name": "stdout",
     "output_type": "stream",
     "text": [
      "[3, 2, 5]\n"
     ]
    }
   ],
   "source": [
    "i = generate_digits(4523)\n",
    "print([next(i), next(i), next(i)])"
   ]
  },
  {
   "cell_type": "code",
   "execution_count": 48,
   "metadata": {
    "collapsed": false
   },
   "outputs": [
    {
     "name": "stdout",
     "output_type": "stream",
     "text": [
      "(1, 2, 3)\n",
      "(1, 3, 2)\n",
      "(2, 1, 3)\n",
      "(2, 3, 1)\n",
      "(3, 1, 2)\n",
      "(3, 2, 1)\n"
     ]
    }
   ],
   "source": [
    "# еще пример генератора (генерирующего перестановки n чисел)\n",
    "import itertools\n",
    "\n",
    "def permute(n):\n",
    "    for perm in itertools.permutations(range(1, n+1)):\n",
    "        yield perm\n",
    "        \n",
    "for p in permute(3):\n",
    "    print(p)"
   ]
  },
  {
   "cell_type": "code",
   "execution_count": 49,
   "metadata": {
    "collapsed": false
   },
   "outputs": [
    {
     "data": {
      "text/plain": [
       "range(1, 5)"
      ]
     },
     "execution_count": 49,
     "metadata": {},
     "output_type": "execute_result"
    }
   ],
   "source": [
    "# еще раз о разнице между range в python2 и python3\n",
    "nums = range(1, 5)\n",
    "nums\n",
    "\n",
    "# в Python2 будет выведено [1, 2, 3, 4]\n",
    "# аналог: nums = xrange(1, 5)"
   ]
  },
  {
   "cell_type": "code",
   "execution_count": 50,
   "metadata": {
    "collapsed": false
   },
   "outputs": [
    {
     "data": {
      "text/plain": [
       "['__class__',\n",
       " '__contains__',\n",
       " '__delattr__',\n",
       " '__dir__',\n",
       " '__doc__',\n",
       " '__eq__',\n",
       " '__format__',\n",
       " '__ge__',\n",
       " '__getattribute__',\n",
       " '__getitem__',\n",
       " '__gt__',\n",
       " '__hash__',\n",
       " '__init__',\n",
       " '__iter__',\n",
       " '__le__',\n",
       " '__len__',\n",
       " '__lt__',\n",
       " '__ne__',\n",
       " '__new__',\n",
       " '__reduce__',\n",
       " '__reduce_ex__',\n",
       " '__repr__',\n",
       " '__reversed__',\n",
       " '__setattr__',\n",
       " '__sizeof__',\n",
       " '__str__',\n",
       " '__subclasshook__',\n",
       " 'count',\n",
       " 'index',\n",
       " 'start',\n",
       " 'step',\n",
       " 'stop']"
      ]
     },
     "execution_count": 50,
     "metadata": {},
     "output_type": "execute_result"
    }
   ],
   "source": [
    "# range - специфический итерируемый объект\n",
    "# с дополнительными возможностями (например, индексирование)\n",
    "dir(nums)"
   ]
  },
  {
   "cell_type": "markdown",
   "metadata": {},
   "source": [
    "### Декораторы"
   ]
  },
  {
   "cell_type": "code",
   "execution_count": 51,
   "metadata": {
    "collapsed": false
   },
   "outputs": [
    {
     "name": "stdout",
     "output_type": "stream",
     "text": [
      " ======= BEGIN \n",
      "OK\n",
      " ======= END \n"
     ]
    }
   ],
   "source": [
    "def decorate(f):\n",
    "    def new(*args, **kwargs):\n",
    "        print(\" ======= BEGIN \")\n",
    "        f(args[0])\n",
    "        print(\" ======= END \")\n",
    "\n",
    "    # декоратор возвращает функцию (callable)\n",
    "    return new\n",
    "\n",
    "# декорируем функцию\n",
    "@decorate\n",
    "def hello(x):\n",
    "    print(x)\n",
    "\n",
    "hello(\"OK\")\n",
    "\n",
    "# происходит такой вызов:\n",
    "# decorate(hello(\"OK\"))()"
   ]
  },
  {
   "cell_type": "code",
   "execution_count": null,
   "metadata": {
    "collapsed": true
   },
   "outputs": [],
   "source": []
  }
 ],
 "metadata": {
  "kernelspec": {
   "display_name": "Python [Root]",
   "language": "python",
   "name": "Python [Root]"
  },
  "language_info": {
   "codemirror_mode": {
    "name": "ipython",
    "version": 3
   },
   "file_extension": ".py",
   "mimetype": "text/x-python",
   "name": "python",
   "nbconvert_exporter": "python",
   "pygments_lexer": "ipython3",
   "version": "3.5.2"
  }
 },
 "nbformat": 4,
 "nbformat_minor": 0
}

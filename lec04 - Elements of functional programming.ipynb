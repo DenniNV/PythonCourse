{
 "cells": [
  {
   "cell_type": "markdown",
   "metadata": {},
   "source": [
    "### Лекция 4 - Элементы функционального программирования в Python\n",
    "\n",
    "- синтаксис функций\n",
    "- LEGB\n",
    "- лямбды\n",
    "- filter, map, zip\n",
    "- генераторы и итераторы\n",
    "- декораторы\n",
    "- модуль functools\n",
    "- модуль itertools (is back)"
   ]
  },
  {
   "cell_type": "code",
   "execution_count": 1,
   "metadata": {
    "collapsed": false
   },
   "outputs": [
    {
     "name": "stdout",
     "output_type": "stream",
     "text": [
      "73\n",
      "Hello\n"
     ]
    }
   ],
   "source": [
    "# пример простейших функций\n",
    "# (уже не ново, т.к. видели примеры в пакете algo)\n",
    "\n",
    "def foo(x):\n",
    "    return x + 10\n",
    "\n",
    "def bar():\n",
    "    print('Hello')\n",
    "    \n",
    "magic_number = foo(63)\n",
    "print(magic_number)\n",
    "\n",
    "bar()"
   ]
  },
  {
   "cell_type": "code",
   "execution_count": 25,
   "metadata": {
    "collapsed": false
   },
   "outputs": [
    {
     "data": {
      "text/plain": [
       "(25, -5, 150)"
      ]
     },
     "execution_count": 25,
     "metadata": {},
     "output_type": "execute_result"
    }
   ],
   "source": [
    "# функция может возвращать все что угодно:\n",
    "# удобно, т.к. можно вернуть несколько значений сразу\n",
    "# (по сути кортеж)\n",
    "def arithmetics(a, b):\n",
    "    ''' функция возвращает сумму, разность и произведение чисел '''\n",
    "    summa = a + b\n",
    "    diff = a - b\n",
    "    mult = a * b\n",
    "    return summa, diff, mult\n",
    "\n",
    "s = arithmetics(10, 15)\n",
    "s"
   ]
  },
  {
   "cell_type": "code",
   "execution_count": 31,
   "metadata": {
    "collapsed": false
   },
   "outputs": [
    {
     "data": {
      "text/plain": [
       "-2"
      ]
     },
     "execution_count": 31,
     "metadata": {},
     "output_type": "execute_result"
    }
   ],
   "source": [
    "_, difference, _ = arithmetics(7, 9)\n",
    "difference"
   ]
  },
  {
   "cell_type": "code",
   "execution_count": 2,
   "metadata": {
    "collapsed": false
   },
   "outputs": [
    {
     "name": "stdout",
     "output_type": "stream",
     "text": [
      "args:\n",
      "(2, 3, 'Hello')\n",
      "kwargs:\n",
      "{'par2': -1, 'par1': 0}\n"
     ]
    }
   ],
   "source": [
    "# Синтаксис *args, **kwargs:\n",
    "def avg(a, *args, **kwargs):\n",
    "    print('args:')\n",
    "    print(args)\n",
    "    print('kwargs:')\n",
    "    print(kwargs)\n",
    "    \n",
    "avg(1, 2, 3, 'Hello', par1=0, par2=-1)"
   ]
  },
  {
   "cell_type": "code",
   "execution_count": 19,
   "metadata": {
    "collapsed": false
   },
   "outputs": [
    {
     "name": "stdout",
     "output_type": "stream",
     "text": [
      "args:\n",
      "([1, 2, 3],)\n",
      "kwargs:\n",
      "{'par2': -1, 'par1': 0}\n"
     ]
    }
   ],
   "source": [
    "param_list = [1, 2, 3]\n",
    "avg('Hello!', param_list, par1=0, par2=-1)"
   ]
  },
  {
   "cell_type": "code",
   "execution_count": 20,
   "metadata": {
    "collapsed": false
   },
   "outputs": [
    {
     "name": "stdout",
     "output_type": "stream",
     "text": [
      "args:\n",
      "(1, 2, 3)\n",
      "kwargs:\n",
      "{'par2': -1, 'par1': 0}\n"
     ]
    }
   ],
   "source": [
    "avg('Hello!', *param_list, par1=0, par2=-1)"
   ]
  },
  {
   "cell_type": "code",
   "execution_count": 3,
   "metadata": {
    "collapsed": false
   },
   "outputs": [
    {
     "data": {
      "text/plain": [
       "['__annotations__',\n",
       " '__call__',\n",
       " '__class__',\n",
       " '__closure__',\n",
       " '__code__',\n",
       " '__defaults__',\n",
       " '__delattr__',\n",
       " '__dict__',\n",
       " '__dir__',\n",
       " '__doc__',\n",
       " '__eq__',\n",
       " '__format__',\n",
       " '__ge__',\n",
       " '__get__',\n",
       " '__getattribute__',\n",
       " '__globals__',\n",
       " '__gt__',\n",
       " '__hash__',\n",
       " '__init__',\n",
       " '__kwdefaults__',\n",
       " '__le__',\n",
       " '__lt__',\n",
       " '__module__',\n",
       " '__name__',\n",
       " '__ne__',\n",
       " '__new__',\n",
       " '__qualname__',\n",
       " '__reduce__',\n",
       " '__reduce_ex__',\n",
       " '__repr__',\n",
       " '__setattr__',\n",
       " '__sizeof__',\n",
       " '__str__',\n",
       " '__subclasshook__']"
      ]
     },
     "execution_count": 3,
     "metadata": {},
     "output_type": "execute_result"
    }
   ],
   "source": [
    "# очень важно: функция - это first-class объект!\n",
    "dir(avg)"
   ]
  },
  {
   "cell_type": "code",
   "execution_count": 4,
   "metadata": {
    "collapsed": false
   },
   "outputs": [
    {
     "name": "stdout",
     "output_type": "stream",
     "text": [
      "Qualified name: avg\n",
      "Vars: ('a', 'args', 'kwargs')\n"
     ]
    }
   ],
   "source": [
    "# что-нибудь поинстроспектируем:\n",
    "print('Qualified name:', avg.__qualname__)\n",
    "print('Vars:', avg.__code__.co_varnames)"
   ]
  },
  {
   "cell_type": "code",
   "execution_count": 5,
   "metadata": {
    "collapsed": false
   },
   "outputs": [
    {
     "data": {
      "text/plain": [
       "20"
      ]
     },
     "execution_count": 5,
     "metadata": {},
     "output_type": "execute_result"
    }
   ],
   "source": [
    "# эквивалентно foo(10)\n",
    "foo.__call__(10)"
   ]
  },
  {
   "cell_type": "code",
   "execution_count": 6,
   "metadata": {
    "collapsed": false
   },
   "outputs": [
    {
     "data": {
      "text/plain": [
       "110"
      ]
     },
     "execution_count": 6,
     "metadata": {},
     "output_type": "execute_result"
    }
   ],
   "source": [
    "# таким образом, функции можно присваивать переменным:\n",
    "cooler_foo = foo\n",
    "cooler_foo(100)"
   ]
  },
  {
   "cell_type": "code",
   "execution_count": 7,
   "metadata": {
    "collapsed": false
   },
   "outputs": [
    {
     "name": "stdout",
     "output_type": "stream",
     "text": [
      "foo 15\n",
      "factorial 120\n"
     ]
    }
   ],
   "source": [
    "# можно делать массив из функций\n",
    "# и последовательно выполнять их:\n",
    "import math\n",
    "\n",
    "funcs = [foo, math.factorial]\n",
    "\n",
    "for func in funcs:\n",
    "    print(func.__qualname__, func(5))"
   ]
  },
  {
   "cell_type": "code",
   "execution_count": 10,
   "metadata": {
    "collapsed": false
   },
   "outputs": [
    {
     "data": {
      "text/plain": [
       "[12, 2, 15]"
      ]
     },
     "execution_count": 10,
     "metadata": {},
     "output_type": "execute_result"
    }
   ],
   "source": [
    "# можно передавать функцию в функцию:\n",
    "def process_elementwise(seq, func):\n",
    "    new_seq = [func(s) for s in seq]\n",
    "    return new_seq\n",
    "\n",
    "words = ['Fundamentals', 'of', 'brainwashing...']\n",
    "process_elementwise(words, str.__len__)"
   ]
  },
  {
   "cell_type": "code",
   "execution_count": 13,
   "metadata": {
    "collapsed": false
   },
   "outputs": [
    {
     "data": {
      "text/plain": [
       "['FUNDAMENTALS', 'OF', 'BRAINWASHING...']"
      ]
     },
     "execution_count": 13,
     "metadata": {},
     "output_type": "execute_result"
    }
   ],
   "source": [
    "process_elementwise(words, str.upper)"
   ]
  },
  {
   "cell_type": "code",
   "execution_count": 16,
   "metadata": {
    "collapsed": false
   },
   "outputs": [
    {
     "data": {
      "text/plain": [
       "[1, 3, 5, 7, 9]"
      ]
     },
     "execution_count": 16,
     "metadata": {},
     "output_type": "execute_result"
    }
   ],
   "source": [
    "nums = [1, -3, 5, -7, -9]\n",
    "process_elementwise(nums, abs)"
   ]
  },
  {
   "cell_type": "code",
   "execution_count": 17,
   "metadata": {
    "collapsed": false
   },
   "outputs": [
    {
     "data": {
      "text/plain": [
       "[11, 7, 15, 3, 1]"
      ]
     },
     "execution_count": 17,
     "metadata": {},
     "output_type": "execute_result"
    }
   ],
   "source": [
    "process_elementwise(nums, foo)"
   ]
  },
  {
   "cell_type": "code",
   "execution_count": 8,
   "metadata": {
    "collapsed": false
   },
   "outputs": [
    {
     "name": "stdout",
     "output_type": "stream",
     "text": [
      "6\n"
     ]
    }
   ],
   "source": [
    "# Посчитаем сумму цифр числа в декларативном стиле:\n",
    "n = 123\n",
    "print(sum(map(int, str(n))))"
   ]
  },
  {
   "cell_type": "code",
   "execution_count": 33,
   "metadata": {
    "collapsed": false
   },
   "outputs": [
    {
     "data": {
      "text/plain": [
       "10"
      ]
     },
     "execution_count": 33,
     "metadata": {},
     "output_type": "execute_result"
    }
   ],
   "source": [
    "from functools import reduce\n",
    "\n",
    "s = range(1, 5)\n",
    "reduce(lambda x, y: x + y, s)"
   ]
  },
  {
   "cell_type": "markdown",
   "metadata": {},
   "source": [
    "### Итераторы и генераторы:\n",
    "- итератор - это концепция (любой объект, имеющий методы ```next()``` и ```__iter__()```)\n",
    "- генератор - языковое средство (объект вокруг функции с ```yield```)\n",
    "\n",
    "Любой генератор является итератором, но не наоборот."
   ]
  },
  {
   "cell_type": "code",
   "execution_count": 37,
   "metadata": {
    "collapsed": false
   },
   "outputs": [
    {
     "name": "stdout",
     "output_type": "stream",
     "text": [
      "6\n",
      "1\n",
      "7\n",
      "5\n"
     ]
    }
   ],
   "source": [
    "# еще пример генератора (генерирующего цифры числа)\n",
    "def generate_digits(x):\n",
    "    while x > 0:\n",
    "        yield x % 10\n",
    "        x = x // 10\n",
    "\n",
    "for digit in generate_digits(5716):\n",
    "    print(digit)"
   ]
  },
  {
   "cell_type": "code",
   "execution_count": 39,
   "metadata": {
    "collapsed": false
   },
   "outputs": [
    {
     "data": {
      "text/plain": [
       "[1, 2, 3, 4, 5]"
      ]
     },
     "execution_count": 39,
     "metadata": {},
     "output_type": "execute_result"
    }
   ],
   "source": [
    "l = [x for x in generate_digits(54321)]\n",
    "l"
   ]
  },
  {
   "cell_type": "code",
   "execution_count": 40,
   "metadata": {
    "collapsed": false
   },
   "outputs": [
    {
     "name": "stdout",
     "output_type": "stream",
     "text": [
      "[3, 2, 5]\n"
     ]
    }
   ],
   "source": [
    "i = generate_digits(4523)\n",
    "print([next(i), next(i), next(i)])"
   ]
  },
  {
   "cell_type": "code",
   "execution_count": 35,
   "metadata": {
    "collapsed": false
   },
   "outputs": [
    {
     "name": "stdout",
     "output_type": "stream",
     "text": [
      " ======= BEGIN \n",
      "OK\n",
      " ======= END \n"
     ]
    }
   ],
   "source": [
    "# Декораторы\n",
    "\n",
    "def decorate(f):\n",
    "    def new(*args, **kwargs):\n",
    "        print(\" ======= BEGIN \")\n",
    "        f(args[0])\n",
    "        print(\" ======= END \")\n",
    "\n",
    "    # декоратор возвращает функцию (callable)\n",
    "    return new\n",
    "\n",
    "# декорируем функцию\n",
    "@decorate\n",
    "def hello(x):\n",
    "    print(x)\n",
    "\n",
    "hello(\"OK\")\n",
    "\n",
    "# происходит такой вызов:\n",
    "# decorate(hello(\"OK\"))()"
   ]
  },
  {
   "cell_type": "code",
   "execution_count": null,
   "metadata": {
    "collapsed": true
   },
   "outputs": [],
   "source": []
  }
 ],
 "metadata": {
  "kernelspec": {
   "display_name": "Python [Root]",
   "language": "python",
   "name": "Python [Root]"
  },
  "language_info": {
   "codemirror_mode": {
    "name": "ipython",
    "version": 3
   },
   "file_extension": ".py",
   "mimetype": "text/x-python",
   "name": "python",
   "nbconvert_exporter": "python",
   "pygments_lexer": "ipython3",
   "version": "3.5.2"
  }
 },
 "nbformat": 4,
 "nbformat_minor": 0
}

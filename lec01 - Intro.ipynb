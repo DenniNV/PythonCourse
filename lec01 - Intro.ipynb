{
 "cells": [
  {
   "cell_type": "markdown",
   "metadata": {},
   "source": [
    "## Лекция 1 - Знакомство с Python\n",
    "### Установка Python / anaconda, Python 2.7 и Python 3.5 \n",
    "### IDE: Spyder, PyCharm\n",
    "### Интерпретатор(ы) Python\n",
    "### Python Virtual Machine"
   ]
  },
  {
   "cell_type": "markdown",
   "metadata": {},
   "source": [
    "### Синтаксис Python"
   ]
  },
  {
   "cell_type": "code",
   "execution_count": 1,
   "metadata": {
    "collapsed": false
   },
   "outputs": [
    {
     "name": "stdout",
     "output_type": "stream",
     "text": [
      "Hello\n",
      "What is your name?\n",
      "Joe\n",
      "Nice to meet you, Joe\n"
     ]
    }
   ],
   "source": [
    "# Это комментарий\n",
    "\n",
    "''' И это\n",
    "    комментарий (но особенный, об этом - в другой лекции) '''\n",
    "\n",
    "# работа с консолью\n",
    "print('Hello')\n",
    "\n",
    "# в Python 2 можно писать без скобок:\n",
    "# print 'Hello'\n",
    "\n",
    "name = input('What is your name?\\n')\n",
    "print('Nice to meet you, ' + name)\n",
    "\n",
    "# в Python 2 использовать raw_input:\n",
    "# name = raw_input('What is your name?')"
   ]
  },
  {
   "cell_type": "code",
   "execution_count": 2,
   "metadata": {
    "collapsed": false
   },
   "outputs": [
    {
     "name": "stdout",
     "output_type": "stream",
     "text": [
      "42\n",
      "<class 'int'>\n",
      "Now I am a string!\n",
      "<class 'str'>\n"
     ]
    }
   ],
   "source": [
    "# Python - язык со строгой динамической типизацией:\n",
    "x = 42\n",
    "print(x)\n",
    "print(type(x))\n",
    "\n",
    "x = 'Now I am a string!'\n",
    "print(x)\n",
    "print(type(x))\n",
    "\n",
    "# Типы данных (и к ним еще будем возвращаться):\n",
    "# int, long, str, complex, float, bool, list, tuple, dict, etc."
   ]
  },
  {
   "cell_type": "markdown",
   "metadata": {},
   "source": [
    "Все дальнейшее изложение относится к реализации CPython.\n",
    "\n",
    "В Python любая переменная - по сути указатель на блок памяти. Этот блок называется объектом, и в нем хранится (как минимум) счетчик ссылок на объект refcount и тип данных объекта."
   ]
  },
  {
   "cell_type": "code",
   "execution_count": 3,
   "metadata": {
    "collapsed": false
   },
   "outputs": [
    {
     "name": "stdout",
     "output_type": "stream",
     "text": [
      "x=15\n",
      "id: 1664178672\n",
      "y=42\n",
      "id: 1664179104\n",
      "x=25\n",
      "id: 1664178832\n",
      "y=42\n",
      "id: 1664179104\n"
     ]
    }
   ],
   "source": [
    "# ниже выделяется ячейка с содержимым 42, и х ссылается на нее\n",
    "x = 42\n",
    "# у указывает на ту же область памяти, что и х\n",
    "y = x\n",
    "# после следующей строчки х будет указывать на другой объект:\n",
    "x = 15\n",
    "# а у - по-прежнему на 42\n",
    "print('x=', x, sep='')       # угадайте что такое sep :)\n",
    "print('id:', id(x))\n",
    "print('y=', y, sep='')\n",
    "print('id:', id(y))\n",
    "\n",
    "# в этой строчке вычислится результат,\n",
    "# выделится новая память, и х будет ссылаться на нее\n",
    "x += 10\n",
    "print('x=', x, sep='')\n",
    "print('id:', id(x))\n",
    "print('y=', y, sep='')\n",
    "print('id:', id(y))\n",
    "\n",
    "# а объекты с refcount=0 очистятся сборщиком мусора Python\n",
    "# (впрочем, не всегда!) (см. ниже)"
   ]
  },
  {
   "cell_type": "code",
   "execution_count": 4,
   "metadata": {
    "collapsed": false
   },
   "outputs": [
    {
     "name": "stdout",
     "output_type": "stream",
     "text": [
      "x == y : True\n",
      "x == z : False\n"
     ]
    }
   ],
   "source": [
    "# Равенство значений переменных проверяем оператором ==\n",
    "x = 73   # любимое число доктора Шелдона Купера\n",
    "y = x\n",
    "z = 'one more object'\n",
    "\n",
    "print('x == y :', x == y)\n",
    "print('x == z :', x == z)"
   ]
  },
  {
   "cell_type": "code",
   "execution_count": 5,
   "metadata": {
    "collapsed": false
   },
   "outputs": [
    {
     "name": "stdout",
     "output_type": "stream",
     "text": [
      "x и у ссылаются на одно и то же: True\n",
      "x и z ссылаются на одно и то же: False\n",
      "x и z ссылаются на одно и то же: False\n"
     ]
    }
   ],
   "source": [
    "# Равенство ссылок проверяем с помощью is\n",
    "print('x и у ссылаются на одно и то же:', x is y)\n",
    "print('x и z ссылаются на одно и то же:', x is z)\n",
    "# эквивалентно\n",
    "print('x и z ссылаются на одно и то же:', id(x) == id(z))"
   ]
  },
  {
   "cell_type": "code",
   "execution_count": 6,
   "metadata": {
    "collapsed": false
   },
   "outputs": [
    {
     "name": "stdout",
     "output_type": "stream",
     "text": [
      "x - int? True\n",
      "x - int? True\n"
     ]
    }
   ],
   "source": [
    "# isinstance\n",
    "# идиоматичный способ проверки типа переменной\n",
    "print('x - int?', isinstance(x, int))\n",
    "# сработает и такой код:\n",
    "print('x - int?', type(x) is int)"
   ]
  },
  {
   "cell_type": "code",
   "execution_count": 7,
   "metadata": {
    "collapsed": false
   },
   "outputs": [
    {
     "name": "stdout",
     "output_type": "stream",
     "text": [
      "True\n"
     ]
    }
   ],
   "source": [
    "# специальное значение None \n",
    "obj = None\n",
    "# предпочтительный способ проверки на None\n",
    "print(obj is None)"
   ]
  },
  {
   "cell_type": "code",
   "execution_count": 8,
   "metadata": {
    "collapsed": false
   },
   "outputs": [
    {
     "name": "stdout",
     "output_type": "stream",
     "text": [
      "False\n",
      "False\n",
      "False\n",
      "True\n"
     ]
    }
   ],
   "source": [
    "# Способы проверки на True / False в порядке роста предпочтительности\n",
    "flag = True\n",
    "print(flag == False)\n",
    "print(flag is False)\n",
    "# так лучше всего:\n",
    "print(not flag)\n",
    "print(flag)"
   ]
  },
  {
   "cell_type": "code",
   "execution_count": 9,
   "metadata": {
    "collapsed": false
   },
   "outputs": [
    {
     "name": "stdout",
     "output_type": "stream",
     "text": [
      "x == y : True\n",
      "x и у ссылаются на одно и то же: True\n"
     ]
    }
   ],
   "source": [
    "# А теперь немного питонячьей магии (CPython):\n",
    "x = 73\n",
    "y = 73\n",
    "\n",
    "print('x == y :', x == y)\n",
    "print('x и у ссылаются на одно и то же:', x is y)"
   ]
  },
  {
   "cell_type": "markdown",
   "metadata": {},
   "source": [
    "Во втором случае выводится True, хотя мы ожидаем False (ведь указатель у не был явно \"проброшен\" на х).\n",
    "\n",
    "Что же happened?\n",
    "CPython кэширует в памяти объекты базовых типов (в частности, числа от <b>-5</b> до <b>256</b> (так решили разработчики)).\n",
    "Поэтому при установке значения y=73 интерпретатор установит ссылку на уже имеющуюся ячейку с содержимым 73.\n",
    "\n",
    "Рассмотрим пример с числами больше 256:"
   ]
  },
  {
   "cell_type": "code",
   "execution_count": 10,
   "metadata": {
    "collapsed": false
   },
   "outputs": [
    {
     "name": "stdout",
     "output_type": "stream",
     "text": [
      "\n",
      "x == y : True\n",
      "x и у ссылаются на одно и то же: False\n"
     ]
    }
   ],
   "source": [
    "x = 273\n",
    "y = 273\n",
    "\n",
    "print()\n",
    "print('x == y :', x == y)\n",
    "print('x и у ссылаются на одно и то же:', x is y)"
   ]
  },
  {
   "cell_type": "markdown",
   "metadata": {},
   "source": [
    "Таким образом, ячейка с содержимым 73 никогда не очистится сборщиком мусора в CPython, т.к. с точки зрения интерпретатора она должна быть \"готова\" в любой момент принять на себя ссылку при установке значения другой переменной. \n",
    "\n",
    "Существует также оператор del:\n",
    "\n",
    "del x\n",
    "\n",
    "В результате данного вызова переменная x будет не определена, а в соответствующем объекте будет уменьшен refcount на 1.\n",
    "\n",
    "Более подробную и точную информацию по внутренностям CPython можно найти в интернете, например:\n",
    "\n",
    "https://habrahabr.ru/company/buruki/blog/189986/"
   ]
  },
  {
   "cell_type": "markdown",
   "metadata": {},
   "source": [
    "### Базовые конструкции: ветки, циклы, исключения"
   ]
  },
  {
   "cell_type": "markdown",
   "metadata": {},
   "source": [
    "NB. Обратите внимание на отступы (одна из отличительных особенностей синтаксиса Python)"
   ]
  },
  {
   "cell_type": "code",
   "execution_count": 11,
   "metadata": {
    "collapsed": false
   },
   "outputs": [
    {
     "name": "stdout",
     "output_type": "stream",
     "text": [
      "How old are you?\n",
      "20\n",
      "Finally: you'll always see this message\n",
      "Next year you'll be 21 years old\n",
      "Next year you'll be 21 years old\n"
     ]
    }
   ],
   "source": [
    "# вводим строку, пытаемся преобразовать в int;\n",
    "# если не получается, ловим исключение, а также\n",
    "# демонстрируем работу блока finally\n",
    "# (подробнее об исключениях - в другой лекции)\n",
    "try:\n",
    "    age = int(input('How old are you?\\n'))\n",
    "except ValueError as e:\n",
    "    print('Wrong age!', e)\n",
    "    # exit()\n",
    "finally:\n",
    "    # этот код выполнится, даже если исключение будет перехвачено\n",
    "    # (перед exit)\n",
    "    print(\"Finally: you'll always see this message\")\n",
    "\n",
    "age += 1\n",
    "\n",
    "# возможен С-подобный синтаксис форматирования строки\n",
    "print(\"Next year you'll be %d years old\" % age)\n",
    "# далее будем придерживаться, в основном, такого синтаксиса:\n",
    "print(\"Next year you'll be {} years old\".format(age))\n",
    "\n",
    "# пример генерации исключения (raise):\n",
    "# if age > 90:\n",
    "#     raise ValueError"
   ]
  },
  {
   "cell_type": "code",
   "execution_count": 12,
   "metadata": {
    "collapsed": false
   },
   "outputs": [
    {
     "name": "stdout",
     "output_type": "stream",
     "text": [
      "You're young and beautiful\n"
     ]
    }
   ],
   "source": [
    "# примеры ветвления\n",
    "if age < 25:\n",
    "    print(\"You're young and beautiful\")\n",
    "else:\n",
    "    print(\"Don't worry!\")"
   ]
  },
  {
   "cell_type": "code",
   "execution_count": 13,
   "metadata": {
    "collapsed": false
   },
   "outputs": [
    {
     "name": "stdout",
     "output_type": "stream",
     "text": [
      "1\n",
      "2\n",
      "3\n",
      "4\n",
      "5\n"
     ]
    }
   ],
   "source": [
    "# пример цикла while:\n",
    "i = 1\n",
    "while i <= 5:\n",
    "    print(i)\n",
    "    i += 1"
   ]
  },
  {
   "cell_type": "code",
   "execution_count": 14,
   "metadata": {
    "collapsed": false
   },
   "outputs": [
    {
     "name": "stdout",
     "output_type": "stream",
     "text": [
      "1\n",
      "2\n",
      "3\n",
      "4\n",
      "5\n"
     ]
    }
   ],
   "source": [
    "# примеры цикла for:\n",
    "for i in [1, 2, 3, 4, 5]:\n",
    "    print(i)"
   ]
  },
  {
   "cell_type": "code",
   "execution_count": 15,
   "metadata": {
    "collapsed": false,
    "scrolled": true
   },
   "outputs": [
    {
     "name": "stdout",
     "output_type": "stream",
     "text": [
      "h\n",
      "cpp\n",
      "hpp\n",
      "c\n"
     ]
    }
   ],
   "source": [
    "extensions = ['h', 'cpp', 'hpp', 'c']\n",
    "for ext in extensions:\n",
    "    print(ext)"
   ]
  },
  {
   "cell_type": "code",
   "execution_count": 16,
   "metadata": {
    "collapsed": false,
    "scrolled": true
   },
   "outputs": [
    {
     "name": "stdout",
     "output_type": "stream",
     "text": [
      "1) h\n",
      "2) cpp\n",
      "3) hpp\n",
      "4) c\n"
     ]
    }
   ],
   "source": [
    "# Если на каждой итерации нужны индексы, можно это сделать так:\n",
    "for i in range(len(extensions)):\n",
    "    print('{}) {}'.format(i + 1, extensions[i]))"
   ]
  },
  {
   "cell_type": "code",
   "execution_count": 17,
   "metadata": {
    "collapsed": false,
    "scrolled": true
   },
   "outputs": [
    {
     "name": "stdout",
     "output_type": "stream",
     "text": [
      "1) h\n",
      "2) cpp\n",
      "3) hpp\n",
      "4) c\n"
     ]
    }
   ],
   "source": [
    "# но лучше в Python-стиле:\n",
    "for i, ext in enumerate(extensions, 1):\n",
    "    print('{}) {}'.format(i, ext))"
   ]
  },
  {
   "cell_type": "code",
   "execution_count": 18,
   "metadata": {
    "collapsed": false
   },
   "outputs": [
    {
     "name": "stdout",
     "output_type": "stream",
     "text": [
      "Среди расширений нет питоновского\n"
     ]
    }
   ],
   "source": [
    "# цикл for-else:\n",
    "for ext in extensions:\n",
    "    if ext == 'py':\n",
    "        break\n",
    "else:\n",
    "    print('Среди расширений нет питоновского')"
   ]
  },
  {
   "cell_type": "code",
   "execution_count": 19,
   "metadata": {
    "collapsed": false
   },
   "outputs": [
    {
     "name": "stdout",
     "output_type": "stream",
     "text": [
      "How old are you?\n",
      "3s\n",
      "Wrong age!  invalid literal for int() with base 10: '3s'\n",
      "Finally: you'll always see this message\n"
     ]
    }
   ],
   "source": [
    "# ветку else можно писать и в конструкциях исключений:\n",
    "# таким образом можно \"разгрузить\" блок try\n",
    "try:\n",
    "    age = int(input('How old are you?\\n'))\n",
    "except ValueError as e:\n",
    "    print('Wrong age! ', e)\n",
    "    # exit()\n",
    "else:\n",
    "    print('Thank you! Your age: {}'.format(age))\n",
    "finally:\n",
    "    # этот код выполнится, даже если исключение будет перехвачено\n",
    "    # (перед exit)\n",
    "    print(\"Finally: you'll always see this message\")"
   ]
  },
  {
   "cell_type": "markdown",
   "metadata": {},
   "source": [
    "В примерах выше мы использовали некоторые глобальные функции Python:\n",
    "* `id()` - получение идентификатора объекта памяти\n",
    "* `range()` - получение некоторой перечисляемой сущности (об этом позже). Например, range(5) в Python2 вернет список [0,1,2,3,4], в Python3 - т.н. генератор\n",
    "* `len()` - получение размера коллекции\n",
    "* `enumerate()` - функция, позволяющая получать на каждой итерации цикла как сам элемент, так и его индекс\n",
    "\n",
    "Еще примеры:"
   ]
  },
  {
   "cell_type": "code",
   "execution_count": 20,
   "metadata": {
    "collapsed": false
   },
   "outputs": [
    {
     "name": "stdout",
     "output_type": "stream",
     "text": [
      "5\n",
      "2\n",
      "60\n"
     ]
    }
   ],
   "source": [
    "# Понятный код\n",
    "print(max(2, 5))\n",
    "print(min([5, 3, 2, 7]))\n",
    "print(sum([10, 20, 30]))"
   ]
  },
  {
   "cell_type": "code",
   "execution_count": 21,
   "metadata": {
    "collapsed": false
   },
   "outputs": [
    {
     "name": "stdout",
     "output_type": "stream",
     "text": [
      "|-5| = 5\n",
      "3^5 = 243\n",
      "17 / 10 = 1.7\n",
      "17 // 10 = 1\n",
      "17 % 10 = 7\n",
      "divmod(17, 10) = (1, 7)\n",
      "round(3.7) = 4\n"
     ]
    }
   ],
   "source": [
    "# Понятный код-2. Возвращение кэпа\n",
    "print('|-5| =', abs(-5))\n",
    "print('3^5 =', pow(3, 5))\n",
    "print('17 / 10 =', 17 / 10)\n",
    "print('17 // 10 =', 17 // 10)\n",
    "print('17 % 10 =', 17 % 10)\n",
    "print('divmod(17, 10) =', divmod(17, 10))\n",
    "print('round(3.7) =', round(3.7))"
   ]
  },
  {
   "cell_type": "code",
   "execution_count": 22,
   "metadata": {
    "collapsed": false
   },
   "outputs": [
    {
     "name": "stdout",
     "output_type": "stream",
     "text": [
      "C\n",
      "67\n"
     ]
    }
   ],
   "source": [
    "# Понятный код-3. Перезагрузка\n",
    "code = 67\n",
    "print(chr(code))\n",
    "print(ord('C'))"
   ]
  },
  {
   "cell_type": "code",
   "execution_count": 23,
   "metadata": {
    "collapsed": false
   },
   "outputs": [
    {
     "name": "stdout",
     "output_type": "stream",
     "text": [
      "[1, 3, 5, 7, 8, 10]\n",
      "[4, 3, 2, 1]\n"
     ]
    }
   ],
   "source": [
    "# данные операции работают со списками \n",
    "# (код станет окончательно понятен в следующей лекции)\n",
    "print(sorted([10, 5, 3, 7, 1, 8]))\n",
    "print(list(reversed([1, 2, 3, 4])))"
   ]
  },
  {
   "cell_type": "code",
   "execution_count": 24,
   "metadata": {
    "collapsed": false
   },
   "outputs": [
    {
     "name": "stdout",
     "output_type": "stream",
     "text": [
      "Frequency: 11025 Hz. You can hear it!\n"
     ]
    }
   ],
   "source": [
    "# интересная фича пайтона: цепочки логических операторов\n",
    "freq = 11025\n",
    "if 20 <= freq <= 20000:\n",
    "    print('Frequency: {} Hz. You can hear it!'.format(freq))"
   ]
  },
  {
   "cell_type": "code",
   "execution_count": 25,
   "metadata": {
    "collapsed": false
   },
   "outputs": [
    {
     "name": "stdout",
     "output_type": "stream",
     "text": [
      "CD\n"
     ]
    }
   ],
   "source": [
    "# условное присваивание (тернарный оператор)\n",
    "mb_size = 690\n",
    "disc_type = 'CD' if mb_size <= 700 else 'DVD'\n",
    "print(disc_type)"
   ]
  },
  {
   "cell_type": "code",
   "execution_count": 26,
   "metadata": {
    "collapsed": false
   },
   "outputs": [
    {
     "name": "stdout",
     "output_type": "stream",
     "text": [
      "DVD\n"
     ]
    }
   ],
   "source": [
    "# можно писать цепочки таких операторов\n",
    "mb_size = 4500\n",
    "disc_type = 'CD' if mb_size <= 700 else 'DVD' if mb_size <= 4700 else '?'\n",
    "print(disc_type)"
   ]
  },
  {
   "cell_type": "code",
   "execution_count": 27,
   "metadata": {
    "collapsed": false
   },
   "outputs": [
    {
     "name": "stdout",
     "output_type": "stream",
     "text": [
      "13289718947328473487238748923748723847294325\n",
      "<class 'int'>\n"
     ]
    }
   ],
   "source": [
    "# отметим, что в Python поддерживается длинная арифметика:\n",
    "x = 13289718947328473487238748923748723847294324\n",
    "x += 1\n",
    "print(x)\n",
    "print(type(x))"
   ]
  },
  {
   "cell_type": "code",
   "execution_count": 28,
   "metadata": {
    "collapsed": false
   },
   "outputs": [
    {
     "name": "stdout",
     "output_type": "stream",
     "text": [
      "<class 'complex'>\n",
      "(2+0.5j)\n",
      "(2-0.5j)\n",
      "[2.0; 0.5]\n"
     ]
    }
   ],
   "source": [
    "# ...и комплексные числа:\n",
    "x = 2 + 0.5j\n",
    "print(type(x))\n",
    "print(x)\n",
    "print(x.conjugate())\n",
    "print('[{}; {}]'.format(x.real, x.imag))"
   ]
  },
  {
   "cell_type": "code",
   "execution_count": 29,
   "metadata": {
    "collapsed": false
   },
   "outputs": [
    {
     "name": "stdout",
     "output_type": "stream",
     "text": [
      "100! = 93326215443944152681699238856266700490715968264381621468592963895217599993229915608941463976156518286253697920827223758251185210916864000000000000000000000000\n",
      "Количество нулей в конце 100! = 24\n"
     ]
    }
   ],
   "source": [
    "# Финальный case-study:\n",
    "# вычислим 100!\n",
    "# 100! = 1 * 2 * 3 * 4 * 5 * ... * 100\n",
    "\n",
    "factorial = 1\n",
    "for i in range(1, 101):\n",
    "    factorial *= i\n",
    "\n",
    "print('100! =', factorial)\n",
    "\n",
    "# найдем количество нулей в конце числа 100!\n",
    "s = str(factorial)\n",
    "zerocount = 0\n",
    "\n",
    "# перебрать элементы коллекции задом наперед\n",
    "# (идиоматичный вариант)\n",
    "for i in reversed(s): \n",
    "    if i != '0':\n",
    "        break\n",
    "    zerocount += 1\n",
    "\n",
    "# можно еще так, например (разговор о срезах еще впереди)\n",
    "# for i in s[::-1]:\n",
    "#     ...\n",
    "\n",
    "print('Количество нулей в конце 100! = {}'.format(zerocount))"
   ]
  },
  {
   "cell_type": "markdown",
   "metadata": {},
   "source": [
    "## Самостоятельно:"
   ]
  },
  {
   "cell_type": "code",
   "execution_count": 30,
   "metadata": {
    "collapsed": false
   },
   "outputs": [
    {
     "name": "stdout",
     "output_type": "stream",
     "text": [
      "Help on class float in module builtins:\n",
      "\n",
      "class float(object)\n",
      " |  float(x) -> floating point number\n",
      " |  \n",
      " |  Convert a string or number to a floating point number, if possible.\n",
      " |  \n",
      " |  Methods defined here:\n",
      " |  \n",
      " |  __abs__(self, /)\n",
      " |      abs(self)\n",
      " |  \n",
      " |  __add__(self, value, /)\n",
      " |      Return self+value.\n",
      " |  \n",
      " |  __bool__(self, /)\n",
      " |      self != 0\n",
      " |  \n",
      " |  __divmod__(self, value, /)\n",
      " |      Return divmod(self, value).\n",
      " |  \n",
      " |  __eq__(self, value, /)\n",
      " |      Return self==value.\n",
      " |  \n",
      " |  __float__(self, /)\n",
      " |      float(self)\n",
      " |  \n",
      " |  __floordiv__(self, value, /)\n",
      " |      Return self//value.\n",
      " |  \n",
      " |  __format__(...)\n",
      " |      float.__format__(format_spec) -> string\n",
      " |      \n",
      " |      Formats the float according to format_spec.\n",
      " |  \n",
      " |  __ge__(self, value, /)\n",
      " |      Return self>=value.\n",
      " |  \n",
      " |  __getattribute__(self, name, /)\n",
      " |      Return getattr(self, name).\n",
      " |  \n",
      " |  __getformat__(...) from builtins.type\n",
      " |      float.__getformat__(typestr) -> string\n",
      " |      \n",
      " |      You probably don't want to use this function.  It exists mainly to be\n",
      " |      used in Python's test suite.\n",
      " |      \n",
      " |      typestr must be 'double' or 'float'.  This function returns whichever of\n",
      " |      'unknown', 'IEEE, big-endian' or 'IEEE, little-endian' best describes the\n",
      " |      format of floating point numbers used by the C type named by typestr.\n",
      " |  \n",
      " |  __getnewargs__(...)\n",
      " |  \n",
      " |  __gt__(self, value, /)\n",
      " |      Return self>value.\n",
      " |  \n",
      " |  __hash__(self, /)\n",
      " |      Return hash(self).\n",
      " |  \n",
      " |  __int__(self, /)\n",
      " |      int(self)\n",
      " |  \n",
      " |  __le__(self, value, /)\n",
      " |      Return self<=value.\n",
      " |  \n",
      " |  __lt__(self, value, /)\n",
      " |      Return self<value.\n",
      " |  \n",
      " |  __mod__(self, value, /)\n",
      " |      Return self%value.\n",
      " |  \n",
      " |  __mul__(self, value, /)\n",
      " |      Return self*value.\n",
      " |  \n",
      " |  __ne__(self, value, /)\n",
      " |      Return self!=value.\n",
      " |  \n",
      " |  __neg__(self, /)\n",
      " |      -self\n",
      " |  \n",
      " |  __new__(*args, **kwargs) from builtins.type\n",
      " |      Create and return a new object.  See help(type) for accurate signature.\n",
      " |  \n",
      " |  __pos__(self, /)\n",
      " |      +self\n",
      " |  \n",
      " |  __pow__(self, value, mod=None, /)\n",
      " |      Return pow(self, value, mod).\n",
      " |  \n",
      " |  __radd__(self, value, /)\n",
      " |      Return value+self.\n",
      " |  \n",
      " |  __rdivmod__(self, value, /)\n",
      " |      Return divmod(value, self).\n",
      " |  \n",
      " |  __repr__(self, /)\n",
      " |      Return repr(self).\n",
      " |  \n",
      " |  __rfloordiv__(self, value, /)\n",
      " |      Return value//self.\n",
      " |  \n",
      " |  __rmod__(self, value, /)\n",
      " |      Return value%self.\n",
      " |  \n",
      " |  __rmul__(self, value, /)\n",
      " |      Return value*self.\n",
      " |  \n",
      " |  __round__(...)\n",
      " |      Return the Integral closest to x, rounding half toward even.\n",
      " |      When an argument is passed, work like built-in round(x, ndigits).\n",
      " |  \n",
      " |  __rpow__(self, value, mod=None, /)\n",
      " |      Return pow(value, self, mod).\n",
      " |  \n",
      " |  __rsub__(self, value, /)\n",
      " |      Return value-self.\n",
      " |  \n",
      " |  __rtruediv__(self, value, /)\n",
      " |      Return value/self.\n",
      " |  \n",
      " |  __setformat__(...) from builtins.type\n",
      " |      float.__setformat__(typestr, fmt) -> None\n",
      " |      \n",
      " |      You probably don't want to use this function.  It exists mainly to be\n",
      " |      used in Python's test suite.\n",
      " |      \n",
      " |      typestr must be 'double' or 'float'.  fmt must be one of 'unknown',\n",
      " |      'IEEE, big-endian' or 'IEEE, little-endian', and in addition can only be\n",
      " |      one of the latter two if it appears to match the underlying C reality.\n",
      " |      \n",
      " |      Override the automatic determination of C-level floating point type.\n",
      " |      This affects how floats are converted to and from binary strings.\n",
      " |  \n",
      " |  __str__(self, /)\n",
      " |      Return str(self).\n",
      " |  \n",
      " |  __sub__(self, value, /)\n",
      " |      Return self-value.\n",
      " |  \n",
      " |  __truediv__(self, value, /)\n",
      " |      Return self/value.\n",
      " |  \n",
      " |  __trunc__(...)\n",
      " |      Return the Integral closest to x between 0 and x.\n",
      " |  \n",
      " |  as_integer_ratio(...)\n",
      " |      float.as_integer_ratio() -> (int, int)\n",
      " |      \n",
      " |      Return a pair of integers, whose ratio is exactly equal to the original\n",
      " |      float and with a positive denominator.\n",
      " |      Raise OverflowError on infinities and a ValueError on NaNs.\n",
      " |      \n",
      " |      >>> (10.0).as_integer_ratio()\n",
      " |      (10, 1)\n",
      " |      >>> (0.0).as_integer_ratio()\n",
      " |      (0, 1)\n",
      " |      >>> (-.25).as_integer_ratio()\n",
      " |      (-1, 4)\n",
      " |  \n",
      " |  conjugate(...)\n",
      " |      Return self, the complex conjugate of any float.\n",
      " |  \n",
      " |  fromhex(...) from builtins.type\n",
      " |      float.fromhex(string) -> float\n",
      " |      \n",
      " |      Create a floating-point number from a hexadecimal string.\n",
      " |      >>> float.fromhex('0x1.ffffp10')\n",
      " |      2047.984375\n",
      " |      >>> float.fromhex('-0x1p-1074')\n",
      " |      -5e-324\n",
      " |  \n",
      " |  hex(...)\n",
      " |      float.hex() -> string\n",
      " |      \n",
      " |      Return a hexadecimal representation of a floating-point number.\n",
      " |      >>> (-0.1).hex()\n",
      " |      '-0x1.999999999999ap-4'\n",
      " |      >>> 3.14159.hex()\n",
      " |      '0x1.921f9f01b866ep+1'\n",
      " |  \n",
      " |  is_integer(...)\n",
      " |      Return True if the float is an integer.\n",
      " |  \n",
      " |  ----------------------------------------------------------------------\n",
      " |  Data descriptors defined here:\n",
      " |  \n",
      " |  imag\n",
      " |      the imaginary part of a complex number\n",
      " |  \n",
      " |  real\n",
      " |      the real part of a complex number\n",
      "\n"
     ]
    }
   ],
   "source": [
    "# Пример справки help()\n",
    "help(float)"
   ]
  },
  {
   "cell_type": "code",
   "execution_count": 31,
   "metadata": {
    "collapsed": false
   },
   "outputs": [
    {
     "name": "stdout",
     "output_type": "stream",
     "text": [
      "Help on built-in function round in module builtins:\n",
      "\n",
      "round(...)\n",
      "    round(number[, ndigits]) -> number\n",
      "    \n",
      "    Round a number to a given precision in decimal digits (default 0 digits).\n",
      "    This returns an int when called with one argument, otherwise the\n",
      "    same type as the number. ndigits may be negative.\n",
      "\n",
      "2516.77\n",
      "2500.0\n"
     ]
    }
   ],
   "source": [
    "# в справке указываются можно найти интересные фичи!\n",
    "# например, при округлении можно задавать отрицательное число\n",
    "help(round)\n",
    "\n",
    "n = 2516.7655412\n",
    "print(round(n, 2))\n",
    "print(round(n, -2))"
   ]
  },
  {
   "cell_type": "markdown",
   "metadata": {},
   "source": [
    "### PEP8\n",
    "https://www.python.org/dev/peps/pep-0008/\n",
    "\n",
    "Проштудировать самый главный style guide Python-кода\n",
    "\n",
    "```\n",
    "pip install pep8\n",
    "pip install autopep8\n",
    "```"
   ]
  },
  {
   "cell_type": "code",
   "execution_count": 32,
   "metadata": {
    "collapsed": false
   },
   "outputs": [
    {
     "name": "stdout",
     "output_type": "stream",
     "text": [
      "The Zen of Python, by Tim Peters\n",
      "\n",
      "Beautiful is better than ugly.\n",
      "Explicit is better than implicit.\n",
      "Simple is better than complex.\n",
      "Complex is better than complicated.\n",
      "Flat is better than nested.\n",
      "Sparse is better than dense.\n",
      "Readability counts.\n",
      "Special cases aren't special enough to break the rules.\n",
      "Although practicality beats purity.\n",
      "Errors should never pass silently.\n",
      "Unless explicitly silenced.\n",
      "In the face of ambiguity, refuse the temptation to guess.\n",
      "There should be one-- and preferably only one --obvious way to do it.\n",
      "Although that way may not be obvious at first unless you're Dutch.\n",
      "Now is better than never.\n",
      "Although never is often better than *right* now.\n",
      "If the implementation is hard to explain, it's a bad idea.\n",
      "If the implementation is easy to explain, it may be a good idea.\n",
      "Namespaces are one honking great idea -- let's do more of those!\n"
     ]
    }
   ],
   "source": [
    "# дзен питона\n",
    "import this"
   ]
  }
 ],
 "metadata": {
  "anaconda-cloud": {},
  "kernelspec": {
   "display_name": "Python [Root]",
   "language": "python",
   "name": "Python [Root]"
  },
  "language_info": {
   "codemirror_mode": {
    "name": "ipython",
    "version": 3
   },
   "file_extension": ".py",
   "mimetype": "text/x-python",
   "name": "python",
   "nbconvert_exporter": "python",
   "pygments_lexer": "ipython3",
   "version": "3.5.2"
  }
 },
 "nbformat": 4,
 "nbformat_minor": 0
}

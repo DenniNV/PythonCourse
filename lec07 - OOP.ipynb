{
 "cells": [
  {
   "cell_type": "markdown",
   "metadata": {},
   "source": [
    "### Лекция 7 - ООП в Python\n",
    "- особенности инкапсуляции, наследования и полиморфизма в Python\n",
    "- метаклассы\n",
    "- динамическое создание классов\n",
    "- MRO\n",
    "- пользовательские исключения\n",
    "- менеджеры контекста\n",
    "- глубокое копирование\n",
    "- декораторы через классы\n",
    "- класс enum\n",
    "- модуль attrs"
   ]
  },
  {
   "cell_type": "markdown",
   "metadata": {},
   "source": [
    "<center>Что хотим сделать</center>\n",
    "```\n",
    "interface IParser\n",
    "{\n",
    "\tvoid Load();\n",
    "\tstring Parse();\t\n",
    "}\n",
    "\n",
    "class XMLParser : IParser\n",
    "{\n",
    "\tvoid Load() { ... }\n",
    "\tstring Parse() { ... }\n",
    "}\n",
    "\n",
    "class JSONParser : IParser\n",
    "{\n",
    "\tvoid Load() { ... }\n",
    "\tstring Parse() { ... }\n",
    "}\n",
    "```"
   ]
  },
  {
   "cell_type": "code",
   "execution_count": 8,
   "metadata": {
    "collapsed": false
   },
   "outputs": [
    {
     "name": "stdout",
     "output_type": "stream",
     "text": [
      "Filesize is too big: 34227 bytes\n"
     ]
    }
   ],
   "source": [
    "# ==========================================================\n",
    "#              ПОЛЬЗОВАТЕЛЬСКИЕ ИСКЛЮЧЕНИЯ\n",
    "# ==========================================================\n",
    "\n",
    "class FileTooBigError(Exception):\n",
    "\n",
    "    def __init__(self, filesize):\n",
    "        super(FileTooBigError, self).__init__(\n",
    "            'Filesize is too big: {} bytes'.format(filesize))\n",
    "        self.filesize = filesize\n",
    "\n",
    "    # если __str__() должен возвращать просто сообщение message, \n",
    "    # то метод можно не определять \n",
    "    # (по умолчанию, строковое представление Exception - и так message)\n",
    "    # def __str__(self):\n",
    "    #    return self.message\n",
    "\n",
    "\n",
    "import os\n",
    "\n",
    "fsize = os.path.getsize(r'lec01 - Intro.ipynb')\n",
    "\n",
    "try:\n",
    "    if fsize > 4096:\n",
    "        raise FileTooBigError(fsize)\n",
    "except FileTooBigError as err:\n",
    "    print(err)"
   ]
  },
  {
   "cell_type": "code",
   "execution_count": 13,
   "metadata": {
    "collapsed": false
   },
   "outputs": [
    {
     "name": "stdout",
     "output_type": "stream",
     "text": [
      "Log file is ready\n",
      "Ping failed! Wrong IP format: f.2.3.4\n",
      "Log file is closed\n"
     ]
    }
   ],
   "source": [
    "# ==========================================================\n",
    "#                      МЕНЕДЖЕРЫ КОНТЕКСТА\n",
    "# ==========================================================\n",
    "# ПЕРВЫЙ СПОСОБ:\n",
    "\n",
    "class PingContext(object):\n",
    "\n",
    "    def __enter__(self):\n",
    "        self.log = open(r'data\\log.txt', 'wt')\n",
    "        print('Log file is ready')\n",
    "        return self\n",
    "\n",
    "    def write(self, text):\n",
    "        self.log.write(text)\n",
    "    \n",
    "    def __exit__(self, exc_type, exc_value, exc_traceback):\n",
    "        if exc_value != None:\n",
    "            print('Ping failed! Wrong IP format: %s' % exc_value)\n",
    "            # подчистить ресурсы, которыми владеет контекст\n",
    "        self.log.close()\n",
    "        print('Log file is closed')    \n",
    "        return True\n",
    "        #return False          # если False, то заново бросается Exception\n",
    "                               # (и надо будет перехватывать во внешнем коде)\n",
    "\n",
    "\n",
    "IPs = ['127.0.0.1', '0.0.0.0', '1.1.1.1', '10.0.0.1', 'f.2.3.4', '192.168.0.102']\n",
    "\n",
    "# регулярка для простейшей проверки валидности IP-адреса\n",
    "import re\n",
    "regex = re.compile(r'\\d{1,3}\\.\\d{1,3}\\.\\d{1,3}\\.\\d{1,3}')\n",
    "\n",
    "with PingContext() as log:\n",
    "    # проходим по всем записям из строк IP-адресов\n",
    "    for IP in IPs:\n",
    "        if not re.match(regex, IP):\n",
    "            raise ValueError(IP)\n",
    "        # пинг IP-адреса ...\n",
    "        # и запись в лог\n",
    "        log.write(IP + '\\n')"
   ]
  },
  {
   "cell_type": "code",
   "execution_count": 3,
   "metadata": {
    "collapsed": false
   },
   "outputs": [
    {
     "name": "stdout",
     "output_type": "stream",
     "text": [
      "Log file is ready\n",
      "Ping failed! Wrong IP format: f.2.3.4\n",
      "Log file is closed\n"
     ]
    }
   ],
   "source": [
    "# === ВТОРОЙ СПОСОБ:\n",
    "\n",
    "from contextlib import contextmanager\n",
    "\n",
    "@contextmanager\n",
    "def ping_log():\n",
    "    # __enter__\n",
    "    print('Log file is ready')\n",
    "    log = open(r'data\\log.txt', 'wt')\n",
    "\n",
    "    # actions\n",
    "    try:\n",
    "        yield log\n",
    "\n",
    "    # __exit__    \n",
    "    except ValueError as err:\n",
    "        print('Ping failed! Wrong IP format: %s' % err)\n",
    "    finally:\n",
    "        log.close()\n",
    "        print('Log file is closed')\n",
    "\n",
    "\n",
    "regex = re.compile(r'\\d{1,3}\\.\\d{1,3}\\.\\d{1,3}\\.\\d{1,3}')\n",
    "\n",
    "IPs = ['127.0.0.1', '0.0.0.0', '1.1.1.1', '10.0.0.1', 'f.2.3.4', '192.168.0.102']\n",
    "\n",
    "with ping_log() as log:\n",
    "    for IP in IPs:\n",
    "        if not re.match(regex, IP):\n",
    "            raise ValueError(IP)\n",
    "        log.write(IP + '\\n')"
   ]
  },
  {
   "cell_type": "code",
   "execution_count": 1,
   "metadata": {
    "collapsed": false
   },
   "outputs": [
    {
     "name": "stdout",
     "output_type": "stream",
     "text": [
      "[1, 'Hello', [3, 4, 5], (2, [7, 8, 9], 'x'), 12]\n",
      "[1, 'World', [3, 4, 5], (2, [7, 8, 9], 'x'), 12]\n"
     ]
    }
   ],
   "source": [
    "# демо глубокого копирования стандартных типов\n",
    "import copy\n",
    "\n",
    "l1 = [1, \"Hello\", [3,4,5], (2, [7,8,9], 'x'), 12]\n",
    "\n",
    "l2 = copy.deepcopy(l1)\n",
    "l2[1] = \"World\"\n",
    "\n",
    "print(l1)\n",
    "print(l2)"
   ]
  },
  {
   "cell_type": "code",
   "execution_count": 9,
   "metadata": {
    "collapsed": false
   },
   "outputs": [
    {
     "name": "stdout",
     "output_type": "stream",
     "text": [
      "3/5\n",
      "3/5\n"
     ]
    }
   ],
   "source": [
    "# демо глубокого копирования объектов классов\n",
    "from fractions import Fraction\n",
    "\n",
    "f1 = Fraction(3, 5)\n",
    "f2 = copy.deepcopy(f1)  # дефолтная реализация;\n",
    "                        # ее можно переопределить в классе Fraction: \n",
    "                        # метод __deepcopy__(self, f)\n",
    "print(f1)\n",
    "print(f2)"
   ]
  },
  {
   "cell_type": "code",
   "execution_count": 10,
   "metadata": {
    "collapsed": false
   },
   "outputs": [
    {
     "data": {
      "text/plain": [
       "['__abs__',\n",
       " '__abstractmethods__',\n",
       " '__add__',\n",
       " '__bool__',\n",
       " '__ceil__',\n",
       " '__class__',\n",
       " '__complex__',\n",
       " '__copy__',\n",
       " '__deepcopy__',\n",
       " '__delattr__',\n",
       " '__dir__',\n",
       " '__divmod__',\n",
       " '__doc__',\n",
       " '__eq__',\n",
       " '__float__',\n",
       " '__floor__',\n",
       " '__floordiv__',\n",
       " '__format__',\n",
       " '__ge__',\n",
       " '__getattribute__',\n",
       " '__gt__',\n",
       " '__hash__',\n",
       " '__init__',\n",
       " '__le__',\n",
       " '__lt__',\n",
       " '__mod__',\n",
       " '__module__',\n",
       " '__mul__',\n",
       " '__ne__',\n",
       " '__neg__',\n",
       " '__new__',\n",
       " '__pos__',\n",
       " '__pow__',\n",
       " '__radd__',\n",
       " '__rdivmod__',\n",
       " '__reduce__',\n",
       " '__reduce_ex__',\n",
       " '__repr__',\n",
       " '__rfloordiv__',\n",
       " '__rmod__',\n",
       " '__rmul__',\n",
       " '__round__',\n",
       " '__rpow__',\n",
       " '__rsub__',\n",
       " '__rtruediv__',\n",
       " '__setattr__',\n",
       " '__sizeof__',\n",
       " '__slots__',\n",
       " '__str__',\n",
       " '__sub__',\n",
       " '__subclasshook__',\n",
       " '__truediv__',\n",
       " '__trunc__',\n",
       " '_abc_cache',\n",
       " '_abc_negative_cache',\n",
       " '_abc_negative_cache_version',\n",
       " '_abc_registry',\n",
       " '_add',\n",
       " '_denominator',\n",
       " '_div',\n",
       " '_mul',\n",
       " '_numerator',\n",
       " '_operator_fallbacks',\n",
       " '_richcmp',\n",
       " '_sub',\n",
       " 'conjugate',\n",
       " 'denominator',\n",
       " 'from_decimal',\n",
       " 'from_float',\n",
       " 'imag',\n",
       " 'limit_denominator',\n",
       " 'numerator',\n",
       " 'real']"
      ]
     },
     "execution_count": 10,
     "metadata": {},
     "output_type": "execute_result"
    }
   ],
   "source": [
    "dir(f1)"
   ]
  },
  {
   "cell_type": "code",
   "execution_count": null,
   "metadata": {
    "collapsed": true
   },
   "outputs": [],
   "source": []
  }
 ],
 "metadata": {
  "anaconda-cloud": {},
  "kernelspec": {
   "display_name": "Python [Root]",
   "language": "python",
   "name": "Python [Root]"
  },
  "language_info": {
   "codemirror_mode": {
    "name": "ipython",
    "version": 3
   },
   "file_extension": ".py",
   "mimetype": "text/x-python",
   "name": "python",
   "nbconvert_exporter": "python",
   "pygments_lexer": "ipython3",
   "version": "3.5.2"
  }
 },
 "nbformat": 4,
 "nbformat_minor": 0
}
